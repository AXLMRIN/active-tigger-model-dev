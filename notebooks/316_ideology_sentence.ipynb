{
 "cells": [
  {
   "cell_type": "markdown",
   "metadata": {},
   "source": [
    "# OUT OF DATE"
   ]
  },
  {
   "cell_type": "markdown",
   "metadata": {},
   "source": [
    "# Parametres"
   ]
  },
  {
   "cell_type": "code",
   "execution_count": 47,
   "metadata": {},
   "outputs": [],
   "source": [
    "from torch.cuda import is_available as gpu_available\n",
    "from torch import float32, Tensor\n",
    "FILENAME : str = \"../data/316_ideological_book_corpus/ibc.csv\"\n",
    "\n",
    "seed : int = 42\n",
    "\n",
    "model_name : str = \"answerdotai/ModernBERT-base\"; embedding_dim : int = 768\n",
    "att_implementation : str = \"flash_attention_2\" if gpu_available() else \"sdpa\"\n",
    "device = \"cuda\" if gpu_available() else \"cpu\"\n",
    "float_dtype = float32\n",
    "\n",
    "from sklearn.metrics import f1_score, roc_auc_score, accuracy_score\n",
    "def classifier_metrics(y_true : Tensor, y_pred : Tensor) -> dict[str:float]:\n",
    "    y_true = y_true.to(bool, copy = True)\n",
    "    y_pred = y_pred.to(bool, copy = True)\n",
    "    \n",
    "    return {\n",
    "        'f1': f1_score(y_true=y_true, y_pred=y_pred, average='micro'),\n",
    "        'roc_auc': roc_auc_score(y_true, y_pred, average = 'micro').item(),\n",
    "        'accuracy': accuracy_score(y_true, y_pred)\n",
    "    }\n",
    "\n",
    "# from torch.nn import Threshold; threshold : Threshold = Threshold(0.4,0)\n",
    "from torch import where as torch_where\n",
    "def threshold(probabilities : Tensor, thresh_value : float = 0.4) -> Tensor :\n",
    "    return torch_where(probabilities > 0.4,Tensor([1.0]).to(device),\n",
    "                       Tensor([0.0]).to(device)).to(float_dtype)\n",
    "\n",
    "n_epoch : int = 2\n",
    "\n",
    "# Load parameters saved as json #TODO is it really necessary ??\n",
    "import json\n",
    "with open(\"../configs/316_ideology_sentence.json\", \"r\") as file : \n",
    "    parameters = json.load(file)"
   ]
  },
  {
   "cell_type": "markdown",
   "metadata": {},
   "source": [
    "# Exploration des données"
   ]
  },
  {
   "cell_type": "code",
   "execution_count": 48,
   "metadata": {},
   "outputs": [
    {
     "name": "stdout",
     "output_type": "stream",
     "text": [
      "Nombre de lignes dans le dataset :  4326\n"
     ]
    },
    {
     "data": {
      "image/png": "[encoded data removed]",
      "text/plain": [
       "<Figure size 640x480 with 1 Axes>"
      ]
     },
     "metadata": {},
     "output_type": "display_data"
    }
   ],
   "source": [
    "import pandas as pd\n",
    "\n",
    "df = pd.read_csv(FILENAME).\\\n",
    "        astype({\n",
    "            \"sentence\" : \"str\",\n",
    "            \"leaning\" : \"str\"\n",
    "        }).\\\n",
    "        rename({\n",
    "            \"sentence\" : \"in\",\n",
    "            \"leaning\" : \"out\"\n",
    "        }, axis = 1)\n",
    "\n",
    "len_in_col = (\"Taille des phrases en entrée en nombre de caractères — avant\"\n",
    "              \"prétraitement\")\n",
    "df[len_in_col] = df[\"in\"].apply(len)\n",
    "print(\"Nombre de lignes dans le dataset : \", len(df))\n",
    "_ = df.hist(len_in_col)"
   ]
  },
  {
   "cell_type": "code",
   "execution_count": 49,
   "metadata": {},
   "outputs": [
    {
     "name": "stdout",
     "output_type": "stream",
     "text": [
      "Categories : Liberal, Conservative, Neutral \n",
      "\n"
     ]
    }
   ],
   "source": [
    "LABEL : list[str] = list(set(df[\"out\"])); n_labels : int = len(LABEL)\n",
    "ID2LABEL : dict[int:str] = {i : cat for i,cat in enumerate(LABEL)}\n",
    "LABEL2ID : dict[str:int] = {cat:i for i,cat in enumerate(LABEL)}\n",
    "print(\"Categories : \" + \", \".join([cat for cat in LABEL]),\"\\n\")"
   ]
  },
  {
   "cell_type": "code",
   "execution_count": 50,
   "metadata": {},
   "outputs": [
    {
     "name": "stdout",
     "output_type": "stream",
     "text": [
      "| Label           || Amount     || Conservative    | Liberal         | Neutral         |\n",
      "----------------------------------------------------------------------------------------\n",
      "| Conservative    || 1701       || 1.0             | 1.19            | 0.35            |\n",
      "| Liberal         || 2025       || 0.84            | 1.0             | 0.29            |\n",
      "| Neutral         || 600        || 2.83            | 3.37            | 1.0             |\n",
      "----------------------------------------------------------------------------------------\n"
     ]
    }
   ],
   "source": [
    "class_size = df.groupby(\"out\").size()\n",
    "def dot2f(x):\n",
    "    return int(x * 100) / 100\n",
    "def div(col1, col2) : \n",
    "    return dot2f(class_size[col1] / class_size[col2])\n",
    "\n",
    "print(f'| {\"Label\":<15} || {\"Amount\":<10} || {\"Conservative\":<15} | {\"Liberal\":<15} | {\"Neutral\" : <15} |')\n",
    "print(\"-\" * 88)\n",
    "print(f'| {\"Conservative\":<15} || {class_size[\"Conservative\"]:<10} || {div(\"Conservative\",\"Conservative\"):<15} | {div(\"Liberal\",\"Conservative\"):<15} | {div(\"Neutral\",\"Conservative\"): <15} |')\n",
    "print(f'| {\"Liberal\":<15} || {class_size[\"Liberal\"]:<10} || {div(\"Conservative\",\"Liberal\"):<15} | {div(\"Liberal\",\"Liberal\"):<15} | {div(\"Neutral\",\"Liberal\"): <15} |')\n",
    "print(f'| {\"Neutral\":<15} || {class_size[\"Neutral\"]:<10} || {div(\"Conservative\",\"Neutral\"):<15} | {div(\"Liberal\",\"Neutral\"):<15} | {div(\"Neutral\",\"Neutral\"): <15} |')\n",
    "print(\"-\" * 88)\n",
    "\n",
    "del df, class_size, dot2f, div"
   ]
  },
  {
   "cell_type": "markdown",
   "metadata": {},
   "source": [
    "# Entraînement d'un classifieur"
   ]
  },
  {
   "cell_type": "markdown",
   "metadata": {},
   "source": [
    "## Load the dataset"
   ]
  },
  {
   "cell_type": "code",
   "execution_count": 51,
   "metadata": {},
   "outputs": [],
   "source": [
    "from datasets import load_dataset, DatasetDict\n",
    "\n",
    "ds_original = load_dataset(\"csv\", data_files = {\"whole\" :FILENAME})[\"whole\"]\n",
    "# split the dateaset into (test) and (train, validation)\n",
    "ds_temp = ds_original.train_test_split(test_size = 0.15,shuffle = True, seed = seed)\n",
    "# split the dataset into (train) and (validation)\n",
    "ds_temp2 = ds_temp[\"train\"].train_test_split(train_size = 0.82,shuffle = True, seed = seed)\n",
    "\n",
    "ds = DatasetDict({\n",
    "    \"train\" : ds_temp2[\"train\"],\n",
    "    \"validation\" : ds_temp2[\"test\"],\n",
    "    \"test\" : ds_temp[\"test\"]\n",
    "})\n",
    "\n",
    "del ds_temp, ds_temp2"
   ]
  },
  {
   "cell_type": "code",
   "execution_count": 52,
   "metadata": {},
   "outputs": [
    {
     "name": "stdout",
     "output_type": "stream",
     "text": [
      "Répartition des datasets : \n",
      "|     Dataset    |  Taille  |Proportion (%)|\n",
      "-------------------------------------------\n",
      "| Train          |   3015   |      69      |\n",
      "| Validation     |   662    |      15      |\n",
      "| Test           |   649    |      15      | \n"
     ]
    }
   ],
   "source": [
    "def proportion(name):\n",
    "    return int(\n",
    "        100 * len(ds[name]) / len(ds_original)\n",
    "    )\n",
    "print(\"Répartition des datasets : \")\n",
    "print(f'| {\"Dataset\":^15}|{\"Taille\":^10}|{\"Proportion\":<7} (%)|')\n",
    "print(\"-\" * 43)\n",
    "print(f'| {\"Train\":<15}|{len(ds[\"train\"]):^10}|{proportion(\"train\"):^14}|')\n",
    "print(f'| {\"Validation\":<15}|{len(ds[\"validation\"]):^10}|{proportion(\"validation\"):^14}|')\n",
    "print(f'| {\"Test\":<15}|{len(ds[\"test\"]):^10}|{proportion(\"test\"):^14}| ')"
   ]
  },
  {
   "cell_type": "markdown",
   "metadata": {},
   "source": [
    "## Preprocess"
   ]
  },
  {
   "cell_type": "code",
   "execution_count": 53,
   "metadata": {},
   "outputs": [],
   "source": [
    "def preprocess(row):\n",
    "    \"\"\"For now we only uncapitalised the sentences\"\"\"\n",
    "    row[\"sentence\"] = row[\"sentence\"].lower()\n",
    "    row[\"leaning\"] = LABEL2ID[row[\"leaning\"]]\n",
    "    return row\n",
    "\n",
    "ds = ds.map(preprocess)"
   ]
  },
  {
   "cell_type": "code",
   "execution_count": 54,
   "metadata": {},
   "outputs": [
    {
     "name": "stdout",
     "output_type": "stream",
     "text": [
      "text :  at one point an angry aunt dahlia looks `` like a tomato struggling for self-expression '' ( not bad ) ; at another she shies `` like a startled mustang '' ( not good ) .\n",
      "leaning :  1  -  Conservative\n",
      "- - - - - - - - - - - - - - - - - - - - - - - - - - - - - - - - - - - - - - - - - - - - - - - - - - \n",
      "text :  and for good reason : everybody in washington knows that , if more money is needed , the federal reserve , in cahoots with the u.s. treasury , can create it out of thin air simply by issuing more debt .\n",
      "leaning :  1  -  Conservative\n",
      "- - - - - - - - - - - - - - - - - - - - - - - - - - - - - - - - - - - - - - - - - - - - - - - - - - \n",
      "text :  at some point , the economic costs of deteriorating forests , dying lakes , damaged crops , respiratory illnesses , increasing temperatures , rising sea levels , and other destructive effects of fossil fuel use become unacceptably high .\n",
      "leaning :  0  -  Liberal\n"
     ]
    }
   ],
   "source": [
    "print(\"text : \", ds[\"train\"][\"sentence\"][0])\n",
    "print(\"leaning : \", ds[\"train\"][\"leaning\"][0], \" - \", ID2LABEL[ds[\"train\"][\"leaning\"][0]])\n",
    "print(\"- \" * 50)\n",
    "print(\"text : \", ds[\"test\"][\"sentence\"][0])\n",
    "print(\"leaning : \", ds[\"test\"][\"leaning\"][0], \" - \", ID2LABEL[ds[\"test\"][\"leaning\"][0]])\n",
    "print(\"- \" * 50)\n",
    "print(\"text : \", ds[\"validation\"][\"sentence\"][0])\n",
    "print(\"leaning : \", ds[\"validation\"][\"leaning\"][0], \" - \", ID2LABEL[ds[\"validation\"][\"leaning\"][0]])"
   ]
  },
  {
   "cell_type": "markdown",
   "metadata": {},
   "source": [
    "# Loading the model "
   ]
  },
  {
   "cell_type": "code",
   "execution_count": 55,
   "metadata": {},
   "outputs": [],
   "source": [
    "from transformers import AutoTokenizer, ModernBertModel\n",
    "\n",
    "#TODO is there a way of changing the dtype ?\n",
    "base_model = ModernBertModel.from_pretrained(model_name,\n",
    "                attn_implementation = att_implementation,\n",
    "                num_labels = n_labels,\n",
    "                id2label = ID2LABEL,\n",
    "                label2id = LABEL2ID)\n",
    "tokenizer = AutoTokenizer.from_pretrained(model_name)"
   ]
  },
  {
   "cell_type": "markdown",
   "metadata": {},
   "source": [
    "# Create a custom classifier\n",
    "\n",
    "Size of the input / output :\n",
    "- Input : `(parameters[\"DataLoader\"][\"batch_size\"], 768)`; 768 being the dimension of the embedding\n",
    "- Ouput : `(parameters[\"DataLoader\"][\"batch_size\"])`"
   ]
  },
  {
   "cell_type": "code",
   "execution_count": 133,
   "metadata": {},
   "outputs": [],
   "source": [
    "from torch import nn\n",
    "from torch import dtype as torch_dtype\n",
    "\n",
    "class IdeologySentenceClassifier(nn.Module):\n",
    "    def __init__(self, in_features : int, out_features : int, \n",
    "                 hidden_layers : int | None = None, \n",
    "                 hidden_layers_size : int | None = None,\n",
    "                 device : str = \"cpu\", dtype : torch_dtype = float32) -> None:\n",
    "        super().__init__()\n",
    "\n",
    "        self.__in_features : int = in_features\n",
    "        self.__out_features : int = out_features\n",
    "        self.__hidden_layers : int|None = hidden_layers\n",
    "        self.__hidden_layers_size : int|None = hidden_layers_size\n",
    "        self.__device : str = device\n",
    "        self.__dtype : torch_dtype = dtype\n",
    "\n",
    "        self.__with_hidden_layers = isinstance(self.__hidden_layers, int) &\\\n",
    "            isinstance(self.__hidden_layers_size, int)\n",
    "\n",
    "        if self.__with_hidden_layers : \n",
    "            self.FirstLayer = nn.Linear(in_features=self.__in_features, \n",
    "                out_features= self.__hidden_layers_size, bias = True, \n",
    "                device = self.__device, dtype = self.__dtype)\n",
    "            self.HiddenLayers = [\n",
    "                nn.Linear(in_features = self.__hidden_layers_size, \n",
    "                    out_features= self.__hidden_layers_size, bias = True, \n",
    "                    device = self.__device, dtype = self.__dtype\n",
    "                ) for _ in range(self.__hidden_layers)\n",
    "            ]\n",
    "            self.LastLayer = nn.Linear(in_features = self.__hidden_layers_size, \n",
    "                out_features= self.__out_features, bias = True, \n",
    "                device = self.__device, dtype = self.__dtype)\n",
    "            \n",
    "            self.__n_parameters : int = 0 +\\\n",
    "                (self.__in_features + 1) * self.__hidden_layers_size +\\\n",
    "                self.__hidden_layers * (self.__hidden_layers_size + 1) *\\\n",
    "                     self.__hidden_layers_size +\\\n",
    "                (self.__hidden_layers_size + 1) * self.__out_features\n",
    "\n",
    "        else : \n",
    "            self.FirstLayer = nn.Linear(in_features=self.__in_features, \n",
    "                out_features= self.__out_features, bias = True, \n",
    "                device = self.__device, dtype = self.__dtype)\n",
    "            \n",
    "            self.__n_parameters : int = (self.__in_features + 1) * self.__out_features\n",
    "\n",
    "    def forward(self, input : Tensor) -> Tensor:\n",
    "        if self.__with_hidden_layers : \n",
    "            y_hidden : Tensor = self.FirstLayer(input)\n",
    "            for hidden_layer in self.HiddenLayers : \n",
    "                y_hidden = hidden_layer(y_hidden)\n",
    "            return self.LastLayer(y_hidden)\n",
    "        else : \n",
    "            return self.FirstLayer(input)\n",
    "        \n",
    "    def __str__(self) -> str : \n",
    "        return (\n",
    "            f\"IdeologySentenceClassifier(nn.Module) :\\n\"\n",
    "            f\"On {self.__device}, type : {self.__dtype}\\n\"\n",
    "            f\"\\t- dimension of  input : {self.__in_features}\\n\"\n",
    "            f\"\\t- dimension of output : {self.__out_features}\\n\"\n",
    "            f\"\\t- with {self.__hidden_layers} hidden layers of dimension {self.__hidden_layers_size}\\n\"\n",
    "            f\"\\n\"\n",
    "            f\"Total number of parameters : {self.__n_parameters}\"\n",
    "        )"
   ]
  },
  {
   "cell_type": "code",
   "execution_count": 134,
   "metadata": {},
   "outputs": [
    {
     "name": "stdout",
     "output_type": "stream",
     "text": [
      "IdeologySentenceClassifier(nn.Module) :\n",
      "On cpu, type : torch.float32\n",
      "\t- dimension of  input : 768\n",
      "\t- dimension of output : 3\n",
      "\t- with None hidden layers of dimension None\n",
      "\n",
      "Total number of parameters : 2307\n"
     ]
    }
   ],
   "source": [
    "isc = IdeologySentenceClassifier(\n",
    "    in_features = embedding_dim,out_features = n_labels, \n",
    "    hidden_layers = None, hidden_layers_size = None,\n",
    "    device = device, dtype = float_dtype)\n",
    "print(isc)"
   ]
  },
  {
   "cell_type": "markdown",
   "metadata": {},
   "source": [
    "## Train the classifier "
   ]
  },
  {
   "cell_type": "code",
   "execution_count": 138,
   "metadata": {},
   "outputs": [],
   "source": [
    "from torch import sigmoid, empty, no_grad\n",
    "from torch.nn import BCEWithLogitsLoss\n",
    "from torch.optim import Adam\n",
    "from torch.utils.data import DataLoader\n",
    "from transformers.tokenization_utils_base import BatchEncoding\n",
    "from transformers.modeling_outputs import BaseModelOutput\n",
    "from time import time\n",
    "\n",
    "# Create the instances of the loss function and the optimizer\n",
    "loss_fn = BCEWithLogitsLoss()\n",
    "optimizer = Adam(isc.parameters(), lr = 1e-2)\n",
    "\n",
    "def train_loop(batch_iterable : DataLoader) -> list[dict] :\n",
    "    iteration_start : float = time()\n",
    "    sum_loss : float = 0.\n",
    "    metrics_averaged : dict[str:float] = {\n",
    "        'f1': 0.,'roc_auc': 0.,'accuracy' : 0.\n",
    "    }\n",
    "    for batch in batch_iterable:\n",
    "        # Prepare the loop\n",
    "        optimizer.zero_grad()\n",
    "        \n",
    "        # Embedd the input\n",
    "        encoded : BatchEncoding = tokenizer(batch[\"sentence\"], **parameters[\"tokenizing\"])\n",
    "        #The BaseModelOutput.last_hidden_state is a torch.Tensor of dimension\n",
    "        # (batch_size, seq_lengthm, embedding_dim)\n",
    "        # because it holds the embedding of the batch_size sentences, each of lenght \n",
    "        # seq_lengthm and the dimension of each embedding is embedding_dim (=768)\n",
    "        # Although, we are classifying on the [CLS] token, so we only keep the first item\n",
    "        # (Hence the [:,0,:]) and reshaping it to (batch_size, embedding_dim) for the\n",
    "        # ics to accept it\n",
    "        embeddings : BaseModelOutput = base_model(**encoded).\\\n",
    "                        last_hidden_state[:,0,:].\\\n",
    "                        view(parameters[\"DataLoader\"][\"batch_size\"],embedding_dim ).\\\n",
    "                        to(float_dtype).to(device)\n",
    "        # Proceed to the classification\n",
    "        logits : Tensor = isc(embeddings) # (batch_size, n_labels)\n",
    "        probabilities : Tensor = sigmoid(logits) # (batch_size, n_labels) NOTE à check parce que c'est pas impossible que le problème vienne d'ici\n",
    "        prediction : Tensor = threshold(probabilities)\n",
    "        # Evaluate the loss and metrics\n",
    "        target : Tensor = Tensor(\n",
    "            [\n",
    "                [j == logit for j in range(n_labels)]\n",
    "                for logit in batch[\"leaning\"]\n",
    "            ], device=device\n",
    "        )   \n",
    "        loss = loss_fn(probabilities, target)\n",
    "        print(\"Loss : \",loss)\n",
    "        sum_loss += loss.item()\n",
    "        metrics : dict[str:float] = classifier_metrics(target, prediction)\n",
    "        for key in metrics : metrics_averaged[key] += metrics[key]\n",
    "\n",
    "        # Back propagation\n",
    "        loss.backward()\n",
    "\n",
    "        # optimizer step\n",
    "        optimizer.step()\n",
    "\n",
    "    return {\n",
    "        \"iteration_time\" : time() - iteration_start,\n",
    "        \"loss\" : sum_loss / len(batch_iterable),\n",
    "        **{\n",
    "            key : metrics_averaged[key] / len(batch_iterable)\n",
    "            for key in metrics_averaged\n",
    "        }\n",
    "    }\n",
    "        \n",
    "def eval_loop(batch_iterable):\n",
    "    # Prepare the loop\n",
    "    iteration_start : float = time()\n",
    "    sum_loss : float = 0.\n",
    "    metrics_averaged : dict[str:float] = {\n",
    "        'f1': 0.,'roc_auc': 0.,'accuracy' : 0.\n",
    "    }\n",
    "\n",
    "    with no_grad():\n",
    "        for batch in batch_iterable:\n",
    "            # Embedd the input\n",
    "            encoded : BatchEncoding = tokenizer(batch[\"sentence\"], \n",
    "                                                **parameters[\"tokenizing\"])\n",
    "            embeddings : BaseModelOutput = base_model(**encoded).\\\n",
    "                            last_hidden_state[:,0,:].\\\n",
    "                            view(parameters[\"DataLoader\"][\"batch_size\"],embedding_dim ).\\\n",
    "                            to(float_dtype).to(device)\n",
    "\n",
    "            # Proceed to the classification\n",
    "            probabilities : Tensor = sigmoid(isc(embeddings)) # (batch_size, n_labels)\n",
    "            prediction : Tensor = threshold(probabilities)\n",
    "\n",
    "            # Evaluate the loss and metrics\n",
    "            target : Tensor = Tensor(\n",
    "                [\n",
    "                    [j == logit for j in range(n_labels)]\n",
    "                    for logit in batch[\"leaning\"]\n",
    "                ], device=device\n",
    "            )   \n",
    "            loss = loss_fn(probabilities, target)\n",
    "            sum_loss += loss.item()\n",
    "            metrics : dict[str:float] = classifier_metrics(target, prediction)\n",
    "            for key in metrics : metrics_averaged[key] += metrics[key]\n",
    "\n",
    "    return {\n",
    "        \"iteration_time\" : time() - iteration_start,\n",
    "        \"loss\" : sum_loss / len(batch_iterable),\n",
    "        **{\n",
    "            key : metrics_averaged[key] / len(batch_iterable)\n",
    "            for key in metrics_averaged\n",
    "        }\n",
    "    }"
   ]
  },
  {
   "cell_type": "code",
   "execution_count": 139,
   "metadata": {},
   "outputs": [
    {
     "name": "stderr",
     "output_type": "stream",
     "text": [
      "  0%|          | 0/2 [00:00<?, ?it/s]"
     ]
    },
    {
     "name": "stdout",
     "output_type": "stream",
     "text": [
      "Loss :  tensor(0.6963, grad_fn=<BinaryCrossEntropyWithLogitsBackward0>)\n"
     ]
    },
    {
     "name": "stderr",
     "output_type": "stream",
     "text": [
      " 50%|█████     | 1/2 [00:14<00:14, 14.23s/it]"
     ]
    },
    {
     "name": "stdout",
     "output_type": "stream",
     "text": [
      "Loss :  tensor(0.6929, grad_fn=<BinaryCrossEntropyWithLogitsBackward0>)\n"
     ]
    },
    {
     "name": "stderr",
     "output_type": "stream",
     "text": [
      "100%|██████████| 2/2 [00:27<00:00, 13.56s/it]\n"
     ]
    }
   ],
   "source": [
    "from tqdm import tqdm\n",
    "\n",
    "train_batch_iterable : DataLoader = DataLoader(ds[\"train\"], **parameters[\"DataLoader\"])\n",
    "validation_batch_iterable : DataLoader = DataLoader(ds[\"validation\"], **parameters[\"DataLoader\"])\n",
    "\n",
    "# Record of all the metrics (time, iteration, train_loss, f1, accuracy and auc_roc)\n",
    "# for all epochs\n",
    "train_book : dict[int:list[dict]] = {}\n",
    "validation_book : dict[int:list[dict]] = {}\n",
    "\n",
    "# Training loop :\n",
    "for epoch in tqdm(range(n_epoch)):\n",
    "    isc.train()\n",
    "    record_train = train_loop(train_batch_iterable) \n",
    "    train_book[epoch] = record_train\n",
    "\n",
    "    isc.eval()\n",
    "    record_eval = eval_loop(validation_batch_iterable)\n",
    "    validation_book[epoch] = record_eval\n"
   ]
  },
  {
   "cell_type": "code",
   "execution_count": 141,
   "metadata": {},
   "outputs": [
    {
     "data": {
      "text/html": [
       "<div>\n",
       "<style scoped>\n",
       "    .dataframe tbody tr th:only-of-type {\n",
       "        vertical-align: middle;\n",
       "    }\n",
       "\n",
       "    .dataframe tbody tr th {\n",
       "        vertical-align: top;\n",
       "    }\n",
       "\n",
       "    .dataframe thead th {\n",
       "        text-align: right;\n",
       "    }\n",
       "</style>\n",
       "<table border=\"1\" class=\"dataframe\">\n",
       "  <thead>\n",
       "    <tr style=\"text-align: right;\">\n",
       "      <th></th>\n",
       "      <th>mode</th>\n",
       "      <th>epoch</th>\n",
       "      <th>iteration_time</th>\n",
       "      <th>loss</th>\n",
       "      <th>f1</th>\n",
       "      <th>roc_auc</th>\n",
       "      <th>accuracy</th>\n",
       "    </tr>\n",
       "  </thead>\n",
       "  <tbody>\n",
       "    <tr>\n",
       "      <th>0</th>\n",
       "      <td>train</td>\n",
       "      <td>0</td>\n",
       "      <td>10.863727</td>\n",
       "      <td>0.007330</td>\n",
       "      <td>0.0</td>\n",
       "      <td>0.005263</td>\n",
       "      <td>0.0</td>\n",
       "    </tr>\n",
       "    <tr>\n",
       "      <th>1</th>\n",
       "      <td>train</td>\n",
       "      <td>1</td>\n",
       "      <td>9.556150</td>\n",
       "      <td>0.007294</td>\n",
       "      <td>0.0</td>\n",
       "      <td>0.005263</td>\n",
       "      <td>0.0</td>\n",
       "    </tr>\n",
       "    <tr>\n",
       "      <th>2</th>\n",
       "      <td>validation</td>\n",
       "      <td>0</td>\n",
       "      <td>3.364011</td>\n",
       "      <td>0.033014</td>\n",
       "      <td>0.0</td>\n",
       "      <td>0.023810</td>\n",
       "      <td>0.0</td>\n",
       "    </tr>\n",
       "    <tr>\n",
       "      <th>3</th>\n",
       "      <td>validation</td>\n",
       "      <td>1</td>\n",
       "      <td>3.319974</td>\n",
       "      <td>0.033139</td>\n",
       "      <td>0.0</td>\n",
       "      <td>0.023810</td>\n",
       "      <td>0.0</td>\n",
       "    </tr>\n",
       "  </tbody>\n",
       "</table>\n",
       "</div>"
      ],
      "text/plain": [
       "         mode  epoch  iteration_time      loss   f1   roc_auc  accuracy\n",
       "0       train      0       10.863727  0.007330  0.0  0.005263       0.0\n",
       "1       train      1        9.556150  0.007294  0.0  0.005263       0.0\n",
       "2  validation      0        3.364011  0.033014  0.0  0.023810       0.0\n",
       "3  validation      1        3.319974  0.033139  0.0  0.023810       0.0"
      ]
     },
     "execution_count": 141,
     "metadata": {},
     "output_type": "execute_result"
    }
   ],
   "source": [
    "# Save the results\n",
    "df : list[dict] = []\n",
    "for epoch in train_book : \n",
    "    df.append({\n",
    "        \"mode\" : \"train\",\n",
    "        \"epoch\" : epoch,\n",
    "        **train_book[epoch]\n",
    "    })\n",
    "for epoch in validation_book : \n",
    "    df.append({\n",
    "        \"mode\" : \"validation\",\n",
    "        \"epoch\" : epoch,\n",
    "        **validation_book[epoch]\n",
    "    })\n",
    "pd.DataFrame(df)"
   ]
  },
  {
   "cell_type": "code",
   "execution_count": null,
   "metadata": {},
   "outputs": [
    {
     "data": {
      "text/plain": [
       "[{'iteration': 0,\n",
       "  'iteration_time': 10.86253023147583,\n",
       "  'train_loss': tensor(1.0935, grad_fn=<DivBackward1>),\n",
       "  'f1': 0.4,\n",
       "  'roc_auc': 0.515625,\n",
       "  'accuracy': 0.3125}]"
      ]
     },
     "execution_count": 20,
     "metadata": {},
     "output_type": "execute_result"
    }
   ],
   "source": [
    "train_book[0]"
   ]
  },
  {
   "cell_type": "code",
   "execution_count": 20,
   "metadata": {},
   "outputs": [
    {
     "data": {
      "text/plain": [
       "torch.optim.adam.Adam"
      ]
     },
     "execution_count": 20,
     "metadata": {},
     "output_type": "execute_result"
    }
   ],
   "source": [
    "type(Adam(isc.parameters()))"
   ]
  },
  {
   "cell_type": "code",
   "execution_count": null,
   "metadata": {},
   "outputs": [],
   "source": []
  }
 ],
 "metadata": {
  "kernelspec": {
   "display_name": "AT-dev-model",
   "language": "python",
   "name": "python3"
  },
  "language_info": {
   "codemirror_mode": {
    "name": "ipython",
    "version": 3
   },
   "file_extension": ".py",
   "mimetype": "text/x-python",
   "name": "python",
   "nbconvert_exporter": "python",
   "pygments_lexer": "ipython3",
   "version": "3.11.11"
  }
 },
 "nbformat": 4,
 "nbformat_minor": 2
}
