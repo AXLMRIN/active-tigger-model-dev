{
 "cells": [
  {
   "cell_type": "markdown",
   "metadata": {},
   "source": [
    "# Parametres"
   ]
  },
  {
   "cell_type": "code",
   "execution_count": 1,
   "metadata": {},
   "outputs": [],
   "source": [
    "FILENAME : str = \"../data/316_ideological_book_corpus/ibc.csv\""
   ]
  },
  {
   "cell_type": "markdown",
   "metadata": {},
   "source": [
    "# Exploration des données"
   ]
  },
  {
   "cell_type": "code",
   "execution_count": 16,
   "metadata": {},
   "outputs": [
    {
     "name": "stdout",
     "output_type": "stream",
     "text": [
      "Nombre de lignes dans le dataset :  4326\n",
      "Taille des phrases en entrée en nombre de caractères — avant prétraitement\n"
     ]
    },
    {
     "data": {
      "image/png": "[encoded data removed]",
      "text/plain": [
       "<Figure size 640x480 with 1 Axes>"
      ]
     },
     "metadata": {},
     "output_type": "display_data"
    }
   ],
   "source": [
    "import pandas as pd\n",
    "\n",
    "df = pd.read_csv(FILENAME).\\\n",
    "        astype({\n",
    "            \"sentence\" : \"str\",\n",
    "            \"leaning\" : \"str\"\n",
    "        }).\\\n",
    "        rename({\n",
    "            \"sentence\" : \"in\",\n",
    "            \"leaning\" : \"out\"\n",
    "        }, axis = 1)\n",
    "\n",
    "df[\"len_in\"] = df[\"in\"].apply(len)\n",
    "print(\"Nombre de lignes dans le dataset : \", len(df))\n",
    "print(\"Taille des phrases en entrée en nombre de caractères — avant prétraitement\")\n",
    "_ = df.hist(\"len_in\")"
   ]
  },
  {
   "cell_type": "code",
   "execution_count": 17,
   "metadata": {},
   "outputs": [
    {
     "name": "stdout",
     "output_type": "stream",
     "text": [
      "Categories : Liberal, Neutral, Conservative \n",
      "\n"
     ]
    }
   ],
   "source": [
    "LABEL : list[str] = list(set(df[\"out\"]))\n",
    "ID2LABEL : dict[int:str] = {i : cat for i,cat in enumerate(LABEL)}\n",
    "LABEL2ID : dict[str:int] = {cat:i for i,cat in enumerate(LABEL)}\n",
    "print(\"Categories : \" + \", \".join([cat for cat in LABEL]),\"\\n\")\n",
    "\n",
    "del df"
   ]
  },
  {
   "cell_type": "markdown",
   "metadata": {},
   "source": [
    "# Entraînement d'un classifieur"
   ]
  },
  {
   "cell_type": "markdown",
   "metadata": {},
   "source": [
    "## Load the dataset"
   ]
  },
  {
   "cell_type": "code",
   "execution_count": 39,
   "metadata": {},
   "outputs": [],
   "source": [
    "from datasets import load_dataset, DatasetDict\n",
    "\n",
    "ds_original = load_dataset(\"csv\", data_files = {\"whole\" :FILENAME})[\"whole\"]\n",
    "ds_temp = ds_original.train_test_split(test_size = 0.15)\n",
    "ds_temp2 = ds_temp[\"train\"].train_test_split(train_size = 0.8)\n",
    "\n",
    "ds = DatasetDict({\n",
    "    \"train\" : ds_temp[\"train\"],\n",
    "    \"validation\" : ds_temp[\"test\"],\n",
    "    \"test\" : ds_temp[\"test\"]\n",
    "})\n",
    "\n",
    "del ds_temp, ds_temp2"
   ]
  },
  {
   "cell_type": "code",
   "execution_count": 52,
   "metadata": {},
   "outputs": [
    {
     "name": "stdout",
     "output_type": "stream",
     "text": [
      "Répartition des datasets : \n",
      "|    Dataset    |  Taille  |Proportion|\n",
      "---------------------------------------\n",
      "|     Train     |   3677   |    84    |\n",
      "|  Validation   |   649    |    15    |\n",
      "|     Test      |   649    |    15    |\n"
     ]
    }
   ],
   "source": [
    "def proportion(name):\n",
    "    return int(\n",
    "        100 * len(ds[name]) / len(ds_original)\n",
    "    )\n",
    "print(\"Répartition des datasets : \")\n",
    "print(f'|{\"Dataset\":^15}|{\"Taille\":^10}|{\"Proportion\":^10}|')\n",
    "print(\"-\" * 39)\n",
    "print(f'|{\"Train\":^15}|{len(ds[\"train\"]):^10}|{proportion(\"train\"):^10}|')\n",
    "print(f'|{\"Validation\":^15}|{len(ds[\"validation\"]):^10}|{proportion(\"validation\"):^10}|')\n",
    "print(f'|{\"Test\":^15}|{len(ds[\"test\"]):^10}|{proportion(\"test\"):^10}|')"
   ]
  },
  {
   "cell_type": "code",
   "execution_count": 36,
   "metadata": {},
   "outputs": [
    {
     "data": {
      "text/plain": [
       "4326"
      ]
     },
     "execution_count": 36,
     "metadata": {},
     "output_type": "execute_result"
    }
   ],
   "source": [
    "2941 + 736 + 649"
   ]
  },
  {
   "cell_type": "code",
   "execution_count": null,
   "metadata": {},
   "outputs": [],
   "source": []
  }
 ],
 "metadata": {
  "kernelspec": {
   "display_name": "AT-dev-model",
   "language": "python",
   "name": "python3"
  },
  "language_info": {
   "codemirror_mode": {
    "name": "ipython",
    "version": 3
   },
   "file_extension": ".py",
   "mimetype": "text/x-python",
   "name": "python",
   "nbconvert_exporter": "python",
   "pygments_lexer": "ipython3",
   "version": "3.11.11"
  }
 },
 "nbformat": 4,
 "nbformat_minor": 2
}
