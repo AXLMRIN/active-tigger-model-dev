{
 "cells": [
  {
   "cell_type": "code",
   "execution_count": 17,
   "metadata": {},
   "outputs": [],
   "source": [
    "import os \n",
    "import pandas as pd\n",
    "import json\n",
    "import plotly.express as px\n",
    "import plotly.graph_objects as go"
   ]
  },
  {
   "cell_type": "markdown",
   "metadata": {},
   "source": [
    "> SOMETHING IS MESSED UP"
   ]
  },
  {
   "cell_type": "markdown",
   "metadata": {},
   "source": [
    "# Classifier"
   ]
  },
  {
   "cell_type": "markdown",
   "metadata": {},
   "source": [
    "## Collect data"
   ]
  },
  {
   "cell_type": "code",
   "execution_count": 18,
   "metadata": {},
   "outputs": [],
   "source": [
    "parameters_to_keep = [\n",
    "    'classifier_hiddenlayer_dim',\n",
    "    'embeddingmodel_output',\n",
    "    'model_train_classifier_learning_rate',\n",
    "    'model_train_classifier_momentum',\n",
    "    'model_train_classifier_weight_decay',\n",
    "    'model_train_embedding_learning_rate',\n",
    "    'model_train_embedding_momentum',\n",
    "    'model_train_embedding_weight_decay',\n",
    "    'model_train_n_epoch',\n",
    "]\n",
    "\n",
    "results = {\n",
    "    'classifier_hiddenlayer_dim' : [],\n",
    "    'embeddingmodel_output' : [],\n",
    "    'model_train_classifier_learning_rate' : [],\n",
    "    'model_train_classifier_momentum' : [],\n",
    "    'model_train_classifier_weight_decay' : [],\n",
    "    'model_train_embedding_learning_rate' : [],\n",
    "    'model_train_embedding_momentum' : [],\n",
    "    'model_train_embedding_weight_decay' : [],\n",
    "    'model_train_n_epoch' : [],\n",
    "\n",
    "    'min_valid_loss' : [],\n",
    "    'test_f1_max' : [],\n",
    "    'train_f1_max' : [],\n",
    "    'valid_f1_max' : [],\n",
    "    'filename' : []\n",
    "}\n",
    "\n",
    "folder = './save_random_search_2'\n",
    "\n",
    "for current_dir in os.listdir(folder):\n",
    "    with open(f'{folder}/{current_dir}/config.json', 'r') as file:\n",
    "        config = json.load(file)\n",
    "\n",
    "    results[\"filename\"].append(f'{folder}/{current_dir}')\n",
    "    for key in parameters_to_keep:\n",
    "        results[key].append(config[key])\n",
    "\n",
    "    results[\"min_valid_loss\"].append(\n",
    "        min(pd.read_csv(f'{folder}/{current_dir}/loss_train.csv')['0'])\n",
    "    )\n",
    "\n",
    "    metrics_file = pd.read_csv(f'{folder}/{current_dir}/metrics_save.csv')\n",
    "    results[\"test_f1_max\"].append(\n",
    "        max(metrics_file.loc[metrics_file[\"loop\"] == \"test\",'f1'])\n",
    "    )\n",
    "    results[\"train_f1_max\"].append(\n",
    "        max(metrics_file.loc[metrics_file[\"loop\"] == \"train\",'f1'])\n",
    "    )\n",
    "    results[\"valid_f1_max\"].append(\n",
    "        max(metrics_file.loc[metrics_file[\"loop\"] == \"validation\",'f1'])\n",
    "    )\n",
    "\n",
    "results = pd.DataFrame(results)"
   ]
  },
  {
   "cell_type": "markdown",
   "metadata": {},
   "source": [
    "# plot Data"
   ]
  },
  {
   "cell_type": "code",
   "execution_count": 19,
   "metadata": {},
   "outputs": [
    {
     "data": {
      "text/html": [
       "<div>\n",
       "<style scoped>\n",
       "    .dataframe tbody tr th:only-of-type {\n",
       "        vertical-align: middle;\n",
       "    }\n",
       "\n",
       "    .dataframe tbody tr th {\n",
       "        vertical-align: top;\n",
       "    }\n",
       "\n",
       "    .dataframe thead th {\n",
       "        text-align: right;\n",
       "    }\n",
       "</style>\n",
       "<table border=\"1\" class=\"dataframe\">\n",
       "  <thead>\n",
       "    <tr style=\"text-align: right;\">\n",
       "      <th></th>\n",
       "      <th>classifier_hiddenlayer_dim</th>\n",
       "      <th>embeddingmodel_output</th>\n",
       "      <th>model_train_classifier_learning_rate</th>\n",
       "      <th>model_train_classifier_momentum</th>\n",
       "      <th>model_train_classifier_weight_decay</th>\n",
       "      <th>model_train_embedding_learning_rate</th>\n",
       "      <th>model_train_embedding_momentum</th>\n",
       "      <th>model_train_embedding_weight_decay</th>\n",
       "      <th>model_train_n_epoch</th>\n",
       "      <th>min_valid_loss</th>\n",
       "      <th>test_f1_max</th>\n",
       "      <th>train_f1_max</th>\n",
       "      <th>valid_f1_max</th>\n",
       "      <th>filename</th>\n",
       "    </tr>\n",
       "  </thead>\n",
       "  <tbody>\n",
       "    <tr>\n",
       "      <th>0</th>\n",
       "      <td>250</td>\n",
       "      <td>pooler_output</td>\n",
       "      <td>0.000001</td>\n",
       "      <td>0.55</td>\n",
       "      <td>0.004</td>\n",
       "      <td>0.00020</td>\n",
       "      <td>None</td>\n",
       "      <td>0.075</td>\n",
       "      <td>5</td>\n",
       "      <td>1.035215</td>\n",
       "      <td>0.349372</td>\n",
       "      <td>0.355329</td>\n",
       "      <td>0.401455</td>\n",
       "      <td>./save_random_search_2/61</td>\n",
       "    </tr>\n",
       "    <tr>\n",
       "      <th>1</th>\n",
       "      <td>200</td>\n",
       "      <td>last_hidden_state</td>\n",
       "      <td>0.010000</td>\n",
       "      <td>0.50</td>\n",
       "      <td>0.001</td>\n",
       "      <td>0.00005</td>\n",
       "      <td>None</td>\n",
       "      <td>0.075</td>\n",
       "      <td>5</td>\n",
       "      <td>0.688727</td>\n",
       "      <td>0.440807</td>\n",
       "      <td>0.507434</td>\n",
       "      <td>0.516865</td>\n",
       "      <td>./save_random_search_2/95</td>\n",
       "    </tr>\n",
       "    <tr>\n",
       "      <th>2</th>\n",
       "      <td>150</td>\n",
       "      <td>pooler_output</td>\n",
       "      <td>0.010000</td>\n",
       "      <td>0.60</td>\n",
       "      <td>0.004</td>\n",
       "      <td>0.00020</td>\n",
       "      <td>None</td>\n",
       "      <td>0.100</td>\n",
       "      <td>5</td>\n",
       "      <td>1.066637</td>\n",
       "      <td>0.369874</td>\n",
       "      <td>0.357961</td>\n",
       "      <td>0.400794</td>\n",
       "      <td>./save_random_search_2/59</td>\n",
       "    </tr>\n",
       "    <tr>\n",
       "      <th>3</th>\n",
       "      <td>100</td>\n",
       "      <td>pooler_output</td>\n",
       "      <td>0.010000</td>\n",
       "      <td>0.50</td>\n",
       "      <td>0.004</td>\n",
       "      <td>0.00040</td>\n",
       "      <td>None</td>\n",
       "      <td>0.050</td>\n",
       "      <td>5</td>\n",
       "      <td>1.066163</td>\n",
       "      <td>0.356647</td>\n",
       "      <td>0.343816</td>\n",
       "      <td>0.390008</td>\n",
       "      <td>./save_random_search_2/92</td>\n",
       "    </tr>\n",
       "    <tr>\n",
       "      <th>4</th>\n",
       "      <td>250</td>\n",
       "      <td>last_hidden_state</td>\n",
       "      <td>0.005000</td>\n",
       "      <td>0.50</td>\n",
       "      <td>0.001</td>\n",
       "      <td>0.00040</td>\n",
       "      <td>None</td>\n",
       "      <td>0.050</td>\n",
       "      <td>5</td>\n",
       "      <td>1.065125</td>\n",
       "      <td>0.329696</td>\n",
       "      <td>0.347961</td>\n",
       "      <td>0.369213</td>\n",
       "      <td>./save_random_search_2/66</td>\n",
       "    </tr>\n",
       "  </tbody>\n",
       "</table>\n",
       "</div>"
      ],
      "text/plain": [
       "   classifier_hiddenlayer_dim embeddingmodel_output  \\\n",
       "0                         250         pooler_output   \n",
       "1                         200     last_hidden_state   \n",
       "2                         150         pooler_output   \n",
       "3                         100         pooler_output   \n",
       "4                         250     last_hidden_state   \n",
       "\n",
       "   model_train_classifier_learning_rate  model_train_classifier_momentum  \\\n",
       "0                              0.000001                             0.55   \n",
       "1                              0.010000                             0.50   \n",
       "2                              0.010000                             0.60   \n",
       "3                              0.010000                             0.50   \n",
       "4                              0.005000                             0.50   \n",
       "\n",
       "   model_train_classifier_weight_decay  model_train_embedding_learning_rate  \\\n",
       "0                                0.004                              0.00020   \n",
       "1                                0.001                              0.00005   \n",
       "2                                0.004                              0.00020   \n",
       "3                                0.004                              0.00040   \n",
       "4                                0.001                              0.00040   \n",
       "\n",
       "  model_train_embedding_momentum  model_train_embedding_weight_decay  \\\n",
       "0                           None                               0.075   \n",
       "1                           None                               0.075   \n",
       "2                           None                               0.100   \n",
       "3                           None                               0.050   \n",
       "4                           None                               0.050   \n",
       "\n",
       "   model_train_n_epoch  min_valid_loss  test_f1_max  train_f1_max  \\\n",
       "0                    5        1.035215     0.349372      0.355329   \n",
       "1                    5        0.688727     0.440807      0.507434   \n",
       "2                    5        1.066637     0.369874      0.357961   \n",
       "3                    5        1.066163     0.356647      0.343816   \n",
       "4                    5        1.065125     0.329696      0.347961   \n",
       "\n",
       "   valid_f1_max                   filename  \n",
       "0      0.401455  ./save_random_search_2/61  \n",
       "1      0.516865  ./save_random_search_2/95  \n",
       "2      0.400794  ./save_random_search_2/59  \n",
       "3      0.390008  ./save_random_search_2/92  \n",
       "4      0.369213  ./save_random_search_2/66  "
      ]
     },
     "execution_count": 19,
     "metadata": {},
     "output_type": "execute_result"
    }
   ],
   "source": [
    "results.head()"
   ]
  },
  {
   "cell_type": "markdown",
   "metadata": {},
   "source": [
    "### Learning rate"
   ]
  },
  {
   "cell_type": "code",
   "execution_count": 20,
   "metadata": {},
   "outputs": [
    {
     "data": {
      "application/vnd.plotly.v1+json": {
       "config": {
        "plotlyServerURL": "https://plotly.com"
       },
       "data": [
        {
         "name": "Test",
         "type": "box",
         "x": [
          0.000001,
          0.01,
          0.01,
          0.01,
          0.005,
          0.005,
          0.01,
          0.000001,
          0.01,
          0.01,
          0.005,
          0.005,
          0.005,
          0.01,
          0.01,
          0.01,
          0.000001,
          0.005,
          0.005,
          0.000001,
          0.005,
          0.01,
          0.000001,
          0.005,
          0.005,
          0.005,
          0.005,
          0.005,
          0.01,
          0.000001,
          0.000001,
          0.000001,
          0.005,
          0.005,
          0.000001,
          0.000001,
          0.005,
          0.000001,
          0.000001,
          0.01,
          0.01,
          0.005,
          0.000001,
          0.01,
          0.000001,
          0.005,
          0.000001,
          0.01,
          0.01,
          0.005,
          0.01,
          0.005,
          0.01,
          0.000001,
          0.005,
          0.005,
          0.01,
          0.005,
          0.000001,
          0.005,
          0.005,
          0.01,
          0.01,
          0.01,
          0.000001,
          0.005,
          0.01,
          0.01,
          0.01,
          0.000001,
          0.005,
          0.000001,
          0.01,
          0.000001,
          0.000001,
          0.01,
          0.005,
          0.000001,
          0.000001,
          0.005,
          0.005,
          0.01,
          0.005,
          0.01,
          0.005,
          0.01,
          0.01,
          0.000001,
          0.000001,
          0.000001,
          0.005,
          0.005,
          0.000001,
          0.01,
          0.005,
          0.005,
          0.005,
          0.005,
          0.005,
          0.000001
         ],
         "xaxis": "x",
         "y": [
          0.3493716931216931,
          0.4408068783068783,
          0.3698743386243386,
          0.3566468253968254,
          0.3296957671957671,
          0.4221230158730159,
          0.3379629629629629,
          0.3060515873015872,
          0.3589616402116402,
          0.4236111111111111,
          0.3753306878306878,
          0.4499007936507936,
          0.3513558201058201,
          0.3619378306878307,
          0.4019510582010581,
          0.3364748677248677,
          0.372850529100529,
          0.3088624338624338,
          0.363260582010582,
          0.3804563492063492,
          0.4135251322751323,
          0.3966702279202279,
          0.3126653439153439,
          0.3478835978835978,
          0.3649140211640211,
          0.3349867724867725,
          0.3693783068783068,
          0.3111772486772486,
          0.4378306878306878,
          0.3356481481481481,
          0.5047949735449736,
          0.3447420634920635,
          0.3277116402116402,
          0.4811507936507936,
          0.3313492063492063,
          0.3037367724867725,
          0.3151455026455026,
          0.3513558201058201,
          0.3156415343915344,
          0.3708664021164021,
          0.3477182539682539,
          0.4070767195767195,
          0.3634259259259259,
          0.382771164021164,
          0.4794973544973545,
          0.3298611111111111,
          0.3551587301587301,
          0.3171296296296296,
          0.3230820105820106,
          0.3667328042328042,
          0.3291997354497354,
          0.3455687830687831,
          0.3579695767195767,
          0.4867724867724867,
          0.3120039682539682,
          0.3366402116402116,
          0.3328373015873015,
          0.3373015873015872,
          0.4497354497354497,
          0.3581349206349206,
          0.4408068783068783,
          0.4712301587301588,
          0.3141534391534392,
          0.3268849206349206,
          0.2986111111111111,
          0.3455687830687831,
          0.326223544973545,
          0.3664021164021164,
          0.3237433862433862,
          0.3543320105820106,
          0.3291997354497354,
          0.3449074074074074,
          0.3549933862433862,
          0.3579695767195767,
          0.3817791005291005,
          0.4684193121693121,
          0.3468915343915344,
          0.3587962962962963,
          0.3290343915343915,
          0.3128306878306878,
          0.3009259259259259,
          0.3627645502645502,
          0.3120039682539682,
          0.3080357142857143,
          0.4250992063492064,
          0.3164682539682539,
          0.3634259259259259,
          0.404265873015873,
          0.3224206349206349,
          0.3568121693121693,
          0.3283730158730158,
          0.3268849206349206,
          0.4242724867724867,
          0.3649140211640211,
          0.3627645502645502,
          0.3252314814814814,
          0.2961309523809524,
          0.3209325396825396,
          0.5047949735449736,
          0.3440806878306878
         ]
        },
        {
         "name": "Validation",
         "type": "box",
         "x": [
          0.000001,
          0.01,
          0.01,
          0.01,
          0.005,
          0.005,
          0.01,
          0.000001,
          0.01,
          0.01,
          0.005,
          0.005,
          0.005,
          0.01,
          0.01,
          0.01,
          0.000001,
          0.005,
          0.005,
          0.000001,
          0.005,
          0.01,
          0.000001,
          0.005,
          0.005,
          0.005,
          0.005,
          0.005,
          0.01,
          0.000001,
          0.000001,
          0.000001,
          0.005,
          0.005,
          0.000001,
          0.000001,
          0.005,
          0.000001,
          0.000001,
          0.01,
          0.01,
          0.005,
          0.000001,
          0.01,
          0.000001,
          0.005,
          0.000001,
          0.01,
          0.01,
          0.005,
          0.01,
          0.005,
          0.01,
          0.000001,
          0.005,
          0.005,
          0.01,
          0.005,
          0.000001,
          0.005,
          0.005,
          0.01,
          0.01,
          0.01,
          0.000001,
          0.005,
          0.01,
          0.01,
          0.01,
          0.000001,
          0.005,
          0.000001,
          0.01,
          0.000001,
          0.000001,
          0.01,
          0.005,
          0.000001,
          0.000001,
          0.005,
          0.005,
          0.01,
          0.005,
          0.01,
          0.005,
          0.01,
          0.01,
          0.000001,
          0.000001,
          0.000001,
          0.005,
          0.005,
          0.000001,
          0.01,
          0.005,
          0.005,
          0.005,
          0.005,
          0.005,
          0.000001
         ],
         "xaxis": "x",
         "y": [
          0.4014550264550264,
          0.5168650793650793,
          0.4007936507936507,
          0.3900076625281137,
          0.3692129629629629,
          0.457010582010582,
          0.398478835978836,
          0.3544513334680146,
          0.341992266992267,
          0.3857473544973545,
          0.4267526455026454,
          0.4735449735449735,
          0.3275055962555963,
          0.436083338188422,
          0.4332010582010581,
          0.4150132275132275,
          0.4159925722425722,
          0.3604497354497354,
          0.3692892629875062,
          0.4208002645502645,
          0.4469246031746031,
          0.3587962962962963,
          0.3678308079427483,
          0.3991402116402116,
          0.4161706349206349,
          0.4194775132275132,
          0.4012352235429958,
          0.3943783068783069,
          0.4436177248677248,
          0.3707010582010582,
          0.5302579365079365,
          0.404265873015873,
          0.3944012006512006,
          0.4580026455026454,
          0.4577091849436588,
          0.3696688779711167,
          0.3793549043549044,
          0.5179922249150847,
          0.3969907407407407,
          0.3576388888888889,
          0.3432171028253117,
          0.4631283068783068,
          0.3581349206349206,
          0.4603174603174603,
          0.5115740740740741,
          0.3743386243386243,
          0.4264219576719577,
          0.3312126491920115,
          0.3329263329263329,
          0.3686816446932109,
          0.398478835978836,
          0.3940145502645502,
          0.3828731453731453,
          0.5281084656084657,
          0.37880291005291,
          0.5006061742282215,
          0.3759920634920635,
          0.3713624338624338,
          0.5026455026455027,
          0.3543931526879223,
          0.4892526455026454,
          0.4533730158730159,
          0.4029431216931217,
          0.3700396825396825,
          0.386986161986162,
          0.3340163101960451,
          0.3410766679423395,
          0.3743386243386243,
          0.3759569721323452,
          0.3745039682539682,
          0.3625992063492063,
          0.4272890147056216,
          0.3915343915343915,
          0.4429563492063492,
          0.4131562881562881,
          0.4920634920634921,
          0.3713624338624338,
          0.3625992063492063,
          0.3687881562881563,
          0.3968253968253968,
          0.4177185494827626,
          0.3640873015873015,
          0.434276261319009,
          0.3618796773402036,
          0.4781746031746031,
          0.3655753968253968,
          0.3758267195767195,
          0.4556878306878307,
          0.4683958947244925,
          0.3857473544973545,
          0.3415905594661151,
          0.4109101546601546,
          0.4794973544973545,
          0.394510582010582,
          0.4310515873015873,
          0.418761238524781,
          0.4095550011441061,
          0.3640873015873015,
          0.5191798941798942,
          0.3572903947903948
         ]
        }
       ],
       "layout": {
        "template": {
         "data": {
          "bar": [
           {
            "error_x": {
             "color": "#2a3f5f"
            },
            "error_y": {
             "color": "#2a3f5f"
            },
            "marker": {
             "line": {
              "color": "#E5ECF6",
              "width": 0.5
             },
             "pattern": {
              "fillmode": "overlay",
              "size": 10,
              "solidity": 0.2
             }
            },
            "type": "bar"
           }
          ],
          "barpolar": [
           {
            "marker": {
             "line": {
              "color": "#E5ECF6",
              "width": 0.5
             },
             "pattern": {
              "fillmode": "overlay",
              "size": 10,
              "solidity": 0.2
             }
            },
            "type": "barpolar"
           }
          ],
          "carpet": [
           {
            "aaxis": {
             "endlinecolor": "#2a3f5f",
             "gridcolor": "white",
             "linecolor": "white",
             "minorgridcolor": "white",
             "startlinecolor": "#2a3f5f"
            },
            "baxis": {
             "endlinecolor": "#2a3f5f",
             "gridcolor": "white",
             "linecolor": "white",
             "minorgridcolor": "white",
             "startlinecolor": "#2a3f5f"
            },
            "type": "carpet"
           }
          ],
          "choropleth": [
           {
            "colorbar": {
             "outlinewidth": 0,
             "ticks": ""
            },
            "type": "choropleth"
           }
          ],
          "contour": [
           {
            "colorbar": {
             "outlinewidth": 0,
             "ticks": ""
            },
            "colorscale": [
             [
              0,
              "#0d0887"
             ],
             [
              0.1111111111111111,
              "#46039f"
             ],
             [
              0.2222222222222222,
              "#7201a8"
             ],
             [
              0.3333333333333333,
              "#9c179e"
             ],
             [
              0.4444444444444444,
              "#bd3786"
             ],
             [
              0.5555555555555556,
              "#d8576b"
             ],
             [
              0.6666666666666666,
              "#ed7953"
             ],
             [
              0.7777777777777778,
              "#fb9f3a"
             ],
             [
              0.8888888888888888,
              "#fdca26"
             ],
             [
              1,
              "#f0f921"
             ]
            ],
            "type": "contour"
           }
          ],
          "contourcarpet": [
           {
            "colorbar": {
             "outlinewidth": 0,
             "ticks": ""
            },
            "type": "contourcarpet"
           }
          ],
          "heatmap": [
           {
            "colorbar": {
             "outlinewidth": 0,
             "ticks": ""
            },
            "colorscale": [
             [
              0,
              "#0d0887"
             ],
             [
              0.1111111111111111,
              "#46039f"
             ],
             [
              0.2222222222222222,
              "#7201a8"
             ],
             [
              0.3333333333333333,
              "#9c179e"
             ],
             [
              0.4444444444444444,
              "#bd3786"
             ],
             [
              0.5555555555555556,
              "#d8576b"
             ],
             [
              0.6666666666666666,
              "#ed7953"
             ],
             [
              0.7777777777777778,
              "#fb9f3a"
             ],
             [
              0.8888888888888888,
              "#fdca26"
             ],
             [
              1,
              "#f0f921"
             ]
            ],
            "type": "heatmap"
           }
          ],
          "heatmapgl": [
           {
            "colorbar": {
             "outlinewidth": 0,
             "ticks": ""
            },
            "colorscale": [
             [
              0,
              "#0d0887"
             ],
             [
              0.1111111111111111,
              "#46039f"
             ],
             [
              0.2222222222222222,
              "#7201a8"
             ],
             [
              0.3333333333333333,
              "#9c179e"
             ],
             [
              0.4444444444444444,
              "#bd3786"
             ],
             [
              0.5555555555555556,
              "#d8576b"
             ],
             [
              0.6666666666666666,
              "#ed7953"
             ],
             [
              0.7777777777777778,
              "#fb9f3a"
             ],
             [
              0.8888888888888888,
              "#fdca26"
             ],
             [
              1,
              "#f0f921"
             ]
            ],
            "type": "heatmapgl"
           }
          ],
          "histogram": [
           {
            "marker": {
             "pattern": {
              "fillmode": "overlay",
              "size": 10,
              "solidity": 0.2
             }
            },
            "type": "histogram"
           }
          ],
          "histogram2d": [
           {
            "colorbar": {
             "outlinewidth": 0,
             "ticks": ""
            },
            "colorscale": [
             [
              0,
              "#0d0887"
             ],
             [
              0.1111111111111111,
              "#46039f"
             ],
             [
              0.2222222222222222,
              "#7201a8"
             ],
             [
              0.3333333333333333,
              "#9c179e"
             ],
             [
              0.4444444444444444,
              "#bd3786"
             ],
             [
              0.5555555555555556,
              "#d8576b"
             ],
             [
              0.6666666666666666,
              "#ed7953"
             ],
             [
              0.7777777777777778,
              "#fb9f3a"
             ],
             [
              0.8888888888888888,
              "#fdca26"
             ],
             [
              1,
              "#f0f921"
             ]
            ],
            "type": "histogram2d"
           }
          ],
          "histogram2dcontour": [
           {
            "colorbar": {
             "outlinewidth": 0,
             "ticks": ""
            },
            "colorscale": [
             [
              0,
              "#0d0887"
             ],
             [
              0.1111111111111111,
              "#46039f"
             ],
             [
              0.2222222222222222,
              "#7201a8"
             ],
             [
              0.3333333333333333,
              "#9c179e"
             ],
             [
              0.4444444444444444,
              "#bd3786"
             ],
             [
              0.5555555555555556,
              "#d8576b"
             ],
             [
              0.6666666666666666,
              "#ed7953"
             ],
             [
              0.7777777777777778,
              "#fb9f3a"
             ],
             [
              0.8888888888888888,
              "#fdca26"
             ],
             [
              1,
              "#f0f921"
             ]
            ],
            "type": "histogram2dcontour"
           }
          ],
          "mesh3d": [
           {
            "colorbar": {
             "outlinewidth": 0,
             "ticks": ""
            },
            "type": "mesh3d"
           }
          ],
          "parcoords": [
           {
            "line": {
             "colorbar": {
              "outlinewidth": 0,
              "ticks": ""
             }
            },
            "type": "parcoords"
           }
          ],
          "pie": [
           {
            "automargin": true,
            "type": "pie"
           }
          ],
          "scatter": [
           {
            "fillpattern": {
             "fillmode": "overlay",
             "size": 10,
             "solidity": 0.2
            },
            "type": "scatter"
           }
          ],
          "scatter3d": [
           {
            "line": {
             "colorbar": {
              "outlinewidth": 0,
              "ticks": ""
             }
            },
            "marker": {
             "colorbar": {
              "outlinewidth": 0,
              "ticks": ""
             }
            },
            "type": "scatter3d"
           }
          ],
          "scattercarpet": [
           {
            "marker": {
             "colorbar": {
              "outlinewidth": 0,
              "ticks": ""
             }
            },
            "type": "scattercarpet"
           }
          ],
          "scattergeo": [
           {
            "marker": {
             "colorbar": {
              "outlinewidth": 0,
              "ticks": ""
             }
            },
            "type": "scattergeo"
           }
          ],
          "scattergl": [
           {
            "marker": {
             "colorbar": {
              "outlinewidth": 0,
              "ticks": ""
             }
            },
            "type": "scattergl"
           }
          ],
          "scattermapbox": [
           {
            "marker": {
             "colorbar": {
              "outlinewidth": 0,
              "ticks": ""
             }
            },
            "type": "scattermapbox"
           }
          ],
          "scatterpolar": [
           {
            "marker": {
             "colorbar": {
              "outlinewidth": 0,
              "ticks": ""
             }
            },
            "type": "scatterpolar"
           }
          ],
          "scatterpolargl": [
           {
            "marker": {
             "colorbar": {
              "outlinewidth": 0,
              "ticks": ""
             }
            },
            "type": "scatterpolargl"
           }
          ],
          "scatterternary": [
           {
            "marker": {
             "colorbar": {
              "outlinewidth": 0,
              "ticks": ""
             }
            },
            "type": "scatterternary"
           }
          ],
          "surface": [
           {
            "colorbar": {
             "outlinewidth": 0,
             "ticks": ""
            },
            "colorscale": [
             [
              0,
              "#0d0887"
             ],
             [
              0.1111111111111111,
              "#46039f"
             ],
             [
              0.2222222222222222,
              "#7201a8"
             ],
             [
              0.3333333333333333,
              "#9c179e"
             ],
             [
              0.4444444444444444,
              "#bd3786"
             ],
             [
              0.5555555555555556,
              "#d8576b"
             ],
             [
              0.6666666666666666,
              "#ed7953"
             ],
             [
              0.7777777777777778,
              "#fb9f3a"
             ],
             [
              0.8888888888888888,
              "#fdca26"
             ],
             [
              1,
              "#f0f921"
             ]
            ],
            "type": "surface"
           }
          ],
          "table": [
           {
            "cells": {
             "fill": {
              "color": "#EBF0F8"
             },
             "line": {
              "color": "white"
             }
            },
            "header": {
             "fill": {
              "color": "#C8D4E3"
             },
             "line": {
              "color": "white"
             }
            },
            "type": "table"
           }
          ]
         },
         "layout": {
          "annotationdefaults": {
           "arrowcolor": "#2a3f5f",
           "arrowhead": 0,
           "arrowwidth": 1
          },
          "autotypenumbers": "strict",
          "coloraxis": {
           "colorbar": {
            "outlinewidth": 0,
            "ticks": ""
           }
          },
          "colorscale": {
           "diverging": [
            [
             0,
             "#8e0152"
            ],
            [
             0.1,
             "#c51b7d"
            ],
            [
             0.2,
             "#de77ae"
            ],
            [
             0.3,
             "#f1b6da"
            ],
            [
             0.4,
             "#fde0ef"
            ],
            [
             0.5,
             "#f7f7f7"
            ],
            [
             0.6,
             "#e6f5d0"
            ],
            [
             0.7,
             "#b8e186"
            ],
            [
             0.8,
             "#7fbc41"
            ],
            [
             0.9,
             "#4d9221"
            ],
            [
             1,
             "#276419"
            ]
           ],
           "sequential": [
            [
             0,
             "#0d0887"
            ],
            [
             0.1111111111111111,
             "#46039f"
            ],
            [
             0.2222222222222222,
             "#7201a8"
            ],
            [
             0.3333333333333333,
             "#9c179e"
            ],
            [
             0.4444444444444444,
             "#bd3786"
            ],
            [
             0.5555555555555556,
             "#d8576b"
            ],
            [
             0.6666666666666666,
             "#ed7953"
            ],
            [
             0.7777777777777778,
             "#fb9f3a"
            ],
            [
             0.8888888888888888,
             "#fdca26"
            ],
            [
             1,
             "#f0f921"
            ]
           ],
           "sequentialminus": [
            [
             0,
             "#0d0887"
            ],
            [
             0.1111111111111111,
             "#46039f"
            ],
            [
             0.2222222222222222,
             "#7201a8"
            ],
            [
             0.3333333333333333,
             "#9c179e"
            ],
            [
             0.4444444444444444,
             "#bd3786"
            ],
            [
             0.5555555555555556,
             "#d8576b"
            ],
            [
             0.6666666666666666,
             "#ed7953"
            ],
            [
             0.7777777777777778,
             "#fb9f3a"
            ],
            [
             0.8888888888888888,
             "#fdca26"
            ],
            [
             1,
             "#f0f921"
            ]
           ]
          },
          "colorway": [
           "#636efa",
           "#EF553B",
           "#00cc96",
           "#ab63fa",
           "#FFA15A",
           "#19d3f3",
           "#FF6692",
           "#B6E880",
           "#FF97FF",
           "#FECB52"
          ],
          "font": {
           "color": "#2a3f5f"
          },
          "geo": {
           "bgcolor": "white",
           "lakecolor": "white",
           "landcolor": "#E5ECF6",
           "showlakes": true,
           "showland": true,
           "subunitcolor": "white"
          },
          "hoverlabel": {
           "align": "left"
          },
          "hovermode": "closest",
          "mapbox": {
           "style": "light"
          },
          "paper_bgcolor": "white",
          "plot_bgcolor": "#E5ECF6",
          "polar": {
           "angularaxis": {
            "gridcolor": "white",
            "linecolor": "white",
            "ticks": ""
           },
           "bgcolor": "#E5ECF6",
           "radialaxis": {
            "gridcolor": "white",
            "linecolor": "white",
            "ticks": ""
           }
          },
          "scene": {
           "xaxis": {
            "backgroundcolor": "#E5ECF6",
            "gridcolor": "white",
            "gridwidth": 2,
            "linecolor": "white",
            "showbackground": true,
            "ticks": "",
            "zerolinecolor": "white"
           },
           "yaxis": {
            "backgroundcolor": "#E5ECF6",
            "gridcolor": "white",
            "gridwidth": 2,
            "linecolor": "white",
            "showbackground": true,
            "ticks": "",
            "zerolinecolor": "white"
           },
           "zaxis": {
            "backgroundcolor": "#E5ECF6",
            "gridcolor": "white",
            "gridwidth": 2,
            "linecolor": "white",
            "showbackground": true,
            "ticks": "",
            "zerolinecolor": "white"
           }
          },
          "shapedefaults": {
           "line": {
            "color": "#2a3f5f"
           }
          },
          "ternary": {
           "aaxis": {
            "gridcolor": "white",
            "linecolor": "white",
            "ticks": ""
           },
           "baxis": {
            "gridcolor": "white",
            "linecolor": "white",
            "ticks": ""
           },
           "bgcolor": "#E5ECF6",
           "caxis": {
            "gridcolor": "white",
            "linecolor": "white",
            "ticks": ""
           }
          },
          "title": {
           "x": 0.05
          },
          "xaxis": {
           "automargin": true,
           "gridcolor": "white",
           "linecolor": "white",
           "ticks": "",
           "title": {
            "standoff": 15
           },
           "zerolinecolor": "white",
           "zerolinewidth": 2
          },
          "yaxis": {
           "automargin": true,
           "gridcolor": "white",
           "linecolor": "white",
           "ticks": "",
           "title": {
            "standoff": 15
           },
           "zerolinecolor": "white",
           "zerolinewidth": 2
          }
         }
        },
        "title": {
         "text": "Classifier : Impact of Learning rate on the F1-score"
        },
        "xaxis": {
         "categoryorder": "median ascending",
         "domain": [
          0,
          1
         ],
         "title": {
          "text": "Learning Rate"
         },
         "type": "log"
        },
        "yaxis": {
         "title": {
          "text": "F1-Score (max)"
         }
        }
       }
      }
     },
     "metadata": {},
     "output_type": "display_data"
    }
   ],
   "source": [
    "fig = go.Figure(layout = {\n",
    "   \"xaxis\":{\n",
    "       \"domain\" : [0,1],\n",
    "       \"type\" : \"log\",\n",
    "        \"categoryorder\" : \"median ascending\",\n",
    "       \"title\" : \"Learning Rate\"\n",
    "    },\n",
    "   \"yaxis\":{\"title\" : \"F1-Score (max)\"},\n",
    "   \"title\" : {\"text\" : \"Classifier : Impact of Learning rate on the F1-score\"},\n",
    "})\n",
    "fig.add_trace( go.Box(\n",
    "                x = results[\"model_train_classifier_learning_rate\"], \n",
    "                y = results[\"test_f1_max\"],\n",
    "                xaxis='x',\n",
    "                name = \"Test\"\n",
    "))\n",
    "fig.add_trace( go.Box(\n",
    "                x = results[\"model_train_classifier_learning_rate\"], \n",
    "                y = results[\"valid_f1_max\"],\n",
    "                xaxis='x',\n",
    "                name = \"Validation\"\n",
    "))\n",
    "\n",
    "# fig.add_trace( go.Box(\n",
    "#                 x = results[\"model_train_classifier_learning_rate\"], \n",
    "#                 y = results[\"train_f1_max\"],\n",
    "#                 xaxis='x',\n",
    "#                 name = \"Train\"\n",
    "# ))\n",
    "fig"
   ]
  },
  {
   "cell_type": "code",
   "execution_count": 21,
   "metadata": {},
   "outputs": [
    {
     "data": {
      "application/vnd.plotly.v1+json": {
       "config": {
        "plotlyServerURL": "https://plotly.com"
       },
       "data": [
        {
         "name": "Validation",
         "type": "box",
         "x": [
          0.000001,
          0.01,
          0.01,
          0.01,
          0.005,
          0.005,
          0.01,
          0.000001,
          0.01,
          0.01,
          0.005,
          0.005,
          0.005,
          0.01,
          0.01,
          0.01,
          0.000001,
          0.005,
          0.005,
          0.000001,
          0.005,
          0.01,
          0.000001,
          0.005,
          0.005,
          0.005,
          0.005,
          0.005,
          0.01,
          0.000001,
          0.000001,
          0.000001,
          0.005,
          0.005,
          0.000001,
          0.000001,
          0.005,
          0.000001,
          0.000001,
          0.01,
          0.01,
          0.005,
          0.000001,
          0.01,
          0.000001,
          0.005,
          0.000001,
          0.01,
          0.01,
          0.005,
          0.01,
          0.005,
          0.01,
          0.000001,
          0.005,
          0.005,
          0.01,
          0.005,
          0.000001,
          0.005,
          0.005,
          0.01,
          0.01,
          0.01,
          0.000001,
          0.005,
          0.01,
          0.01,
          0.01,
          0.000001,
          0.005,
          0.000001,
          0.01,
          0.000001,
          0.000001,
          0.01,
          0.005,
          0.000001,
          0.000001,
          0.005,
          0.005,
          0.01,
          0.005,
          0.01,
          0.005,
          0.01,
          0.01,
          0.000001,
          0.000001,
          0.000001,
          0.005,
          0.005,
          0.000001,
          0.01,
          0.005,
          0.005,
          0.005,
          0.005,
          0.005,
          0.000001
         ],
         "xaxis": "x",
         "y": [
          1.0352147817611694,
          0.6887269616127014,
          1.066637396812439,
          1.0661628246307373,
          1.0651251077651978,
          0.8039402365684509,
          1.0717341899871826,
          1.066861271858215,
          1.0455080270767212,
          0.821679413318634,
          1.0626591444015503,
          0.8122887015342712,
          1.0213865041732788,
          1.0585943460464478,
          0.7933505773544312,
          1.0696583986282349,
          1.031765103340149,
          1.0549064874649048,
          1.03055739402771,
          1.0602622032165527,
          0.8512014150619507,
          1.064799427986145,
          1.0180034637451172,
          1.0706946849822998,
          1.0580310821533203,
          1.0694422721862793,
          0.9165627360343932,
          1.0079460144042969,
          0.8349443078041077,
          1.0698273181915283,
          0.0523035451769828,
          1.0683259963989258,
          1.057709813117981,
          0.7966796159744263,
          1.078587770462036,
          1.053215742111206,
          1.067436933517456,
          0.9644045829772948,
          1.0735267400741575,
          1.0646313428878784,
          1.0611244440078735,
          0.8207481503486633,
          1.0206546783447266,
          1.0436195135116575,
          0.2619799673557281,
          1.0706987380981443,
          0.9275727272033693,
          1.0509308576583862,
          0.8762260675430298,
          1.0381808280944824,
          1.0698076486587524,
          1.057908535003662,
          0.8997688889503479,
          0.0677533894777298,
          1.0743403434753418,
          0.9254392385482788,
          0.927806317806244,
          1.0661766529083252,
          0.7629184722900391,
          0.8958649635314941,
          0.7101210355758667,
          0.7903373837471008,
          1.057939887046814,
          1.074691891670227,
          1.030940055847168,
          1.0657740831375122,
          1.042151927947998,
          1.0607199668884275,
          1.010875582695007,
          1.0323222875595093,
          0.9840835332870485,
          1.0588154792785645,
          1.0199815034866333,
          1.053195595741272,
          1.0797394514083862,
          0.7433096170425415,
          1.0392982959747314,
          1.0546326637268066,
          1.066211819648743,
          1.0483248233795166,
          1.0625158548355105,
          1.0711138248443604,
          1.0638387203216553,
          1.072215914726257,
          0.7799303531646729,
          1.0233423709869385,
          1.0539995431900024,
          0.907995104789734,
          1.064211130142212,
          1.0560568571090698,
          1.0555901527404783,
          1.0282855033874512,
          0.8165072202682495,
          1.0432708263397217,
          1.0224205255508425,
          1.0645710229873655,
          1.0730783939361572,
          1.061910629272461,
          0.3066696524620056,
          0.9296233654022216
         ]
        }
       ],
       "layout": {
        "template": {
         "data": {
          "bar": [
           {
            "error_x": {
             "color": "#2a3f5f"
            },
            "error_y": {
             "color": "#2a3f5f"
            },
            "marker": {
             "line": {
              "color": "#E5ECF6",
              "width": 0.5
             },
             "pattern": {
              "fillmode": "overlay",
              "size": 10,
              "solidity": 0.2
             }
            },
            "type": "bar"
           }
          ],
          "barpolar": [
           {
            "marker": {
             "line": {
              "color": "#E5ECF6",
              "width": 0.5
             },
             "pattern": {
              "fillmode": "overlay",
              "size": 10,
              "solidity": 0.2
             }
            },
            "type": "barpolar"
           }
          ],
          "carpet": [
           {
            "aaxis": {
             "endlinecolor": "#2a3f5f",
             "gridcolor": "white",
             "linecolor": "white",
             "minorgridcolor": "white",
             "startlinecolor": "#2a3f5f"
            },
            "baxis": {
             "endlinecolor": "#2a3f5f",
             "gridcolor": "white",
             "linecolor": "white",
             "minorgridcolor": "white",
             "startlinecolor": "#2a3f5f"
            },
            "type": "carpet"
           }
          ],
          "choropleth": [
           {
            "colorbar": {
             "outlinewidth": 0,
             "ticks": ""
            },
            "type": "choropleth"
           }
          ],
          "contour": [
           {
            "colorbar": {
             "outlinewidth": 0,
             "ticks": ""
            },
            "colorscale": [
             [
              0,
              "#0d0887"
             ],
             [
              0.1111111111111111,
              "#46039f"
             ],
             [
              0.2222222222222222,
              "#7201a8"
             ],
             [
              0.3333333333333333,
              "#9c179e"
             ],
             [
              0.4444444444444444,
              "#bd3786"
             ],
             [
              0.5555555555555556,
              "#d8576b"
             ],
             [
              0.6666666666666666,
              "#ed7953"
             ],
             [
              0.7777777777777778,
              "#fb9f3a"
             ],
             [
              0.8888888888888888,
              "#fdca26"
             ],
             [
              1,
              "#f0f921"
             ]
            ],
            "type": "contour"
           }
          ],
          "contourcarpet": [
           {
            "colorbar": {
             "outlinewidth": 0,
             "ticks": ""
            },
            "type": "contourcarpet"
           }
          ],
          "heatmap": [
           {
            "colorbar": {
             "outlinewidth": 0,
             "ticks": ""
            },
            "colorscale": [
             [
              0,
              "#0d0887"
             ],
             [
              0.1111111111111111,
              "#46039f"
             ],
             [
              0.2222222222222222,
              "#7201a8"
             ],
             [
              0.3333333333333333,
              "#9c179e"
             ],
             [
              0.4444444444444444,
              "#bd3786"
             ],
             [
              0.5555555555555556,
              "#d8576b"
             ],
             [
              0.6666666666666666,
              "#ed7953"
             ],
             [
              0.7777777777777778,
              "#fb9f3a"
             ],
             [
              0.8888888888888888,
              "#fdca26"
             ],
             [
              1,
              "#f0f921"
             ]
            ],
            "type": "heatmap"
           }
          ],
          "heatmapgl": [
           {
            "colorbar": {
             "outlinewidth": 0,
             "ticks": ""
            },
            "colorscale": [
             [
              0,
              "#0d0887"
             ],
             [
              0.1111111111111111,
              "#46039f"
             ],
             [
              0.2222222222222222,
              "#7201a8"
             ],
             [
              0.3333333333333333,
              "#9c179e"
             ],
             [
              0.4444444444444444,
              "#bd3786"
             ],
             [
              0.5555555555555556,
              "#d8576b"
             ],
             [
              0.6666666666666666,
              "#ed7953"
             ],
             [
              0.7777777777777778,
              "#fb9f3a"
             ],
             [
              0.8888888888888888,
              "#fdca26"
             ],
             [
              1,
              "#f0f921"
             ]
            ],
            "type": "heatmapgl"
           }
          ],
          "histogram": [
           {
            "marker": {
             "pattern": {
              "fillmode": "overlay",
              "size": 10,
              "solidity": 0.2
             }
            },
            "type": "histogram"
           }
          ],
          "histogram2d": [
           {
            "colorbar": {
             "outlinewidth": 0,
             "ticks": ""
            },
            "colorscale": [
             [
              0,
              "#0d0887"
             ],
             [
              0.1111111111111111,
              "#46039f"
             ],
             [
              0.2222222222222222,
              "#7201a8"
             ],
             [
              0.3333333333333333,
              "#9c179e"
             ],
             [
              0.4444444444444444,
              "#bd3786"
             ],
             [
              0.5555555555555556,
              "#d8576b"
             ],
             [
              0.6666666666666666,
              "#ed7953"
             ],
             [
              0.7777777777777778,
              "#fb9f3a"
             ],
             [
              0.8888888888888888,
              "#fdca26"
             ],
             [
              1,
              "#f0f921"
             ]
            ],
            "type": "histogram2d"
           }
          ],
          "histogram2dcontour": [
           {
            "colorbar": {
             "outlinewidth": 0,
             "ticks": ""
            },
            "colorscale": [
             [
              0,
              "#0d0887"
             ],
             [
              0.1111111111111111,
              "#46039f"
             ],
             [
              0.2222222222222222,
              "#7201a8"
             ],
             [
              0.3333333333333333,
              "#9c179e"
             ],
             [
              0.4444444444444444,
              "#bd3786"
             ],
             [
              0.5555555555555556,
              "#d8576b"
             ],
             [
              0.6666666666666666,
              "#ed7953"
             ],
             [
              0.7777777777777778,
              "#fb9f3a"
             ],
             [
              0.8888888888888888,
              "#fdca26"
             ],
             [
              1,
              "#f0f921"
             ]
            ],
            "type": "histogram2dcontour"
           }
          ],
          "mesh3d": [
           {
            "colorbar": {
             "outlinewidth": 0,
             "ticks": ""
            },
            "type": "mesh3d"
           }
          ],
          "parcoords": [
           {
            "line": {
             "colorbar": {
              "outlinewidth": 0,
              "ticks": ""
             }
            },
            "type": "parcoords"
           }
          ],
          "pie": [
           {
            "automargin": true,
            "type": "pie"
           }
          ],
          "scatter": [
           {
            "fillpattern": {
             "fillmode": "overlay",
             "size": 10,
             "solidity": 0.2
            },
            "type": "scatter"
           }
          ],
          "scatter3d": [
           {
            "line": {
             "colorbar": {
              "outlinewidth": 0,
              "ticks": ""
             }
            },
            "marker": {
             "colorbar": {
              "outlinewidth": 0,
              "ticks": ""
             }
            },
            "type": "scatter3d"
           }
          ],
          "scattercarpet": [
           {
            "marker": {
             "colorbar": {
              "outlinewidth": 0,
              "ticks": ""
             }
            },
            "type": "scattercarpet"
           }
          ],
          "scattergeo": [
           {
            "marker": {
             "colorbar": {
              "outlinewidth": 0,
              "ticks": ""
             }
            },
            "type": "scattergeo"
           }
          ],
          "scattergl": [
           {
            "marker": {
             "colorbar": {
              "outlinewidth": 0,
              "ticks": ""
             }
            },
            "type": "scattergl"
           }
          ],
          "scattermapbox": [
           {
            "marker": {
             "colorbar": {
              "outlinewidth": 0,
              "ticks": ""
             }
            },
            "type": "scattermapbox"
           }
          ],
          "scatterpolar": [
           {
            "marker": {
             "colorbar": {
              "outlinewidth": 0,
              "ticks": ""
             }
            },
            "type": "scatterpolar"
           }
          ],
          "scatterpolargl": [
           {
            "marker": {
             "colorbar": {
              "outlinewidth": 0,
              "ticks": ""
             }
            },
            "type": "scatterpolargl"
           }
          ],
          "scatterternary": [
           {
            "marker": {
             "colorbar": {
              "outlinewidth": 0,
              "ticks": ""
             }
            },
            "type": "scatterternary"
           }
          ],
          "surface": [
           {
            "colorbar": {
             "outlinewidth": 0,
             "ticks": ""
            },
            "colorscale": [
             [
              0,
              "#0d0887"
             ],
             [
              0.1111111111111111,
              "#46039f"
             ],
             [
              0.2222222222222222,
              "#7201a8"
             ],
             [
              0.3333333333333333,
              "#9c179e"
             ],
             [
              0.4444444444444444,
              "#bd3786"
             ],
             [
              0.5555555555555556,
              "#d8576b"
             ],
             [
              0.6666666666666666,
              "#ed7953"
             ],
             [
              0.7777777777777778,
              "#fb9f3a"
             ],
             [
              0.8888888888888888,
              "#fdca26"
             ],
             [
              1,
              "#f0f921"
             ]
            ],
            "type": "surface"
           }
          ],
          "table": [
           {
            "cells": {
             "fill": {
              "color": "#EBF0F8"
             },
             "line": {
              "color": "white"
             }
            },
            "header": {
             "fill": {
              "color": "#C8D4E3"
             },
             "line": {
              "color": "white"
             }
            },
            "type": "table"
           }
          ]
         },
         "layout": {
          "annotationdefaults": {
           "arrowcolor": "#2a3f5f",
           "arrowhead": 0,
           "arrowwidth": 1
          },
          "autotypenumbers": "strict",
          "coloraxis": {
           "colorbar": {
            "outlinewidth": 0,
            "ticks": ""
           }
          },
          "colorscale": {
           "diverging": [
            [
             0,
             "#8e0152"
            ],
            [
             0.1,
             "#c51b7d"
            ],
            [
             0.2,
             "#de77ae"
            ],
            [
             0.3,
             "#f1b6da"
            ],
            [
             0.4,
             "#fde0ef"
            ],
            [
             0.5,
             "#f7f7f7"
            ],
            [
             0.6,
             "#e6f5d0"
            ],
            [
             0.7,
             "#b8e186"
            ],
            [
             0.8,
             "#7fbc41"
            ],
            [
             0.9,
             "#4d9221"
            ],
            [
             1,
             "#276419"
            ]
           ],
           "sequential": [
            [
             0,
             "#0d0887"
            ],
            [
             0.1111111111111111,
             "#46039f"
            ],
            [
             0.2222222222222222,
             "#7201a8"
            ],
            [
             0.3333333333333333,
             "#9c179e"
            ],
            [
             0.4444444444444444,
             "#bd3786"
            ],
            [
             0.5555555555555556,
             "#d8576b"
            ],
            [
             0.6666666666666666,
             "#ed7953"
            ],
            [
             0.7777777777777778,
             "#fb9f3a"
            ],
            [
             0.8888888888888888,
             "#fdca26"
            ],
            [
             1,
             "#f0f921"
            ]
           ],
           "sequentialminus": [
            [
             0,
             "#0d0887"
            ],
            [
             0.1111111111111111,
             "#46039f"
            ],
            [
             0.2222222222222222,
             "#7201a8"
            ],
            [
             0.3333333333333333,
             "#9c179e"
            ],
            [
             0.4444444444444444,
             "#bd3786"
            ],
            [
             0.5555555555555556,
             "#d8576b"
            ],
            [
             0.6666666666666666,
             "#ed7953"
            ],
            [
             0.7777777777777778,
             "#fb9f3a"
            ],
            [
             0.8888888888888888,
             "#fdca26"
            ],
            [
             1,
             "#f0f921"
            ]
           ]
          },
          "colorway": [
           "#636efa",
           "#EF553B",
           "#00cc96",
           "#ab63fa",
           "#FFA15A",
           "#19d3f3",
           "#FF6692",
           "#B6E880",
           "#FF97FF",
           "#FECB52"
          ],
          "font": {
           "color": "#2a3f5f"
          },
          "geo": {
           "bgcolor": "white",
           "lakecolor": "white",
           "landcolor": "#E5ECF6",
           "showlakes": true,
           "showland": true,
           "subunitcolor": "white"
          },
          "hoverlabel": {
           "align": "left"
          },
          "hovermode": "closest",
          "mapbox": {
           "style": "light"
          },
          "paper_bgcolor": "white",
          "plot_bgcolor": "#E5ECF6",
          "polar": {
           "angularaxis": {
            "gridcolor": "white",
            "linecolor": "white",
            "ticks": ""
           },
           "bgcolor": "#E5ECF6",
           "radialaxis": {
            "gridcolor": "white",
            "linecolor": "white",
            "ticks": ""
           }
          },
          "scene": {
           "xaxis": {
            "backgroundcolor": "#E5ECF6",
            "gridcolor": "white",
            "gridwidth": 2,
            "linecolor": "white",
            "showbackground": true,
            "ticks": "",
            "zerolinecolor": "white"
           },
           "yaxis": {
            "backgroundcolor": "#E5ECF6",
            "gridcolor": "white",
            "gridwidth": 2,
            "linecolor": "white",
            "showbackground": true,
            "ticks": "",
            "zerolinecolor": "white"
           },
           "zaxis": {
            "backgroundcolor": "#E5ECF6",
            "gridcolor": "white",
            "gridwidth": 2,
            "linecolor": "white",
            "showbackground": true,
            "ticks": "",
            "zerolinecolor": "white"
           }
          },
          "shapedefaults": {
           "line": {
            "color": "#2a3f5f"
           }
          },
          "ternary": {
           "aaxis": {
            "gridcolor": "white",
            "linecolor": "white",
            "ticks": ""
           },
           "baxis": {
            "gridcolor": "white",
            "linecolor": "white",
            "ticks": ""
           },
           "bgcolor": "#E5ECF6",
           "caxis": {
            "gridcolor": "white",
            "linecolor": "white",
            "ticks": ""
           }
          },
          "title": {
           "x": 0.05
          },
          "xaxis": {
           "automargin": true,
           "gridcolor": "white",
           "linecolor": "white",
           "ticks": "",
           "title": {
            "standoff": 15
           },
           "zerolinecolor": "white",
           "zerolinewidth": 2
          },
          "yaxis": {
           "automargin": true,
           "gridcolor": "white",
           "linecolor": "white",
           "ticks": "",
           "title": {
            "standoff": 15
           },
           "zerolinecolor": "white",
           "zerolinewidth": 2
          }
         }
        },
        "title": {
         "text": "Classifier : Impact of Learning rate on the Minimum validation loss"
        },
        "xaxis": {
         "categoryorder": "median ascending",
         "domain": [
          0,
          1
         ],
         "title": {
          "text": "Learning Rate"
         },
         "type": "log"
        },
        "yaxis": {
         "title": {
          "text": "Validation Loss Value (min)"
         }
        }
       }
      }
     },
     "metadata": {},
     "output_type": "display_data"
    }
   ],
   "source": [
    "fig = go.Figure(layout = {\n",
    "   \"xaxis\":{\n",
    "       \"domain\" : [0,1],\n",
    "       \"type\" : \"log\",\n",
    "       \"categoryorder\" : \"median ascending\",\n",
    "       \"title\" : \"Learning Rate\"\n",
    "    },\n",
    "   \"yaxis\":{\"title\" : \"Validation Loss Value (min)\"},\n",
    "   \"title\" : {\"text\" : \"Classifier : Impact of Learning rate on the Minimum validation loss\"},\n",
    "})\n",
    "fig.add_trace( go.Box(\n",
    "                x = results[\"model_train_classifier_learning_rate\"], \n",
    "                y = results[\"min_valid_loss\"],\n",
    "                xaxis='x',\n",
    "                name = \"Validation\"\n",
    "))\n",
    "\n",
    "fig"
   ]
  },
  {
   "cell_type": "markdown",
   "metadata": {},
   "source": [
    "### Momentum"
   ]
  },
  {
   "cell_type": "code",
   "execution_count": 22,
   "metadata": {},
   "outputs": [
    {
     "data": {
      "application/vnd.plotly.v1+json": {
       "config": {
        "plotlyServerURL": "https://plotly.com"
       },
       "data": [
        {
         "name": "Test",
         "type": "box",
         "x": [
          0.55,
          0.5,
          0.6,
          0.5,
          0.5,
          0.45,
          0.55,
          0.55,
          0.6,
          0.55,
          0.5,
          0.5,
          0.5,
          0.55,
          0.45,
          0.5,
          0.5,
          0.45,
          0.65,
          0.6,
          0.45,
          0.65,
          0.5,
          0.55,
          0.6,
          0.55,
          0.65,
          0.5,
          0.55,
          0.6,
          0.6,
          0.5,
          0.5,
          0.6,
          0.6,
          0.65,
          0.65,
          0.6,
          0.55,
          0.65,
          0.45,
          0.5,
          0.45,
          0.55,
          0.55,
          0.45,
          0.5,
          0.55,
          0.6,
          0.65,
          0.55,
          0.45,
          0.5,
          0.45,
          0.65,
          0.45,
          0.45,
          0.6,
          0.6,
          0.65,
          0.55,
          0.55,
          0.45,
          0.45,
          0.5,
          0.55,
          0.45,
          0.45,
          0.5,
          0.45,
          0.6,
          0.55,
          0.65,
          0.45,
          0.45,
          0.5,
          0.65,
          0.6,
          0.65,
          0.5,
          0.5,
          0.45,
          0.55,
          0.6,
          0.45,
          0.45,
          0.45,
          0.5,
          0.5,
          0.6,
          0.55,
          0.6,
          0.65,
          0.65,
          0.45,
          0.55,
          0.55,
          0.55,
          0.65,
          0.65
         ],
         "xaxis": "x",
         "y": [
          0.3493716931216931,
          0.4408068783068783,
          0.3698743386243386,
          0.3566468253968254,
          0.3296957671957671,
          0.4221230158730159,
          0.3379629629629629,
          0.3060515873015872,
          0.3589616402116402,
          0.4236111111111111,
          0.3753306878306878,
          0.4499007936507936,
          0.3513558201058201,
          0.3619378306878307,
          0.4019510582010581,
          0.3364748677248677,
          0.372850529100529,
          0.3088624338624338,
          0.363260582010582,
          0.3804563492063492,
          0.4135251322751323,
          0.3966702279202279,
          0.3126653439153439,
          0.3478835978835978,
          0.3649140211640211,
          0.3349867724867725,
          0.3693783068783068,
          0.3111772486772486,
          0.4378306878306878,
          0.3356481481481481,
          0.5047949735449736,
          0.3447420634920635,
          0.3277116402116402,
          0.4811507936507936,
          0.3313492063492063,
          0.3037367724867725,
          0.3151455026455026,
          0.3513558201058201,
          0.3156415343915344,
          0.3708664021164021,
          0.3477182539682539,
          0.4070767195767195,
          0.3634259259259259,
          0.382771164021164,
          0.4794973544973545,
          0.3298611111111111,
          0.3551587301587301,
          0.3171296296296296,
          0.3230820105820106,
          0.3667328042328042,
          0.3291997354497354,
          0.3455687830687831,
          0.3579695767195767,
          0.4867724867724867,
          0.3120039682539682,
          0.3366402116402116,
          0.3328373015873015,
          0.3373015873015872,
          0.4497354497354497,
          0.3581349206349206,
          0.4408068783068783,
          0.4712301587301588,
          0.3141534391534392,
          0.3268849206349206,
          0.2986111111111111,
          0.3455687830687831,
          0.326223544973545,
          0.3664021164021164,
          0.3237433862433862,
          0.3543320105820106,
          0.3291997354497354,
          0.3449074074074074,
          0.3549933862433862,
          0.3579695767195767,
          0.3817791005291005,
          0.4684193121693121,
          0.3468915343915344,
          0.3587962962962963,
          0.3290343915343915,
          0.3128306878306878,
          0.3009259259259259,
          0.3627645502645502,
          0.3120039682539682,
          0.3080357142857143,
          0.4250992063492064,
          0.3164682539682539,
          0.3634259259259259,
          0.404265873015873,
          0.3224206349206349,
          0.3568121693121693,
          0.3283730158730158,
          0.3268849206349206,
          0.4242724867724867,
          0.3649140211640211,
          0.3627645502645502,
          0.3252314814814814,
          0.2961309523809524,
          0.3209325396825396,
          0.5047949735449736,
          0.3440806878306878
         ]
        },
        {
         "name": "Validation",
         "type": "box",
         "x": [
          0.55,
          0.5,
          0.6,
          0.5,
          0.5,
          0.45,
          0.55,
          0.55,
          0.6,
          0.55,
          0.5,
          0.5,
          0.5,
          0.55,
          0.45,
          0.5,
          0.5,
          0.45,
          0.65,
          0.6,
          0.45,
          0.65,
          0.5,
          0.55,
          0.6,
          0.55,
          0.65,
          0.5,
          0.55,
          0.6,
          0.6,
          0.5,
          0.5,
          0.6,
          0.6,
          0.65,
          0.65,
          0.6,
          0.55,
          0.65,
          0.45,
          0.5,
          0.45,
          0.55,
          0.55,
          0.45,
          0.5,
          0.55,
          0.6,
          0.65,
          0.55,
          0.45,
          0.5,
          0.45,
          0.65,
          0.45,
          0.45,
          0.6,
          0.6,
          0.65,
          0.55,
          0.55,
          0.45,
          0.45,
          0.5,
          0.55,
          0.45,
          0.45,
          0.5,
          0.45,
          0.6,
          0.55,
          0.65,
          0.45,
          0.45,
          0.5,
          0.65,
          0.6,
          0.65,
          0.5,
          0.5,
          0.45,
          0.55,
          0.6,
          0.45,
          0.45,
          0.45,
          0.5,
          0.5,
          0.6,
          0.55,
          0.6,
          0.65,
          0.65,
          0.45,
          0.55,
          0.55,
          0.55,
          0.65,
          0.65
         ],
         "xaxis": "x",
         "y": [
          0.4014550264550264,
          0.5168650793650793,
          0.4007936507936507,
          0.3900076625281137,
          0.3692129629629629,
          0.457010582010582,
          0.398478835978836,
          0.3544513334680146,
          0.341992266992267,
          0.3857473544973545,
          0.4267526455026454,
          0.4735449735449735,
          0.3275055962555963,
          0.436083338188422,
          0.4332010582010581,
          0.4150132275132275,
          0.4159925722425722,
          0.3604497354497354,
          0.3692892629875062,
          0.4208002645502645,
          0.4469246031746031,
          0.3587962962962963,
          0.3678308079427483,
          0.3991402116402116,
          0.4161706349206349,
          0.4194775132275132,
          0.4012352235429958,
          0.3943783068783069,
          0.4436177248677248,
          0.3707010582010582,
          0.5302579365079365,
          0.404265873015873,
          0.3944012006512006,
          0.4580026455026454,
          0.4577091849436588,
          0.3696688779711167,
          0.3793549043549044,
          0.5179922249150847,
          0.3969907407407407,
          0.3576388888888889,
          0.3432171028253117,
          0.4631283068783068,
          0.3581349206349206,
          0.4603174603174603,
          0.5115740740740741,
          0.3743386243386243,
          0.4264219576719577,
          0.3312126491920115,
          0.3329263329263329,
          0.3686816446932109,
          0.398478835978836,
          0.3940145502645502,
          0.3828731453731453,
          0.5281084656084657,
          0.37880291005291,
          0.5006061742282215,
          0.3759920634920635,
          0.3713624338624338,
          0.5026455026455027,
          0.3543931526879223,
          0.4892526455026454,
          0.4533730158730159,
          0.4029431216931217,
          0.3700396825396825,
          0.386986161986162,
          0.3340163101960451,
          0.3410766679423395,
          0.3743386243386243,
          0.3759569721323452,
          0.3745039682539682,
          0.3625992063492063,
          0.4272890147056216,
          0.3915343915343915,
          0.4429563492063492,
          0.4131562881562881,
          0.4920634920634921,
          0.3713624338624338,
          0.3625992063492063,
          0.3687881562881563,
          0.3968253968253968,
          0.4177185494827626,
          0.3640873015873015,
          0.434276261319009,
          0.3618796773402036,
          0.4781746031746031,
          0.3655753968253968,
          0.3758267195767195,
          0.4556878306878307,
          0.4683958947244925,
          0.3857473544973545,
          0.3415905594661151,
          0.4109101546601546,
          0.4794973544973545,
          0.394510582010582,
          0.4310515873015873,
          0.418761238524781,
          0.4095550011441061,
          0.3640873015873015,
          0.5191798941798942,
          0.3572903947903948
         ]
        }
       ],
       "layout": {
        "template": {
         "data": {
          "bar": [
           {
            "error_x": {
             "color": "#2a3f5f"
            },
            "error_y": {
             "color": "#2a3f5f"
            },
            "marker": {
             "line": {
              "color": "#E5ECF6",
              "width": 0.5
             },
             "pattern": {
              "fillmode": "overlay",
              "size": 10,
              "solidity": 0.2
             }
            },
            "type": "bar"
           }
          ],
          "barpolar": [
           {
            "marker": {
             "line": {
              "color": "#E5ECF6",
              "width": 0.5
             },
             "pattern": {
              "fillmode": "overlay",
              "size": 10,
              "solidity": 0.2
             }
            },
            "type": "barpolar"
           }
          ],
          "carpet": [
           {
            "aaxis": {
             "endlinecolor": "#2a3f5f",
             "gridcolor": "white",
             "linecolor": "white",
             "minorgridcolor": "white",
             "startlinecolor": "#2a3f5f"
            },
            "baxis": {
             "endlinecolor": "#2a3f5f",
             "gridcolor": "white",
             "linecolor": "white",
             "minorgridcolor": "white",
             "startlinecolor": "#2a3f5f"
            },
            "type": "carpet"
           }
          ],
          "choropleth": [
           {
            "colorbar": {
             "outlinewidth": 0,
             "ticks": ""
            },
            "type": "choropleth"
           }
          ],
          "contour": [
           {
            "colorbar": {
             "outlinewidth": 0,
             "ticks": ""
            },
            "colorscale": [
             [
              0,
              "#0d0887"
             ],
             [
              0.1111111111111111,
              "#46039f"
             ],
             [
              0.2222222222222222,
              "#7201a8"
             ],
             [
              0.3333333333333333,
              "#9c179e"
             ],
             [
              0.4444444444444444,
              "#bd3786"
             ],
             [
              0.5555555555555556,
              "#d8576b"
             ],
             [
              0.6666666666666666,
              "#ed7953"
             ],
             [
              0.7777777777777778,
              "#fb9f3a"
             ],
             [
              0.8888888888888888,
              "#fdca26"
             ],
             [
              1,
              "#f0f921"
             ]
            ],
            "type": "contour"
           }
          ],
          "contourcarpet": [
           {
            "colorbar": {
             "outlinewidth": 0,
             "ticks": ""
            },
            "type": "contourcarpet"
           }
          ],
          "heatmap": [
           {
            "colorbar": {
             "outlinewidth": 0,
             "ticks": ""
            },
            "colorscale": [
             [
              0,
              "#0d0887"
             ],
             [
              0.1111111111111111,
              "#46039f"
             ],
             [
              0.2222222222222222,
              "#7201a8"
             ],
             [
              0.3333333333333333,
              "#9c179e"
             ],
             [
              0.4444444444444444,
              "#bd3786"
             ],
             [
              0.5555555555555556,
              "#d8576b"
             ],
             [
              0.6666666666666666,
              "#ed7953"
             ],
             [
              0.7777777777777778,
              "#fb9f3a"
             ],
             [
              0.8888888888888888,
              "#fdca26"
             ],
             [
              1,
              "#f0f921"
             ]
            ],
            "type": "heatmap"
           }
          ],
          "heatmapgl": [
           {
            "colorbar": {
             "outlinewidth": 0,
             "ticks": ""
            },
            "colorscale": [
             [
              0,
              "#0d0887"
             ],
             [
              0.1111111111111111,
              "#46039f"
             ],
             [
              0.2222222222222222,
              "#7201a8"
             ],
             [
              0.3333333333333333,
              "#9c179e"
             ],
             [
              0.4444444444444444,
              "#bd3786"
             ],
             [
              0.5555555555555556,
              "#d8576b"
             ],
             [
              0.6666666666666666,
              "#ed7953"
             ],
             [
              0.7777777777777778,
              "#fb9f3a"
             ],
             [
              0.8888888888888888,
              "#fdca26"
             ],
             [
              1,
              "#f0f921"
             ]
            ],
            "type": "heatmapgl"
           }
          ],
          "histogram": [
           {
            "marker": {
             "pattern": {
              "fillmode": "overlay",
              "size": 10,
              "solidity": 0.2
             }
            },
            "type": "histogram"
           }
          ],
          "histogram2d": [
           {
            "colorbar": {
             "outlinewidth": 0,
             "ticks": ""
            },
            "colorscale": [
             [
              0,
              "#0d0887"
             ],
             [
              0.1111111111111111,
              "#46039f"
             ],
             [
              0.2222222222222222,
              "#7201a8"
             ],
             [
              0.3333333333333333,
              "#9c179e"
             ],
             [
              0.4444444444444444,
              "#bd3786"
             ],
             [
              0.5555555555555556,
              "#d8576b"
             ],
             [
              0.6666666666666666,
              "#ed7953"
             ],
             [
              0.7777777777777778,
              "#fb9f3a"
             ],
             [
              0.8888888888888888,
              "#fdca26"
             ],
             [
              1,
              "#f0f921"
             ]
            ],
            "type": "histogram2d"
           }
          ],
          "histogram2dcontour": [
           {
            "colorbar": {
             "outlinewidth": 0,
             "ticks": ""
            },
            "colorscale": [
             [
              0,
              "#0d0887"
             ],
             [
              0.1111111111111111,
              "#46039f"
             ],
             [
              0.2222222222222222,
              "#7201a8"
             ],
             [
              0.3333333333333333,
              "#9c179e"
             ],
             [
              0.4444444444444444,
              "#bd3786"
             ],
             [
              0.5555555555555556,
              "#d8576b"
             ],
             [
              0.6666666666666666,
              "#ed7953"
             ],
             [
              0.7777777777777778,
              "#fb9f3a"
             ],
             [
              0.8888888888888888,
              "#fdca26"
             ],
             [
              1,
              "#f0f921"
             ]
            ],
            "type": "histogram2dcontour"
           }
          ],
          "mesh3d": [
           {
            "colorbar": {
             "outlinewidth": 0,
             "ticks": ""
            },
            "type": "mesh3d"
           }
          ],
          "parcoords": [
           {
            "line": {
             "colorbar": {
              "outlinewidth": 0,
              "ticks": ""
             }
            },
            "type": "parcoords"
           }
          ],
          "pie": [
           {
            "automargin": true,
            "type": "pie"
           }
          ],
          "scatter": [
           {
            "fillpattern": {
             "fillmode": "overlay",
             "size": 10,
             "solidity": 0.2
            },
            "type": "scatter"
           }
          ],
          "scatter3d": [
           {
            "line": {
             "colorbar": {
              "outlinewidth": 0,
              "ticks": ""
             }
            },
            "marker": {
             "colorbar": {
              "outlinewidth": 0,
              "ticks": ""
             }
            },
            "type": "scatter3d"
           }
          ],
          "scattercarpet": [
           {
            "marker": {
             "colorbar": {
              "outlinewidth": 0,
              "ticks": ""
             }
            },
            "type": "scattercarpet"
           }
          ],
          "scattergeo": [
           {
            "marker": {
             "colorbar": {
              "outlinewidth": 0,
              "ticks": ""
             }
            },
            "type": "scattergeo"
           }
          ],
          "scattergl": [
           {
            "marker": {
             "colorbar": {
              "outlinewidth": 0,
              "ticks": ""
             }
            },
            "type": "scattergl"
           }
          ],
          "scattermapbox": [
           {
            "marker": {
             "colorbar": {
              "outlinewidth": 0,
              "ticks": ""
             }
            },
            "type": "scattermapbox"
           }
          ],
          "scatterpolar": [
           {
            "marker": {
             "colorbar": {
              "outlinewidth": 0,
              "ticks": ""
             }
            },
            "type": "scatterpolar"
           }
          ],
          "scatterpolargl": [
           {
            "marker": {
             "colorbar": {
              "outlinewidth": 0,
              "ticks": ""
             }
            },
            "type": "scatterpolargl"
           }
          ],
          "scatterternary": [
           {
            "marker": {
             "colorbar": {
              "outlinewidth": 0,
              "ticks": ""
             }
            },
            "type": "scatterternary"
           }
          ],
          "surface": [
           {
            "colorbar": {
             "outlinewidth": 0,
             "ticks": ""
            },
            "colorscale": [
             [
              0,
              "#0d0887"
             ],
             [
              0.1111111111111111,
              "#46039f"
             ],
             [
              0.2222222222222222,
              "#7201a8"
             ],
             [
              0.3333333333333333,
              "#9c179e"
             ],
             [
              0.4444444444444444,
              "#bd3786"
             ],
             [
              0.5555555555555556,
              "#d8576b"
             ],
             [
              0.6666666666666666,
              "#ed7953"
             ],
             [
              0.7777777777777778,
              "#fb9f3a"
             ],
             [
              0.8888888888888888,
              "#fdca26"
             ],
             [
              1,
              "#f0f921"
             ]
            ],
            "type": "surface"
           }
          ],
          "table": [
           {
            "cells": {
             "fill": {
              "color": "#EBF0F8"
             },
             "line": {
              "color": "white"
             }
            },
            "header": {
             "fill": {
              "color": "#C8D4E3"
             },
             "line": {
              "color": "white"
             }
            },
            "type": "table"
           }
          ]
         },
         "layout": {
          "annotationdefaults": {
           "arrowcolor": "#2a3f5f",
           "arrowhead": 0,
           "arrowwidth": 1
          },
          "autotypenumbers": "strict",
          "coloraxis": {
           "colorbar": {
            "outlinewidth": 0,
            "ticks": ""
           }
          },
          "colorscale": {
           "diverging": [
            [
             0,
             "#8e0152"
            ],
            [
             0.1,
             "#c51b7d"
            ],
            [
             0.2,
             "#de77ae"
            ],
            [
             0.3,
             "#f1b6da"
            ],
            [
             0.4,
             "#fde0ef"
            ],
            [
             0.5,
             "#f7f7f7"
            ],
            [
             0.6,
             "#e6f5d0"
            ],
            [
             0.7,
             "#b8e186"
            ],
            [
             0.8,
             "#7fbc41"
            ],
            [
             0.9,
             "#4d9221"
            ],
            [
             1,
             "#276419"
            ]
           ],
           "sequential": [
            [
             0,
             "#0d0887"
            ],
            [
             0.1111111111111111,
             "#46039f"
            ],
            [
             0.2222222222222222,
             "#7201a8"
            ],
            [
             0.3333333333333333,
             "#9c179e"
            ],
            [
             0.4444444444444444,
             "#bd3786"
            ],
            [
             0.5555555555555556,
             "#d8576b"
            ],
            [
             0.6666666666666666,
             "#ed7953"
            ],
            [
             0.7777777777777778,
             "#fb9f3a"
            ],
            [
             0.8888888888888888,
             "#fdca26"
            ],
            [
             1,
             "#f0f921"
            ]
           ],
           "sequentialminus": [
            [
             0,
             "#0d0887"
            ],
            [
             0.1111111111111111,
             "#46039f"
            ],
            [
             0.2222222222222222,
             "#7201a8"
            ],
            [
             0.3333333333333333,
             "#9c179e"
            ],
            [
             0.4444444444444444,
             "#bd3786"
            ],
            [
             0.5555555555555556,
             "#d8576b"
            ],
            [
             0.6666666666666666,
             "#ed7953"
            ],
            [
             0.7777777777777778,
             "#fb9f3a"
            ],
            [
             0.8888888888888888,
             "#fdca26"
            ],
            [
             1,
             "#f0f921"
            ]
           ]
          },
          "colorway": [
           "#636efa",
           "#EF553B",
           "#00cc96",
           "#ab63fa",
           "#FFA15A",
           "#19d3f3",
           "#FF6692",
           "#B6E880",
           "#FF97FF",
           "#FECB52"
          ],
          "font": {
           "color": "#2a3f5f"
          },
          "geo": {
           "bgcolor": "white",
           "lakecolor": "white",
           "landcolor": "#E5ECF6",
           "showlakes": true,
           "showland": true,
           "subunitcolor": "white"
          },
          "hoverlabel": {
           "align": "left"
          },
          "hovermode": "closest",
          "mapbox": {
           "style": "light"
          },
          "paper_bgcolor": "white",
          "plot_bgcolor": "#E5ECF6",
          "polar": {
           "angularaxis": {
            "gridcolor": "white",
            "linecolor": "white",
            "ticks": ""
           },
           "bgcolor": "#E5ECF6",
           "radialaxis": {
            "gridcolor": "white",
            "linecolor": "white",
            "ticks": ""
           }
          },
          "scene": {
           "xaxis": {
            "backgroundcolor": "#E5ECF6",
            "gridcolor": "white",
            "gridwidth": 2,
            "linecolor": "white",
            "showbackground": true,
            "ticks": "",
            "zerolinecolor": "white"
           },
           "yaxis": {
            "backgroundcolor": "#E5ECF6",
            "gridcolor": "white",
            "gridwidth": 2,
            "linecolor": "white",
            "showbackground": true,
            "ticks": "",
            "zerolinecolor": "white"
           },
           "zaxis": {
            "backgroundcolor": "#E5ECF6",
            "gridcolor": "white",
            "gridwidth": 2,
            "linecolor": "white",
            "showbackground": true,
            "ticks": "",
            "zerolinecolor": "white"
           }
          },
          "shapedefaults": {
           "line": {
            "color": "#2a3f5f"
           }
          },
          "ternary": {
           "aaxis": {
            "gridcolor": "white",
            "linecolor": "white",
            "ticks": ""
           },
           "baxis": {
            "gridcolor": "white",
            "linecolor": "white",
            "ticks": ""
           },
           "bgcolor": "#E5ECF6",
           "caxis": {
            "gridcolor": "white",
            "linecolor": "white",
            "ticks": ""
           }
          },
          "title": {
           "x": 0.05
          },
          "xaxis": {
           "automargin": true,
           "gridcolor": "white",
           "linecolor": "white",
           "ticks": "",
           "title": {
            "standoff": 15
           },
           "zerolinecolor": "white",
           "zerolinewidth": 2
          },
          "yaxis": {
           "automargin": true,
           "gridcolor": "white",
           "linecolor": "white",
           "ticks": "",
           "title": {
            "standoff": 15
           },
           "zerolinecolor": "white",
           "zerolinewidth": 2
          }
         }
        },
        "title": {
         "text": "Classifier : Impact of momentum on the F1-score"
        },
        "xaxis": {
         "domain": [
          0,
          1
         ],
         "title": {
          "text": "Momentum"
         },
         "type": "log"
        },
        "yaxis": {
         "title": {
          "text": "F1-Score (max)"
         }
        }
       }
      }
     },
     "metadata": {},
     "output_type": "display_data"
    }
   ],
   "source": [
    "fig = go.Figure(layout = {\n",
    "   \"xaxis\":{\n",
    "       \"domain\" : [0,1],\n",
    "       \"type\" : \"log\",\n",
    "        # \"categoryorder\" : \"median ascending\",\n",
    "       \"title\" : \"Momentum\"\n",
    "    },\n",
    "   \"yaxis\":{\"title\" : \"F1-Score (max)\"},\n",
    "   \"title\" : {\"text\" : \"Classifier : Impact of momentum on the F1-score\"},\n",
    "})\n",
    "fig.add_trace( go.Box(\n",
    "                x = results[\"model_train_classifier_momentum\"], \n",
    "                y = results[\"test_f1_max\"],\n",
    "                xaxis='x',\n",
    "                name = \"Test\"\n",
    "))\n",
    "fig.add_trace( go.Box(\n",
    "                x = results[\"model_train_classifier_momentum\"], \n",
    "                y = results[\"valid_f1_max\"],\n",
    "                xaxis='x',\n",
    "                name = \"Validation\"\n",
    "))\n",
    "\n",
    "# fig.add_trace( go.Box(\n",
    "#                 x = results[\"model_train_classifier_learning_rate\"], \n",
    "#                 y = results[\"train_f1_max\"],\n",
    "#                 xaxis='x',\n",
    "#                 name = \"Train\"\n",
    "# ))\n",
    "fig"
   ]
  },
  {
   "cell_type": "code",
   "execution_count": 23,
   "metadata": {},
   "outputs": [
    {
     "data": {
      "application/vnd.plotly.v1+json": {
       "config": {
        "plotlyServerURL": "https://plotly.com"
       },
       "data": [
        {
         "name": "Validation",
         "type": "box",
         "x": [
          0.55,
          0.5,
          0.6,
          0.5,
          0.5,
          0.45,
          0.55,
          0.55,
          0.6,
          0.55,
          0.5,
          0.5,
          0.5,
          0.55,
          0.45,
          0.5,
          0.5,
          0.45,
          0.65,
          0.6,
          0.45,
          0.65,
          0.5,
          0.55,
          0.6,
          0.55,
          0.65,
          0.5,
          0.55,
          0.6,
          0.6,
          0.5,
          0.5,
          0.6,
          0.6,
          0.65,
          0.65,
          0.6,
          0.55,
          0.65,
          0.45,
          0.5,
          0.45,
          0.55,
          0.55,
          0.45,
          0.5,
          0.55,
          0.6,
          0.65,
          0.55,
          0.45,
          0.5,
          0.45,
          0.65,
          0.45,
          0.45,
          0.6,
          0.6,
          0.65,
          0.55,
          0.55,
          0.45,
          0.45,
          0.5,
          0.55,
          0.45,
          0.45,
          0.5,
          0.45,
          0.6,
          0.55,
          0.65,
          0.45,
          0.45,
          0.5,
          0.65,
          0.6,
          0.65,
          0.5,
          0.5,
          0.45,
          0.55,
          0.6,
          0.45,
          0.45,
          0.45,
          0.5,
          0.5,
          0.6,
          0.55,
          0.6,
          0.65,
          0.65,
          0.45,
          0.55,
          0.55,
          0.55,
          0.65,
          0.65
         ],
         "xaxis": "x",
         "y": [
          1.0352147817611694,
          0.6887269616127014,
          1.066637396812439,
          1.0661628246307373,
          1.0651251077651978,
          0.8039402365684509,
          1.0717341899871826,
          1.066861271858215,
          1.0455080270767212,
          0.821679413318634,
          1.0626591444015503,
          0.8122887015342712,
          1.0213865041732788,
          1.0585943460464478,
          0.7933505773544312,
          1.0696583986282349,
          1.031765103340149,
          1.0549064874649048,
          1.03055739402771,
          1.0602622032165527,
          0.8512014150619507,
          1.064799427986145,
          1.0180034637451172,
          1.0706946849822998,
          1.0580310821533203,
          1.0694422721862793,
          0.9165627360343932,
          1.0079460144042969,
          0.8349443078041077,
          1.0698273181915283,
          0.0523035451769828,
          1.0683259963989258,
          1.057709813117981,
          0.7966796159744263,
          1.078587770462036,
          1.053215742111206,
          1.067436933517456,
          0.9644045829772948,
          1.0735267400741575,
          1.0646313428878784,
          1.0611244440078735,
          0.8207481503486633,
          1.0206546783447266,
          1.0436195135116575,
          0.2619799673557281,
          1.0706987380981443,
          0.9275727272033693,
          1.0509308576583862,
          0.8762260675430298,
          1.0381808280944824,
          1.0698076486587524,
          1.057908535003662,
          0.8997688889503479,
          0.0677533894777298,
          1.0743403434753418,
          0.9254392385482788,
          0.927806317806244,
          1.0661766529083252,
          0.7629184722900391,
          0.8958649635314941,
          0.7101210355758667,
          0.7903373837471008,
          1.057939887046814,
          1.074691891670227,
          1.030940055847168,
          1.0657740831375122,
          1.042151927947998,
          1.0607199668884275,
          1.010875582695007,
          1.0323222875595093,
          0.9840835332870485,
          1.0588154792785645,
          1.0199815034866333,
          1.053195595741272,
          1.0797394514083862,
          0.7433096170425415,
          1.0392982959747314,
          1.0546326637268066,
          1.066211819648743,
          1.0483248233795166,
          1.0625158548355105,
          1.0711138248443604,
          1.0638387203216553,
          1.072215914726257,
          0.7799303531646729,
          1.0233423709869385,
          1.0539995431900024,
          0.907995104789734,
          1.064211130142212,
          1.0560568571090698,
          1.0555901527404783,
          1.0282855033874512,
          0.8165072202682495,
          1.0432708263397217,
          1.0224205255508425,
          1.0645710229873655,
          1.0730783939361572,
          1.061910629272461,
          0.3066696524620056,
          0.9296233654022216
         ]
        }
       ],
       "layout": {
        "template": {
         "data": {
          "bar": [
           {
            "error_x": {
             "color": "#2a3f5f"
            },
            "error_y": {
             "color": "#2a3f5f"
            },
            "marker": {
             "line": {
              "color": "#E5ECF6",
              "width": 0.5
             },
             "pattern": {
              "fillmode": "overlay",
              "size": 10,
              "solidity": 0.2
             }
            },
            "type": "bar"
           }
          ],
          "barpolar": [
           {
            "marker": {
             "line": {
              "color": "#E5ECF6",
              "width": 0.5
             },
             "pattern": {
              "fillmode": "overlay",
              "size": 10,
              "solidity": 0.2
             }
            },
            "type": "barpolar"
           }
          ],
          "carpet": [
           {
            "aaxis": {
             "endlinecolor": "#2a3f5f",
             "gridcolor": "white",
             "linecolor": "white",
             "minorgridcolor": "white",
             "startlinecolor": "#2a3f5f"
            },
            "baxis": {
             "endlinecolor": "#2a3f5f",
             "gridcolor": "white",
             "linecolor": "white",
             "minorgridcolor": "white",
             "startlinecolor": "#2a3f5f"
            },
            "type": "carpet"
           }
          ],
          "choropleth": [
           {
            "colorbar": {
             "outlinewidth": 0,
             "ticks": ""
            },
            "type": "choropleth"
           }
          ],
          "contour": [
           {
            "colorbar": {
             "outlinewidth": 0,
             "ticks": ""
            },
            "colorscale": [
             [
              0,
              "#0d0887"
             ],
             [
              0.1111111111111111,
              "#46039f"
             ],
             [
              0.2222222222222222,
              "#7201a8"
             ],
             [
              0.3333333333333333,
              "#9c179e"
             ],
             [
              0.4444444444444444,
              "#bd3786"
             ],
             [
              0.5555555555555556,
              "#d8576b"
             ],
             [
              0.6666666666666666,
              "#ed7953"
             ],
             [
              0.7777777777777778,
              "#fb9f3a"
             ],
             [
              0.8888888888888888,
              "#fdca26"
             ],
             [
              1,
              "#f0f921"
             ]
            ],
            "type": "contour"
           }
          ],
          "contourcarpet": [
           {
            "colorbar": {
             "outlinewidth": 0,
             "ticks": ""
            },
            "type": "contourcarpet"
           }
          ],
          "heatmap": [
           {
            "colorbar": {
             "outlinewidth": 0,
             "ticks": ""
            },
            "colorscale": [
             [
              0,
              "#0d0887"
             ],
             [
              0.1111111111111111,
              "#46039f"
             ],
             [
              0.2222222222222222,
              "#7201a8"
             ],
             [
              0.3333333333333333,
              "#9c179e"
             ],
             [
              0.4444444444444444,
              "#bd3786"
             ],
             [
              0.5555555555555556,
              "#d8576b"
             ],
             [
              0.6666666666666666,
              "#ed7953"
             ],
             [
              0.7777777777777778,
              "#fb9f3a"
             ],
             [
              0.8888888888888888,
              "#fdca26"
             ],
             [
              1,
              "#f0f921"
             ]
            ],
            "type": "heatmap"
           }
          ],
          "heatmapgl": [
           {
            "colorbar": {
             "outlinewidth": 0,
             "ticks": ""
            },
            "colorscale": [
             [
              0,
              "#0d0887"
             ],
             [
              0.1111111111111111,
              "#46039f"
             ],
             [
              0.2222222222222222,
              "#7201a8"
             ],
             [
              0.3333333333333333,
              "#9c179e"
             ],
             [
              0.4444444444444444,
              "#bd3786"
             ],
             [
              0.5555555555555556,
              "#d8576b"
             ],
             [
              0.6666666666666666,
              "#ed7953"
             ],
             [
              0.7777777777777778,
              "#fb9f3a"
             ],
             [
              0.8888888888888888,
              "#fdca26"
             ],
             [
              1,
              "#f0f921"
             ]
            ],
            "type": "heatmapgl"
           }
          ],
          "histogram": [
           {
            "marker": {
             "pattern": {
              "fillmode": "overlay",
              "size": 10,
              "solidity": 0.2
             }
            },
            "type": "histogram"
           }
          ],
          "histogram2d": [
           {
            "colorbar": {
             "outlinewidth": 0,
             "ticks": ""
            },
            "colorscale": [
             [
              0,
              "#0d0887"
             ],
             [
              0.1111111111111111,
              "#46039f"
             ],
             [
              0.2222222222222222,
              "#7201a8"
             ],
             [
              0.3333333333333333,
              "#9c179e"
             ],
             [
              0.4444444444444444,
              "#bd3786"
             ],
             [
              0.5555555555555556,
              "#d8576b"
             ],
             [
              0.6666666666666666,
              "#ed7953"
             ],
             [
              0.7777777777777778,
              "#fb9f3a"
             ],
             [
              0.8888888888888888,
              "#fdca26"
             ],
             [
              1,
              "#f0f921"
             ]
            ],
            "type": "histogram2d"
           }
          ],
          "histogram2dcontour": [
           {
            "colorbar": {
             "outlinewidth": 0,
             "ticks": ""
            },
            "colorscale": [
             [
              0,
              "#0d0887"
             ],
             [
              0.1111111111111111,
              "#46039f"
             ],
             [
              0.2222222222222222,
              "#7201a8"
             ],
             [
              0.3333333333333333,
              "#9c179e"
             ],
             [
              0.4444444444444444,
              "#bd3786"
             ],
             [
              0.5555555555555556,
              "#d8576b"
             ],
             [
              0.6666666666666666,
              "#ed7953"
             ],
             [
              0.7777777777777778,
              "#fb9f3a"
             ],
             [
              0.8888888888888888,
              "#fdca26"
             ],
             [
              1,
              "#f0f921"
             ]
            ],
            "type": "histogram2dcontour"
           }
          ],
          "mesh3d": [
           {
            "colorbar": {
             "outlinewidth": 0,
             "ticks": ""
            },
            "type": "mesh3d"
           }
          ],
          "parcoords": [
           {
            "line": {
             "colorbar": {
              "outlinewidth": 0,
              "ticks": ""
             }
            },
            "type": "parcoords"
           }
          ],
          "pie": [
           {
            "automargin": true,
            "type": "pie"
           }
          ],
          "scatter": [
           {
            "fillpattern": {
             "fillmode": "overlay",
             "size": 10,
             "solidity": 0.2
            },
            "type": "scatter"
           }
          ],
          "scatter3d": [
           {
            "line": {
             "colorbar": {
              "outlinewidth": 0,
              "ticks": ""
             }
            },
            "marker": {
             "colorbar": {
              "outlinewidth": 0,
              "ticks": ""
             }
            },
            "type": "scatter3d"
           }
          ],
          "scattercarpet": [
           {
            "marker": {
             "colorbar": {
              "outlinewidth": 0,
              "ticks": ""
             }
            },
            "type": "scattercarpet"
           }
          ],
          "scattergeo": [
           {
            "marker": {
             "colorbar": {
              "outlinewidth": 0,
              "ticks": ""
             }
            },
            "type": "scattergeo"
           }
          ],
          "scattergl": [
           {
            "marker": {
             "colorbar": {
              "outlinewidth": 0,
              "ticks": ""
             }
            },
            "type": "scattergl"
           }
          ],
          "scattermapbox": [
           {
            "marker": {
             "colorbar": {
              "outlinewidth": 0,
              "ticks": ""
             }
            },
            "type": "scattermapbox"
           }
          ],
          "scatterpolar": [
           {
            "marker": {
             "colorbar": {
              "outlinewidth": 0,
              "ticks": ""
             }
            },
            "type": "scatterpolar"
           }
          ],
          "scatterpolargl": [
           {
            "marker": {
             "colorbar": {
              "outlinewidth": 0,
              "ticks": ""
             }
            },
            "type": "scatterpolargl"
           }
          ],
          "scatterternary": [
           {
            "marker": {
             "colorbar": {
              "outlinewidth": 0,
              "ticks": ""
             }
            },
            "type": "scatterternary"
           }
          ],
          "surface": [
           {
            "colorbar": {
             "outlinewidth": 0,
             "ticks": ""
            },
            "colorscale": [
             [
              0,
              "#0d0887"
             ],
             [
              0.1111111111111111,
              "#46039f"
             ],
             [
              0.2222222222222222,
              "#7201a8"
             ],
             [
              0.3333333333333333,
              "#9c179e"
             ],
             [
              0.4444444444444444,
              "#bd3786"
             ],
             [
              0.5555555555555556,
              "#d8576b"
             ],
             [
              0.6666666666666666,
              "#ed7953"
             ],
             [
              0.7777777777777778,
              "#fb9f3a"
             ],
             [
              0.8888888888888888,
              "#fdca26"
             ],
             [
              1,
              "#f0f921"
             ]
            ],
            "type": "surface"
           }
          ],
          "table": [
           {
            "cells": {
             "fill": {
              "color": "#EBF0F8"
             },
             "line": {
              "color": "white"
             }
            },
            "header": {
             "fill": {
              "color": "#C8D4E3"
             },
             "line": {
              "color": "white"
             }
            },
            "type": "table"
           }
          ]
         },
         "layout": {
          "annotationdefaults": {
           "arrowcolor": "#2a3f5f",
           "arrowhead": 0,
           "arrowwidth": 1
          },
          "autotypenumbers": "strict",
          "coloraxis": {
           "colorbar": {
            "outlinewidth": 0,
            "ticks": ""
           }
          },
          "colorscale": {
           "diverging": [
            [
             0,
             "#8e0152"
            ],
            [
             0.1,
             "#c51b7d"
            ],
            [
             0.2,
             "#de77ae"
            ],
            [
             0.3,
             "#f1b6da"
            ],
            [
             0.4,
             "#fde0ef"
            ],
            [
             0.5,
             "#f7f7f7"
            ],
            [
             0.6,
             "#e6f5d0"
            ],
            [
             0.7,
             "#b8e186"
            ],
            [
             0.8,
             "#7fbc41"
            ],
            [
             0.9,
             "#4d9221"
            ],
            [
             1,
             "#276419"
            ]
           ],
           "sequential": [
            [
             0,
             "#0d0887"
            ],
            [
             0.1111111111111111,
             "#46039f"
            ],
            [
             0.2222222222222222,
             "#7201a8"
            ],
            [
             0.3333333333333333,
             "#9c179e"
            ],
            [
             0.4444444444444444,
             "#bd3786"
            ],
            [
             0.5555555555555556,
             "#d8576b"
            ],
            [
             0.6666666666666666,
             "#ed7953"
            ],
            [
             0.7777777777777778,
             "#fb9f3a"
            ],
            [
             0.8888888888888888,
             "#fdca26"
            ],
            [
             1,
             "#f0f921"
            ]
           ],
           "sequentialminus": [
            [
             0,
             "#0d0887"
            ],
            [
             0.1111111111111111,
             "#46039f"
            ],
            [
             0.2222222222222222,
             "#7201a8"
            ],
            [
             0.3333333333333333,
             "#9c179e"
            ],
            [
             0.4444444444444444,
             "#bd3786"
            ],
            [
             0.5555555555555556,
             "#d8576b"
            ],
            [
             0.6666666666666666,
             "#ed7953"
            ],
            [
             0.7777777777777778,
             "#fb9f3a"
            ],
            [
             0.8888888888888888,
             "#fdca26"
            ],
            [
             1,
             "#f0f921"
            ]
           ]
          },
          "colorway": [
           "#636efa",
           "#EF553B",
           "#00cc96",
           "#ab63fa",
           "#FFA15A",
           "#19d3f3",
           "#FF6692",
           "#B6E880",
           "#FF97FF",
           "#FECB52"
          ],
          "font": {
           "color": "#2a3f5f"
          },
          "geo": {
           "bgcolor": "white",
           "lakecolor": "white",
           "landcolor": "#E5ECF6",
           "showlakes": true,
           "showland": true,
           "subunitcolor": "white"
          },
          "hoverlabel": {
           "align": "left"
          },
          "hovermode": "closest",
          "mapbox": {
           "style": "light"
          },
          "paper_bgcolor": "white",
          "plot_bgcolor": "#E5ECF6",
          "polar": {
           "angularaxis": {
            "gridcolor": "white",
            "linecolor": "white",
            "ticks": ""
           },
           "bgcolor": "#E5ECF6",
           "radialaxis": {
            "gridcolor": "white",
            "linecolor": "white",
            "ticks": ""
           }
          },
          "scene": {
           "xaxis": {
            "backgroundcolor": "#E5ECF6",
            "gridcolor": "white",
            "gridwidth": 2,
            "linecolor": "white",
            "showbackground": true,
            "ticks": "",
            "zerolinecolor": "white"
           },
           "yaxis": {
            "backgroundcolor": "#E5ECF6",
            "gridcolor": "white",
            "gridwidth": 2,
            "linecolor": "white",
            "showbackground": true,
            "ticks": "",
            "zerolinecolor": "white"
           },
           "zaxis": {
            "backgroundcolor": "#E5ECF6",
            "gridcolor": "white",
            "gridwidth": 2,
            "linecolor": "white",
            "showbackground": true,
            "ticks": "",
            "zerolinecolor": "white"
           }
          },
          "shapedefaults": {
           "line": {
            "color": "#2a3f5f"
           }
          },
          "ternary": {
           "aaxis": {
            "gridcolor": "white",
            "linecolor": "white",
            "ticks": ""
           },
           "baxis": {
            "gridcolor": "white",
            "linecolor": "white",
            "ticks": ""
           },
           "bgcolor": "#E5ECF6",
           "caxis": {
            "gridcolor": "white",
            "linecolor": "white",
            "ticks": ""
           }
          },
          "title": {
           "x": 0.05
          },
          "xaxis": {
           "automargin": true,
           "gridcolor": "white",
           "linecolor": "white",
           "ticks": "",
           "title": {
            "standoff": 15
           },
           "zerolinecolor": "white",
           "zerolinewidth": 2
          },
          "yaxis": {
           "automargin": true,
           "gridcolor": "white",
           "linecolor": "white",
           "ticks": "",
           "title": {
            "standoff": 15
           },
           "zerolinecolor": "white",
           "zerolinewidth": 2
          }
         }
        },
        "title": {
         "text": "Classifier : Impact of momentum on the Minimum validation loss"
        },
        "xaxis": {
         "domain": [
          0,
          1
         ],
         "title": {
          "text": "Momentum"
         },
         "type": "log"
        },
        "yaxis": {
         "title": {
          "text": "Validation Loss Value (min)"
         }
        }
       }
      }
     },
     "metadata": {},
     "output_type": "display_data"
    }
   ],
   "source": [
    "fig = go.Figure(layout = {\n",
    "   \"xaxis\":{\n",
    "       \"domain\" : [0,1],\n",
    "       \"type\" : \"log\",\n",
    "        # \"categoryorder\" : \"median ascending\",\n",
    "       \"title\" : \"Momentum\"\n",
    "    },\n",
    "   \"yaxis\":{\"title\" : \"Validation Loss Value (min)\"},\n",
    "   \"title\" : {\"text\" : \"Classifier : Impact of momentum on the Minimum validation loss\"},\n",
    "})\n",
    "fig.add_trace( go.Box(\n",
    "                x = results[\"model_train_classifier_momentum\"], \n",
    "                y = results[\"min_valid_loss\"],\n",
    "                xaxis='x',\n",
    "                name = \"Validation\"\n",
    "))\n",
    "\n",
    "fig"
   ]
  },
  {
   "cell_type": "markdown",
   "metadata": {},
   "source": [
    "### Weight decay NEEDS TO BE REMADE WITH  LESS VALUES"
   ]
  },
  {
   "cell_type": "code",
   "execution_count": 24,
   "metadata": {},
   "outputs": [
    {
     "data": {
      "application/vnd.plotly.v1+json": {
       "config": {
        "plotlyServerURL": "https://plotly.com"
       },
       "data": [
        {
         "name": "Test",
         "type": "box",
         "x": [
          0.004,
          0.001,
          0.004,
          0.004,
          0.001,
          0.001,
          0.005,
          0.004,
          0.004,
          0.004,
          0.004,
          0.001,
          0.001,
          0.004,
          0.003,
          0.002,
          0.005,
          0.005,
          0.005,
          0.001,
          0.001,
          0.004,
          0.003,
          0.004,
          0.003,
          0.003,
          0.005,
          0.001,
          0.002,
          0.003,
          0.005,
          0.004,
          0.001,
          0.003,
          0.001,
          0.004,
          0.001,
          0.002,
          0.005,
          0.001,
          0.003,
          0.003,
          0.005,
          0.001,
          0.005,
          0.003,
          0.004,
          0.002,
          0.005,
          0.002,
          0.004,
          0.003,
          0.004,
          0.001,
          0.004,
          0.002,
          0.002,
          0.001,
          0.005,
          0.005,
          0.003,
          0.001,
          0.001,
          0.004,
          0.002,
          0.005,
          0.005,
          0.002,
          0.002,
          0.005,
          0.004,
          0.003,
          0.004,
          0.004,
          0.001,
          0.002,
          0.005,
          0.002,
          0.004,
          0.001,
          0.003,
          0.005,
          0.003,
          0.002,
          0.005,
          0.005,
          0.005,
          0.001,
          0.002,
          0.005,
          0.005,
          0.004,
          0.002,
          0.001,
          0.005,
          0.001,
          0.001,
          0.001,
          0.002,
          0.001
         ],
         "xaxis": "x",
         "y": [
          0.3493716931216931,
          0.4408068783068783,
          0.3698743386243386,
          0.3566468253968254,
          0.3296957671957671,
          0.4221230158730159,
          0.3379629629629629,
          0.3060515873015872,
          0.3589616402116402,
          0.4236111111111111,
          0.3753306878306878,
          0.4499007936507936,
          0.3513558201058201,
          0.3619378306878307,
          0.4019510582010581,
          0.3364748677248677,
          0.372850529100529,
          0.3088624338624338,
          0.363260582010582,
          0.3804563492063492,
          0.4135251322751323,
          0.3966702279202279,
          0.3126653439153439,
          0.3478835978835978,
          0.3649140211640211,
          0.3349867724867725,
          0.3693783068783068,
          0.3111772486772486,
          0.4378306878306878,
          0.3356481481481481,
          0.5047949735449736,
          0.3447420634920635,
          0.3277116402116402,
          0.4811507936507936,
          0.3313492063492063,
          0.3037367724867725,
          0.3151455026455026,
          0.3513558201058201,
          0.3156415343915344,
          0.3708664021164021,
          0.3477182539682539,
          0.4070767195767195,
          0.3634259259259259,
          0.382771164021164,
          0.4794973544973545,
          0.3298611111111111,
          0.3551587301587301,
          0.3171296296296296,
          0.3230820105820106,
          0.3667328042328042,
          0.3291997354497354,
          0.3455687830687831,
          0.3579695767195767,
          0.4867724867724867,
          0.3120039682539682,
          0.3366402116402116,
          0.3328373015873015,
          0.3373015873015872,
          0.4497354497354497,
          0.3581349206349206,
          0.4408068783068783,
          0.4712301587301588,
          0.3141534391534392,
          0.3268849206349206,
          0.2986111111111111,
          0.3455687830687831,
          0.326223544973545,
          0.3664021164021164,
          0.3237433862433862,
          0.3543320105820106,
          0.3291997354497354,
          0.3449074074074074,
          0.3549933862433862,
          0.3579695767195767,
          0.3817791005291005,
          0.4684193121693121,
          0.3468915343915344,
          0.3587962962962963,
          0.3290343915343915,
          0.3128306878306878,
          0.3009259259259259,
          0.3627645502645502,
          0.3120039682539682,
          0.3080357142857143,
          0.4250992063492064,
          0.3164682539682539,
          0.3634259259259259,
          0.404265873015873,
          0.3224206349206349,
          0.3568121693121693,
          0.3283730158730158,
          0.3268849206349206,
          0.4242724867724867,
          0.3649140211640211,
          0.3627645502645502,
          0.3252314814814814,
          0.2961309523809524,
          0.3209325396825396,
          0.5047949735449736,
          0.3440806878306878
         ]
        },
        {
         "name": "Validation",
         "type": "box",
         "x": [
          0.004,
          0.001,
          0.004,
          0.004,
          0.001,
          0.001,
          0.005,
          0.004,
          0.004,
          0.004,
          0.004,
          0.001,
          0.001,
          0.004,
          0.003,
          0.002,
          0.005,
          0.005,
          0.005,
          0.001,
          0.001,
          0.004,
          0.003,
          0.004,
          0.003,
          0.003,
          0.005,
          0.001,
          0.002,
          0.003,
          0.005,
          0.004,
          0.001,
          0.003,
          0.001,
          0.004,
          0.001,
          0.002,
          0.005,
          0.001,
          0.003,
          0.003,
          0.005,
          0.001,
          0.005,
          0.003,
          0.004,
          0.002,
          0.005,
          0.002,
          0.004,
          0.003,
          0.004,
          0.001,
          0.004,
          0.002,
          0.002,
          0.001,
          0.005,
          0.005,
          0.003,
          0.001,
          0.001,
          0.004,
          0.002,
          0.005,
          0.005,
          0.002,
          0.002,
          0.005,
          0.004,
          0.003,
          0.004,
          0.004,
          0.001,
          0.002,
          0.005,
          0.002,
          0.004,
          0.001,
          0.003,
          0.005,
          0.003,
          0.002,
          0.005,
          0.005,
          0.005,
          0.001,
          0.002,
          0.005,
          0.005,
          0.004,
          0.002,
          0.001,
          0.005,
          0.001,
          0.001,
          0.001,
          0.002,
          0.001
         ],
         "xaxis": "x",
         "y": [
          0.4014550264550264,
          0.5168650793650793,
          0.4007936507936507,
          0.3900076625281137,
          0.3692129629629629,
          0.457010582010582,
          0.398478835978836,
          0.3544513334680146,
          0.341992266992267,
          0.3857473544973545,
          0.4267526455026454,
          0.4735449735449735,
          0.3275055962555963,
          0.436083338188422,
          0.4332010582010581,
          0.4150132275132275,
          0.4159925722425722,
          0.3604497354497354,
          0.3692892629875062,
          0.4208002645502645,
          0.4469246031746031,
          0.3587962962962963,
          0.3678308079427483,
          0.3991402116402116,
          0.4161706349206349,
          0.4194775132275132,
          0.4012352235429958,
          0.3943783068783069,
          0.4436177248677248,
          0.3707010582010582,
          0.5302579365079365,
          0.404265873015873,
          0.3944012006512006,
          0.4580026455026454,
          0.4577091849436588,
          0.3696688779711167,
          0.3793549043549044,
          0.5179922249150847,
          0.3969907407407407,
          0.3576388888888889,
          0.3432171028253117,
          0.4631283068783068,
          0.3581349206349206,
          0.4603174603174603,
          0.5115740740740741,
          0.3743386243386243,
          0.4264219576719577,
          0.3312126491920115,
          0.3329263329263329,
          0.3686816446932109,
          0.398478835978836,
          0.3940145502645502,
          0.3828731453731453,
          0.5281084656084657,
          0.37880291005291,
          0.5006061742282215,
          0.3759920634920635,
          0.3713624338624338,
          0.5026455026455027,
          0.3543931526879223,
          0.4892526455026454,
          0.4533730158730159,
          0.4029431216931217,
          0.3700396825396825,
          0.386986161986162,
          0.3340163101960451,
          0.3410766679423395,
          0.3743386243386243,
          0.3759569721323452,
          0.3745039682539682,
          0.3625992063492063,
          0.4272890147056216,
          0.3915343915343915,
          0.4429563492063492,
          0.4131562881562881,
          0.4920634920634921,
          0.3713624338624338,
          0.3625992063492063,
          0.3687881562881563,
          0.3968253968253968,
          0.4177185494827626,
          0.3640873015873015,
          0.434276261319009,
          0.3618796773402036,
          0.4781746031746031,
          0.3655753968253968,
          0.3758267195767195,
          0.4556878306878307,
          0.4683958947244925,
          0.3857473544973545,
          0.3415905594661151,
          0.4109101546601546,
          0.4794973544973545,
          0.394510582010582,
          0.4310515873015873,
          0.418761238524781,
          0.4095550011441061,
          0.3640873015873015,
          0.5191798941798942,
          0.3572903947903948
         ]
        }
       ],
       "layout": {
        "template": {
         "data": {
          "bar": [
           {
            "error_x": {
             "color": "#2a3f5f"
            },
            "error_y": {
             "color": "#2a3f5f"
            },
            "marker": {
             "line": {
              "color": "#E5ECF6",
              "width": 0.5
             },
             "pattern": {
              "fillmode": "overlay",
              "size": 10,
              "solidity": 0.2
             }
            },
            "type": "bar"
           }
          ],
          "barpolar": [
           {
            "marker": {
             "line": {
              "color": "#E5ECF6",
              "width": 0.5
             },
             "pattern": {
              "fillmode": "overlay",
              "size": 10,
              "solidity": 0.2
             }
            },
            "type": "barpolar"
           }
          ],
          "carpet": [
           {
            "aaxis": {
             "endlinecolor": "#2a3f5f",
             "gridcolor": "white",
             "linecolor": "white",
             "minorgridcolor": "white",
             "startlinecolor": "#2a3f5f"
            },
            "baxis": {
             "endlinecolor": "#2a3f5f",
             "gridcolor": "white",
             "linecolor": "white",
             "minorgridcolor": "white",
             "startlinecolor": "#2a3f5f"
            },
            "type": "carpet"
           }
          ],
          "choropleth": [
           {
            "colorbar": {
             "outlinewidth": 0,
             "ticks": ""
            },
            "type": "choropleth"
           }
          ],
          "contour": [
           {
            "colorbar": {
             "outlinewidth": 0,
             "ticks": ""
            },
            "colorscale": [
             [
              0,
              "#0d0887"
             ],
             [
              0.1111111111111111,
              "#46039f"
             ],
             [
              0.2222222222222222,
              "#7201a8"
             ],
             [
              0.3333333333333333,
              "#9c179e"
             ],
             [
              0.4444444444444444,
              "#bd3786"
             ],
             [
              0.5555555555555556,
              "#d8576b"
             ],
             [
              0.6666666666666666,
              "#ed7953"
             ],
             [
              0.7777777777777778,
              "#fb9f3a"
             ],
             [
              0.8888888888888888,
              "#fdca26"
             ],
             [
              1,
              "#f0f921"
             ]
            ],
            "type": "contour"
           }
          ],
          "contourcarpet": [
           {
            "colorbar": {
             "outlinewidth": 0,
             "ticks": ""
            },
            "type": "contourcarpet"
           }
          ],
          "heatmap": [
           {
            "colorbar": {
             "outlinewidth": 0,
             "ticks": ""
            },
            "colorscale": [
             [
              0,
              "#0d0887"
             ],
             [
              0.1111111111111111,
              "#46039f"
             ],
             [
              0.2222222222222222,
              "#7201a8"
             ],
             [
              0.3333333333333333,
              "#9c179e"
             ],
             [
              0.4444444444444444,
              "#bd3786"
             ],
             [
              0.5555555555555556,
              "#d8576b"
             ],
             [
              0.6666666666666666,
              "#ed7953"
             ],
             [
              0.7777777777777778,
              "#fb9f3a"
             ],
             [
              0.8888888888888888,
              "#fdca26"
             ],
             [
              1,
              "#f0f921"
             ]
            ],
            "type": "heatmap"
           }
          ],
          "heatmapgl": [
           {
            "colorbar": {
             "outlinewidth": 0,
             "ticks": ""
            },
            "colorscale": [
             [
              0,
              "#0d0887"
             ],
             [
              0.1111111111111111,
              "#46039f"
             ],
             [
              0.2222222222222222,
              "#7201a8"
             ],
             [
              0.3333333333333333,
              "#9c179e"
             ],
             [
              0.4444444444444444,
              "#bd3786"
             ],
             [
              0.5555555555555556,
              "#d8576b"
             ],
             [
              0.6666666666666666,
              "#ed7953"
             ],
             [
              0.7777777777777778,
              "#fb9f3a"
             ],
             [
              0.8888888888888888,
              "#fdca26"
             ],
             [
              1,
              "#f0f921"
             ]
            ],
            "type": "heatmapgl"
           }
          ],
          "histogram": [
           {
            "marker": {
             "pattern": {
              "fillmode": "overlay",
              "size": 10,
              "solidity": 0.2
             }
            },
            "type": "histogram"
           }
          ],
          "histogram2d": [
           {
            "colorbar": {
             "outlinewidth": 0,
             "ticks": ""
            },
            "colorscale": [
             [
              0,
              "#0d0887"
             ],
             [
              0.1111111111111111,
              "#46039f"
             ],
             [
              0.2222222222222222,
              "#7201a8"
             ],
             [
              0.3333333333333333,
              "#9c179e"
             ],
             [
              0.4444444444444444,
              "#bd3786"
             ],
             [
              0.5555555555555556,
              "#d8576b"
             ],
             [
              0.6666666666666666,
              "#ed7953"
             ],
             [
              0.7777777777777778,
              "#fb9f3a"
             ],
             [
              0.8888888888888888,
              "#fdca26"
             ],
             [
              1,
              "#f0f921"
             ]
            ],
            "type": "histogram2d"
           }
          ],
          "histogram2dcontour": [
           {
            "colorbar": {
             "outlinewidth": 0,
             "ticks": ""
            },
            "colorscale": [
             [
              0,
              "#0d0887"
             ],
             [
              0.1111111111111111,
              "#46039f"
             ],
             [
              0.2222222222222222,
              "#7201a8"
             ],
             [
              0.3333333333333333,
              "#9c179e"
             ],
             [
              0.4444444444444444,
              "#bd3786"
             ],
             [
              0.5555555555555556,
              "#d8576b"
             ],
             [
              0.6666666666666666,
              "#ed7953"
             ],
             [
              0.7777777777777778,
              "#fb9f3a"
             ],
             [
              0.8888888888888888,
              "#fdca26"
             ],
             [
              1,
              "#f0f921"
             ]
            ],
            "type": "histogram2dcontour"
           }
          ],
          "mesh3d": [
           {
            "colorbar": {
             "outlinewidth": 0,
             "ticks": ""
            },
            "type": "mesh3d"
           }
          ],
          "parcoords": [
           {
            "line": {
             "colorbar": {
              "outlinewidth": 0,
              "ticks": ""
             }
            },
            "type": "parcoords"
           }
          ],
          "pie": [
           {
            "automargin": true,
            "type": "pie"
           }
          ],
          "scatter": [
           {
            "fillpattern": {
             "fillmode": "overlay",
             "size": 10,
             "solidity": 0.2
            },
            "type": "scatter"
           }
          ],
          "scatter3d": [
           {
            "line": {
             "colorbar": {
              "outlinewidth": 0,
              "ticks": ""
             }
            },
            "marker": {
             "colorbar": {
              "outlinewidth": 0,
              "ticks": ""
             }
            },
            "type": "scatter3d"
           }
          ],
          "scattercarpet": [
           {
            "marker": {
             "colorbar": {
              "outlinewidth": 0,
              "ticks": ""
             }
            },
            "type": "scattercarpet"
           }
          ],
          "scattergeo": [
           {
            "marker": {
             "colorbar": {
              "outlinewidth": 0,
              "ticks": ""
             }
            },
            "type": "scattergeo"
           }
          ],
          "scattergl": [
           {
            "marker": {
             "colorbar": {
              "outlinewidth": 0,
              "ticks": ""
             }
            },
            "type": "scattergl"
           }
          ],
          "scattermapbox": [
           {
            "marker": {
             "colorbar": {
              "outlinewidth": 0,
              "ticks": ""
             }
            },
            "type": "scattermapbox"
           }
          ],
          "scatterpolar": [
           {
            "marker": {
             "colorbar": {
              "outlinewidth": 0,
              "ticks": ""
             }
            },
            "type": "scatterpolar"
           }
          ],
          "scatterpolargl": [
           {
            "marker": {
             "colorbar": {
              "outlinewidth": 0,
              "ticks": ""
             }
            },
            "type": "scatterpolargl"
           }
          ],
          "scatterternary": [
           {
            "marker": {
             "colorbar": {
              "outlinewidth": 0,
              "ticks": ""
             }
            },
            "type": "scatterternary"
           }
          ],
          "surface": [
           {
            "colorbar": {
             "outlinewidth": 0,
             "ticks": ""
            },
            "colorscale": [
             [
              0,
              "#0d0887"
             ],
             [
              0.1111111111111111,
              "#46039f"
             ],
             [
              0.2222222222222222,
              "#7201a8"
             ],
             [
              0.3333333333333333,
              "#9c179e"
             ],
             [
              0.4444444444444444,
              "#bd3786"
             ],
             [
              0.5555555555555556,
              "#d8576b"
             ],
             [
              0.6666666666666666,
              "#ed7953"
             ],
             [
              0.7777777777777778,
              "#fb9f3a"
             ],
             [
              0.8888888888888888,
              "#fdca26"
             ],
             [
              1,
              "#f0f921"
             ]
            ],
            "type": "surface"
           }
          ],
          "table": [
           {
            "cells": {
             "fill": {
              "color": "#EBF0F8"
             },
             "line": {
              "color": "white"
             }
            },
            "header": {
             "fill": {
              "color": "#C8D4E3"
             },
             "line": {
              "color": "white"
             }
            },
            "type": "table"
           }
          ]
         },
         "layout": {
          "annotationdefaults": {
           "arrowcolor": "#2a3f5f",
           "arrowhead": 0,
           "arrowwidth": 1
          },
          "autotypenumbers": "strict",
          "coloraxis": {
           "colorbar": {
            "outlinewidth": 0,
            "ticks": ""
           }
          },
          "colorscale": {
           "diverging": [
            [
             0,
             "#8e0152"
            ],
            [
             0.1,
             "#c51b7d"
            ],
            [
             0.2,
             "#de77ae"
            ],
            [
             0.3,
             "#f1b6da"
            ],
            [
             0.4,
             "#fde0ef"
            ],
            [
             0.5,
             "#f7f7f7"
            ],
            [
             0.6,
             "#e6f5d0"
            ],
            [
             0.7,
             "#b8e186"
            ],
            [
             0.8,
             "#7fbc41"
            ],
            [
             0.9,
             "#4d9221"
            ],
            [
             1,
             "#276419"
            ]
           ],
           "sequential": [
            [
             0,
             "#0d0887"
            ],
            [
             0.1111111111111111,
             "#46039f"
            ],
            [
             0.2222222222222222,
             "#7201a8"
            ],
            [
             0.3333333333333333,
             "#9c179e"
            ],
            [
             0.4444444444444444,
             "#bd3786"
            ],
            [
             0.5555555555555556,
             "#d8576b"
            ],
            [
             0.6666666666666666,
             "#ed7953"
            ],
            [
             0.7777777777777778,
             "#fb9f3a"
            ],
            [
             0.8888888888888888,
             "#fdca26"
            ],
            [
             1,
             "#f0f921"
            ]
           ],
           "sequentialminus": [
            [
             0,
             "#0d0887"
            ],
            [
             0.1111111111111111,
             "#46039f"
            ],
            [
             0.2222222222222222,
             "#7201a8"
            ],
            [
             0.3333333333333333,
             "#9c179e"
            ],
            [
             0.4444444444444444,
             "#bd3786"
            ],
            [
             0.5555555555555556,
             "#d8576b"
            ],
            [
             0.6666666666666666,
             "#ed7953"
            ],
            [
             0.7777777777777778,
             "#fb9f3a"
            ],
            [
             0.8888888888888888,
             "#fdca26"
            ],
            [
             1,
             "#f0f921"
            ]
           ]
          },
          "colorway": [
           "#636efa",
           "#EF553B",
           "#00cc96",
           "#ab63fa",
           "#FFA15A",
           "#19d3f3",
           "#FF6692",
           "#B6E880",
           "#FF97FF",
           "#FECB52"
          ],
          "font": {
           "color": "#2a3f5f"
          },
          "geo": {
           "bgcolor": "white",
           "lakecolor": "white",
           "landcolor": "#E5ECF6",
           "showlakes": true,
           "showland": true,
           "subunitcolor": "white"
          },
          "hoverlabel": {
           "align": "left"
          },
          "hovermode": "closest",
          "mapbox": {
           "style": "light"
          },
          "paper_bgcolor": "white",
          "plot_bgcolor": "#E5ECF6",
          "polar": {
           "angularaxis": {
            "gridcolor": "white",
            "linecolor": "white",
            "ticks": ""
           },
           "bgcolor": "#E5ECF6",
           "radialaxis": {
            "gridcolor": "white",
            "linecolor": "white",
            "ticks": ""
           }
          },
          "scene": {
           "xaxis": {
            "backgroundcolor": "#E5ECF6",
            "gridcolor": "white",
            "gridwidth": 2,
            "linecolor": "white",
            "showbackground": true,
            "ticks": "",
            "zerolinecolor": "white"
           },
           "yaxis": {
            "backgroundcolor": "#E5ECF6",
            "gridcolor": "white",
            "gridwidth": 2,
            "linecolor": "white",
            "showbackground": true,
            "ticks": "",
            "zerolinecolor": "white"
           },
           "zaxis": {
            "backgroundcolor": "#E5ECF6",
            "gridcolor": "white",
            "gridwidth": 2,
            "linecolor": "white",
            "showbackground": true,
            "ticks": "",
            "zerolinecolor": "white"
           }
          },
          "shapedefaults": {
           "line": {
            "color": "#2a3f5f"
           }
          },
          "ternary": {
           "aaxis": {
            "gridcolor": "white",
            "linecolor": "white",
            "ticks": ""
           },
           "baxis": {
            "gridcolor": "white",
            "linecolor": "white",
            "ticks": ""
           },
           "bgcolor": "#E5ECF6",
           "caxis": {
            "gridcolor": "white",
            "linecolor": "white",
            "ticks": ""
           }
          },
          "title": {
           "x": 0.05
          },
          "xaxis": {
           "automargin": true,
           "gridcolor": "white",
           "linecolor": "white",
           "ticks": "",
           "title": {
            "standoff": 15
           },
           "zerolinecolor": "white",
           "zerolinewidth": 2
          },
          "yaxis": {
           "automargin": true,
           "gridcolor": "white",
           "linecolor": "white",
           "ticks": "",
           "title": {
            "standoff": 15
           },
           "zerolinecolor": "white",
           "zerolinewidth": 2
          }
         }
        },
        "title": {
         "text": "Impact of weight decay on the F1-score"
        },
        "xaxis": {
         "categoryorder": "median ascending",
         "domain": [
          0,
          1
         ],
         "title": {
          "text": "Classifier : Weight decay"
         },
         "type": "category"
        },
        "yaxis": {
         "title": {
          "text": "F1-Score (max)"
         }
        }
       }
      }
     },
     "metadata": {},
     "output_type": "display_data"
    }
   ],
   "source": [
    "fig = go.Figure(layout = {\n",
    "   \"xaxis\":{\n",
    "       \"domain\" : [0,1],\n",
    "       \"type\" : \"category\",\n",
    "        \"categoryorder\" : \"median ascending\",\n",
    "       \"title\" : \"Classifier : Weight decay\"\n",
    "    },\n",
    "   \"yaxis\":{\"title\" : \"F1-Score (max)\"},\n",
    "   \"title\" : {\"text\" : \"Impact of weight decay on the F1-score\"},\n",
    "})\n",
    "fig.add_trace( go.Box(\n",
    "                x = results[\"model_train_classifier_weight_decay\"], \n",
    "                y = results[\"test_f1_max\"],\n",
    "                xaxis='x',\n",
    "                name = \"Test\"\n",
    "))\n",
    "fig.add_trace( go.Box(\n",
    "                x = results[\"model_train_classifier_weight_decay\"], \n",
    "                y = results[\"valid_f1_max\"],\n",
    "                xaxis='x',\n",
    "                name = \"Validation\"\n",
    "))\n",
    "\n",
    "# fig.add_trace( go.Box(\n",
    "#                 x = results[\"model_train_classifier_learning_rate\"], \n",
    "#                 y = results[\"train_f1_max\"],\n",
    "#                 xaxis='x',\n",
    "#                 name = \"Train\"\n",
    "# ))\n",
    "fig"
   ]
  },
  {
   "cell_type": "code",
   "execution_count": 25,
   "metadata": {},
   "outputs": [
    {
     "data": {
      "application/vnd.plotly.v1+json": {
       "config": {
        "plotlyServerURL": "https://plotly.com"
       },
       "data": [
        {
         "name": "Validation",
         "type": "box",
         "x": [
          0.004,
          0.001,
          0.004,
          0.004,
          0.001,
          0.001,
          0.005,
          0.004,
          0.004,
          0.004,
          0.004,
          0.001,
          0.001,
          0.004,
          0.003,
          0.002,
          0.005,
          0.005,
          0.005,
          0.001,
          0.001,
          0.004,
          0.003,
          0.004,
          0.003,
          0.003,
          0.005,
          0.001,
          0.002,
          0.003,
          0.005,
          0.004,
          0.001,
          0.003,
          0.001,
          0.004,
          0.001,
          0.002,
          0.005,
          0.001,
          0.003,
          0.003,
          0.005,
          0.001,
          0.005,
          0.003,
          0.004,
          0.002,
          0.005,
          0.002,
          0.004,
          0.003,
          0.004,
          0.001,
          0.004,
          0.002,
          0.002,
          0.001,
          0.005,
          0.005,
          0.003,
          0.001,
          0.001,
          0.004,
          0.002,
          0.005,
          0.005,
          0.002,
          0.002,
          0.005,
          0.004,
          0.003,
          0.004,
          0.004,
          0.001,
          0.002,
          0.005,
          0.002,
          0.004,
          0.001,
          0.003,
          0.005,
          0.003,
          0.002,
          0.005,
          0.005,
          0.005,
          0.001,
          0.002,
          0.005,
          0.005,
          0.004,
          0.002,
          0.001,
          0.005,
          0.001,
          0.001,
          0.001,
          0.002,
          0.001
         ],
         "xaxis": "x",
         "y": [
          1.0352147817611694,
          0.6887269616127014,
          1.066637396812439,
          1.0661628246307373,
          1.0651251077651978,
          0.8039402365684509,
          1.0717341899871826,
          1.066861271858215,
          1.0455080270767212,
          0.821679413318634,
          1.0626591444015503,
          0.8122887015342712,
          1.0213865041732788,
          1.0585943460464478,
          0.7933505773544312,
          1.0696583986282349,
          1.031765103340149,
          1.0549064874649048,
          1.03055739402771,
          1.0602622032165527,
          0.8512014150619507,
          1.064799427986145,
          1.0180034637451172,
          1.0706946849822998,
          1.0580310821533203,
          1.0694422721862793,
          0.9165627360343932,
          1.0079460144042969,
          0.8349443078041077,
          1.0698273181915283,
          0.0523035451769828,
          1.0683259963989258,
          1.057709813117981,
          0.7966796159744263,
          1.078587770462036,
          1.053215742111206,
          1.067436933517456,
          0.9644045829772948,
          1.0735267400741575,
          1.0646313428878784,
          1.0611244440078735,
          0.8207481503486633,
          1.0206546783447266,
          1.0436195135116575,
          0.2619799673557281,
          1.0706987380981443,
          0.9275727272033693,
          1.0509308576583862,
          0.8762260675430298,
          1.0381808280944824,
          1.0698076486587524,
          1.057908535003662,
          0.8997688889503479,
          0.0677533894777298,
          1.0743403434753418,
          0.9254392385482788,
          0.927806317806244,
          1.0661766529083252,
          0.7629184722900391,
          0.8958649635314941,
          0.7101210355758667,
          0.7903373837471008,
          1.057939887046814,
          1.074691891670227,
          1.030940055847168,
          1.0657740831375122,
          1.042151927947998,
          1.0607199668884275,
          1.010875582695007,
          1.0323222875595093,
          0.9840835332870485,
          1.0588154792785645,
          1.0199815034866333,
          1.053195595741272,
          1.0797394514083862,
          0.7433096170425415,
          1.0392982959747314,
          1.0546326637268066,
          1.066211819648743,
          1.0483248233795166,
          1.0625158548355105,
          1.0711138248443604,
          1.0638387203216553,
          1.072215914726257,
          0.7799303531646729,
          1.0233423709869385,
          1.0539995431900024,
          0.907995104789734,
          1.064211130142212,
          1.0560568571090698,
          1.0555901527404783,
          1.0282855033874512,
          0.8165072202682495,
          1.0432708263397217,
          1.0224205255508425,
          1.0645710229873655,
          1.0730783939361572,
          1.061910629272461,
          0.3066696524620056,
          0.9296233654022216
         ]
        }
       ],
       "layout": {
        "template": {
         "data": {
          "bar": [
           {
            "error_x": {
             "color": "#2a3f5f"
            },
            "error_y": {
             "color": "#2a3f5f"
            },
            "marker": {
             "line": {
              "color": "#E5ECF6",
              "width": 0.5
             },
             "pattern": {
              "fillmode": "overlay",
              "size": 10,
              "solidity": 0.2
             }
            },
            "type": "bar"
           }
          ],
          "barpolar": [
           {
            "marker": {
             "line": {
              "color": "#E5ECF6",
              "width": 0.5
             },
             "pattern": {
              "fillmode": "overlay",
              "size": 10,
              "solidity": 0.2
             }
            },
            "type": "barpolar"
           }
          ],
          "carpet": [
           {
            "aaxis": {
             "endlinecolor": "#2a3f5f",
             "gridcolor": "white",
             "linecolor": "white",
             "minorgridcolor": "white",
             "startlinecolor": "#2a3f5f"
            },
            "baxis": {
             "endlinecolor": "#2a3f5f",
             "gridcolor": "white",
             "linecolor": "white",
             "minorgridcolor": "white",
             "startlinecolor": "#2a3f5f"
            },
            "type": "carpet"
           }
          ],
          "choropleth": [
           {
            "colorbar": {
             "outlinewidth": 0,
             "ticks": ""
            },
            "type": "choropleth"
           }
          ],
          "contour": [
           {
            "colorbar": {
             "outlinewidth": 0,
             "ticks": ""
            },
            "colorscale": [
             [
              0,
              "#0d0887"
             ],
             [
              0.1111111111111111,
              "#46039f"
             ],
             [
              0.2222222222222222,
              "#7201a8"
             ],
             [
              0.3333333333333333,
              "#9c179e"
             ],
             [
              0.4444444444444444,
              "#bd3786"
             ],
             [
              0.5555555555555556,
              "#d8576b"
             ],
             [
              0.6666666666666666,
              "#ed7953"
             ],
             [
              0.7777777777777778,
              "#fb9f3a"
             ],
             [
              0.8888888888888888,
              "#fdca26"
             ],
             [
              1,
              "#f0f921"
             ]
            ],
            "type": "contour"
           }
          ],
          "contourcarpet": [
           {
            "colorbar": {
             "outlinewidth": 0,
             "ticks": ""
            },
            "type": "contourcarpet"
           }
          ],
          "heatmap": [
           {
            "colorbar": {
             "outlinewidth": 0,
             "ticks": ""
            },
            "colorscale": [
             [
              0,
              "#0d0887"
             ],
             [
              0.1111111111111111,
              "#46039f"
             ],
             [
              0.2222222222222222,
              "#7201a8"
             ],
             [
              0.3333333333333333,
              "#9c179e"
             ],
             [
              0.4444444444444444,
              "#bd3786"
             ],
             [
              0.5555555555555556,
              "#d8576b"
             ],
             [
              0.6666666666666666,
              "#ed7953"
             ],
             [
              0.7777777777777778,
              "#fb9f3a"
             ],
             [
              0.8888888888888888,
              "#fdca26"
             ],
             [
              1,
              "#f0f921"
             ]
            ],
            "type": "heatmap"
           }
          ],
          "heatmapgl": [
           {
            "colorbar": {
             "outlinewidth": 0,
             "ticks": ""
            },
            "colorscale": [
             [
              0,
              "#0d0887"
             ],
             [
              0.1111111111111111,
              "#46039f"
             ],
             [
              0.2222222222222222,
              "#7201a8"
             ],
             [
              0.3333333333333333,
              "#9c179e"
             ],
             [
              0.4444444444444444,
              "#bd3786"
             ],
             [
              0.5555555555555556,
              "#d8576b"
             ],
             [
              0.6666666666666666,
              "#ed7953"
             ],
             [
              0.7777777777777778,
              "#fb9f3a"
             ],
             [
              0.8888888888888888,
              "#fdca26"
             ],
             [
              1,
              "#f0f921"
             ]
            ],
            "type": "heatmapgl"
           }
          ],
          "histogram": [
           {
            "marker": {
             "pattern": {
              "fillmode": "overlay",
              "size": 10,
              "solidity": 0.2
             }
            },
            "type": "histogram"
           }
          ],
          "histogram2d": [
           {
            "colorbar": {
             "outlinewidth": 0,
             "ticks": ""
            },
            "colorscale": [
             [
              0,
              "#0d0887"
             ],
             [
              0.1111111111111111,
              "#46039f"
             ],
             [
              0.2222222222222222,
              "#7201a8"
             ],
             [
              0.3333333333333333,
              "#9c179e"
             ],
             [
              0.4444444444444444,
              "#bd3786"
             ],
             [
              0.5555555555555556,
              "#d8576b"
             ],
             [
              0.6666666666666666,
              "#ed7953"
             ],
             [
              0.7777777777777778,
              "#fb9f3a"
             ],
             [
              0.8888888888888888,
              "#fdca26"
             ],
             [
              1,
              "#f0f921"
             ]
            ],
            "type": "histogram2d"
           }
          ],
          "histogram2dcontour": [
           {
            "colorbar": {
             "outlinewidth": 0,
             "ticks": ""
            },
            "colorscale": [
             [
              0,
              "#0d0887"
             ],
             [
              0.1111111111111111,
              "#46039f"
             ],
             [
              0.2222222222222222,
              "#7201a8"
             ],
             [
              0.3333333333333333,
              "#9c179e"
             ],
             [
              0.4444444444444444,
              "#bd3786"
             ],
             [
              0.5555555555555556,
              "#d8576b"
             ],
             [
              0.6666666666666666,
              "#ed7953"
             ],
             [
              0.7777777777777778,
              "#fb9f3a"
             ],
             [
              0.8888888888888888,
              "#fdca26"
             ],
             [
              1,
              "#f0f921"
             ]
            ],
            "type": "histogram2dcontour"
           }
          ],
          "mesh3d": [
           {
            "colorbar": {
             "outlinewidth": 0,
             "ticks": ""
            },
            "type": "mesh3d"
           }
          ],
          "parcoords": [
           {
            "line": {
             "colorbar": {
              "outlinewidth": 0,
              "ticks": ""
             }
            },
            "type": "parcoords"
           }
          ],
          "pie": [
           {
            "automargin": true,
            "type": "pie"
           }
          ],
          "scatter": [
           {
            "fillpattern": {
             "fillmode": "overlay",
             "size": 10,
             "solidity": 0.2
            },
            "type": "scatter"
           }
          ],
          "scatter3d": [
           {
            "line": {
             "colorbar": {
              "outlinewidth": 0,
              "ticks": ""
             }
            },
            "marker": {
             "colorbar": {
              "outlinewidth": 0,
              "ticks": ""
             }
            },
            "type": "scatter3d"
           }
          ],
          "scattercarpet": [
           {
            "marker": {
             "colorbar": {
              "outlinewidth": 0,
              "ticks": ""
             }
            },
            "type": "scattercarpet"
           }
          ],
          "scattergeo": [
           {
            "marker": {
             "colorbar": {
              "outlinewidth": 0,
              "ticks": ""
             }
            },
            "type": "scattergeo"
           }
          ],
          "scattergl": [
           {
            "marker": {
             "colorbar": {
              "outlinewidth": 0,
              "ticks": ""
             }
            },
            "type": "scattergl"
           }
          ],
          "scattermapbox": [
           {
            "marker": {
             "colorbar": {
              "outlinewidth": 0,
              "ticks": ""
             }
            },
            "type": "scattermapbox"
           }
          ],
          "scatterpolar": [
           {
            "marker": {
             "colorbar": {
              "outlinewidth": 0,
              "ticks": ""
             }
            },
            "type": "scatterpolar"
           }
          ],
          "scatterpolargl": [
           {
            "marker": {
             "colorbar": {
              "outlinewidth": 0,
              "ticks": ""
             }
            },
            "type": "scatterpolargl"
           }
          ],
          "scatterternary": [
           {
            "marker": {
             "colorbar": {
              "outlinewidth": 0,
              "ticks": ""
             }
            },
            "type": "scatterternary"
           }
          ],
          "surface": [
           {
            "colorbar": {
             "outlinewidth": 0,
             "ticks": ""
            },
            "colorscale": [
             [
              0,
              "#0d0887"
             ],
             [
              0.1111111111111111,
              "#46039f"
             ],
             [
              0.2222222222222222,
              "#7201a8"
             ],
             [
              0.3333333333333333,
              "#9c179e"
             ],
             [
              0.4444444444444444,
              "#bd3786"
             ],
             [
              0.5555555555555556,
              "#d8576b"
             ],
             [
              0.6666666666666666,
              "#ed7953"
             ],
             [
              0.7777777777777778,
              "#fb9f3a"
             ],
             [
              0.8888888888888888,
              "#fdca26"
             ],
             [
              1,
              "#f0f921"
             ]
            ],
            "type": "surface"
           }
          ],
          "table": [
           {
            "cells": {
             "fill": {
              "color": "#EBF0F8"
             },
             "line": {
              "color": "white"
             }
            },
            "header": {
             "fill": {
              "color": "#C8D4E3"
             },
             "line": {
              "color": "white"
             }
            },
            "type": "table"
           }
          ]
         },
         "layout": {
          "annotationdefaults": {
           "arrowcolor": "#2a3f5f",
           "arrowhead": 0,
           "arrowwidth": 1
          },
          "autotypenumbers": "strict",
          "coloraxis": {
           "colorbar": {
            "outlinewidth": 0,
            "ticks": ""
           }
          },
          "colorscale": {
           "diverging": [
            [
             0,
             "#8e0152"
            ],
            [
             0.1,
             "#c51b7d"
            ],
            [
             0.2,
             "#de77ae"
            ],
            [
             0.3,
             "#f1b6da"
            ],
            [
             0.4,
             "#fde0ef"
            ],
            [
             0.5,
             "#f7f7f7"
            ],
            [
             0.6,
             "#e6f5d0"
            ],
            [
             0.7,
             "#b8e186"
            ],
            [
             0.8,
             "#7fbc41"
            ],
            [
             0.9,
             "#4d9221"
            ],
            [
             1,
             "#276419"
            ]
           ],
           "sequential": [
            [
             0,
             "#0d0887"
            ],
            [
             0.1111111111111111,
             "#46039f"
            ],
            [
             0.2222222222222222,
             "#7201a8"
            ],
            [
             0.3333333333333333,
             "#9c179e"
            ],
            [
             0.4444444444444444,
             "#bd3786"
            ],
            [
             0.5555555555555556,
             "#d8576b"
            ],
            [
             0.6666666666666666,
             "#ed7953"
            ],
            [
             0.7777777777777778,
             "#fb9f3a"
            ],
            [
             0.8888888888888888,
             "#fdca26"
            ],
            [
             1,
             "#f0f921"
            ]
           ],
           "sequentialminus": [
            [
             0,
             "#0d0887"
            ],
            [
             0.1111111111111111,
             "#46039f"
            ],
            [
             0.2222222222222222,
             "#7201a8"
            ],
            [
             0.3333333333333333,
             "#9c179e"
            ],
            [
             0.4444444444444444,
             "#bd3786"
            ],
            [
             0.5555555555555556,
             "#d8576b"
            ],
            [
             0.6666666666666666,
             "#ed7953"
            ],
            [
             0.7777777777777778,
             "#fb9f3a"
            ],
            [
             0.8888888888888888,
             "#fdca26"
            ],
            [
             1,
             "#f0f921"
            ]
           ]
          },
          "colorway": [
           "#636efa",
           "#EF553B",
           "#00cc96",
           "#ab63fa",
           "#FFA15A",
           "#19d3f3",
           "#FF6692",
           "#B6E880",
           "#FF97FF",
           "#FECB52"
          ],
          "font": {
           "color": "#2a3f5f"
          },
          "geo": {
           "bgcolor": "white",
           "lakecolor": "white",
           "landcolor": "#E5ECF6",
           "showlakes": true,
           "showland": true,
           "subunitcolor": "white"
          },
          "hoverlabel": {
           "align": "left"
          },
          "hovermode": "closest",
          "mapbox": {
           "style": "light"
          },
          "paper_bgcolor": "white",
          "plot_bgcolor": "#E5ECF6",
          "polar": {
           "angularaxis": {
            "gridcolor": "white",
            "linecolor": "white",
            "ticks": ""
           },
           "bgcolor": "#E5ECF6",
           "radialaxis": {
            "gridcolor": "white",
            "linecolor": "white",
            "ticks": ""
           }
          },
          "scene": {
           "xaxis": {
            "backgroundcolor": "#E5ECF6",
            "gridcolor": "white",
            "gridwidth": 2,
            "linecolor": "white",
            "showbackground": true,
            "ticks": "",
            "zerolinecolor": "white"
           },
           "yaxis": {
            "backgroundcolor": "#E5ECF6",
            "gridcolor": "white",
            "gridwidth": 2,
            "linecolor": "white",
            "showbackground": true,
            "ticks": "",
            "zerolinecolor": "white"
           },
           "zaxis": {
            "backgroundcolor": "#E5ECF6",
            "gridcolor": "white",
            "gridwidth": 2,
            "linecolor": "white",
            "showbackground": true,
            "ticks": "",
            "zerolinecolor": "white"
           }
          },
          "shapedefaults": {
           "line": {
            "color": "#2a3f5f"
           }
          },
          "ternary": {
           "aaxis": {
            "gridcolor": "white",
            "linecolor": "white",
            "ticks": ""
           },
           "baxis": {
            "gridcolor": "white",
            "linecolor": "white",
            "ticks": ""
           },
           "bgcolor": "#E5ECF6",
           "caxis": {
            "gridcolor": "white",
            "linecolor": "white",
            "ticks": ""
           }
          },
          "title": {
           "x": 0.05
          },
          "xaxis": {
           "automargin": true,
           "gridcolor": "white",
           "linecolor": "white",
           "ticks": "",
           "title": {
            "standoff": 15
           },
           "zerolinecolor": "white",
           "zerolinewidth": 2
          },
          "yaxis": {
           "automargin": true,
           "gridcolor": "white",
           "linecolor": "white",
           "ticks": "",
           "title": {
            "standoff": 15
           },
           "zerolinecolor": "white",
           "zerolinewidth": 2
          }
         }
        },
        "title": {
         "text": "Impact of weight decay on the Minimum validation loss"
        },
        "xaxis": {
         "categoryorder": "median ascending",
         "domain": [
          0,
          1
         ],
         "title": {
          "text": "Classifier : Weight decay"
         },
         "type": "category"
        },
        "yaxis": {
         "title": {
          "text": "Validation Loss Value (min)"
         }
        }
       }
      }
     },
     "metadata": {},
     "output_type": "display_data"
    }
   ],
   "source": [
    "fig = go.Figure(layout = {\n",
    "   \"xaxis\":{\n",
    "       \"domain\" : [0,1],\n",
    "       \"type\" : \"category\",\n",
    "        \"categoryorder\" : \"median ascending\",\n",
    "       \"title\" : \"Classifier : Weight decay\"\n",
    "    },\n",
    "   \"yaxis\":{\"title\" : \"Validation Loss Value (min)\"},\n",
    "   \"title\" : {\"text\" : \"Impact of weight decay on the Minimum validation loss\"},\n",
    "})\n",
    "fig.add_trace( go.Box(\n",
    "                x = results[\"model_train_classifier_weight_decay\"], \n",
    "                y = results[\"min_valid_loss\"],\n",
    "                xaxis='x',\n",
    "                name = \"Validation\"\n",
    "))\n",
    "\n",
    "fig"
   ]
  },
  {
   "cell_type": "markdown",
   "metadata": {},
   "source": [
    "### Hidden layer dimension (Needs additional values)"
   ]
  },
  {
   "cell_type": "code",
   "execution_count": 26,
   "metadata": {},
   "outputs": [
    {
     "data": {
      "application/vnd.plotly.v1+json": {
       "config": {
        "plotlyServerURL": "https://plotly.com"
       },
       "data": [
        {
         "name": "Test",
         "type": "box",
         "x": [
          250,
          200,
          150,
          100,
          250,
          50,
          100,
          200,
          250,
          50,
          150,
          50,
          150,
          250,
          50,
          250,
          150,
          150,
          100,
          50,
          250,
          50,
          150,
          250,
          100,
          100,
          100,
          200,
          50,
          250,
          200,
          250,
          100,
          50,
          50,
          250,
          50,
          50,
          250,
          100,
          200,
          50,
          250,
          250,
          150,
          200,
          250,
          200,
          100,
          250,
          200,
          50,
          50,
          200,
          150,
          250,
          150,
          150,
          250,
          200,
          250,
          50,
          200,
          200,
          50,
          250,
          100,
          100,
          50,
          250,
          200,
          250,
          100,
          50,
          50,
          100,
          150,
          200,
          150,
          200,
          250,
          100,
          150,
          50,
          250,
          250,
          50,
          50,
          150,
          200,
          250,
          200,
          100,
          200,
          100,
          150,
          150,
          50,
          200,
          50
         ],
         "xaxis": "x",
         "y": [
          0.3493716931216931,
          0.4408068783068783,
          0.3698743386243386,
          0.3566468253968254,
          0.3296957671957671,
          0.4221230158730159,
          0.3379629629629629,
          0.3060515873015872,
          0.3589616402116402,
          0.4236111111111111,
          0.3753306878306878,
          0.4499007936507936,
          0.3513558201058201,
          0.3619378306878307,
          0.4019510582010581,
          0.3364748677248677,
          0.372850529100529,
          0.3088624338624338,
          0.363260582010582,
          0.3804563492063492,
          0.4135251322751323,
          0.3966702279202279,
          0.3126653439153439,
          0.3478835978835978,
          0.3649140211640211,
          0.3349867724867725,
          0.3693783068783068,
          0.3111772486772486,
          0.4378306878306878,
          0.3356481481481481,
          0.5047949735449736,
          0.3447420634920635,
          0.3277116402116402,
          0.4811507936507936,
          0.3313492063492063,
          0.3037367724867725,
          0.3151455026455026,
          0.3513558201058201,
          0.3156415343915344,
          0.3708664021164021,
          0.3477182539682539,
          0.4070767195767195,
          0.3634259259259259,
          0.382771164021164,
          0.4794973544973545,
          0.3298611111111111,
          0.3551587301587301,
          0.3171296296296296,
          0.3230820105820106,
          0.3667328042328042,
          0.3291997354497354,
          0.3455687830687831,
          0.3579695767195767,
          0.4867724867724867,
          0.3120039682539682,
          0.3366402116402116,
          0.3328373015873015,
          0.3373015873015872,
          0.4497354497354497,
          0.3581349206349206,
          0.4408068783068783,
          0.4712301587301588,
          0.3141534391534392,
          0.3268849206349206,
          0.2986111111111111,
          0.3455687830687831,
          0.326223544973545,
          0.3664021164021164,
          0.3237433862433862,
          0.3543320105820106,
          0.3291997354497354,
          0.3449074074074074,
          0.3549933862433862,
          0.3579695767195767,
          0.3817791005291005,
          0.4684193121693121,
          0.3468915343915344,
          0.3587962962962963,
          0.3290343915343915,
          0.3128306878306878,
          0.3009259259259259,
          0.3627645502645502,
          0.3120039682539682,
          0.3080357142857143,
          0.4250992063492064,
          0.3164682539682539,
          0.3634259259259259,
          0.404265873015873,
          0.3224206349206349,
          0.3568121693121693,
          0.3283730158730158,
          0.3268849206349206,
          0.4242724867724867,
          0.3649140211640211,
          0.3627645502645502,
          0.3252314814814814,
          0.2961309523809524,
          0.3209325396825396,
          0.5047949735449736,
          0.3440806878306878
         ]
        },
        {
         "name": "Validation",
         "type": "box",
         "x": [
          250,
          200,
          150,
          100,
          250,
          50,
          100,
          200,
          250,
          50,
          150,
          50,
          150,
          250,
          50,
          250,
          150,
          150,
          100,
          50,
          250,
          50,
          150,
          250,
          100,
          100,
          100,
          200,
          50,
          250,
          200,
          250,
          100,
          50,
          50,
          250,
          50,
          50,
          250,
          100,
          200,
          50,
          250,
          250,
          150,
          200,
          250,
          200,
          100,
          250,
          200,
          50,
          50,
          200,
          150,
          250,
          150,
          150,
          250,
          200,
          250,
          50,
          200,
          200,
          50,
          250,
          100,
          100,
          50,
          250,
          200,
          250,
          100,
          50,
          50,
          100,
          150,
          200,
          150,
          200,
          250,
          100,
          150,
          50,
          250,
          250,
          50,
          50,
          150,
          200,
          250,
          200,
          100,
          200,
          100,
          150,
          150,
          50,
          200,
          50
         ],
         "xaxis": "x",
         "y": [
          0.4014550264550264,
          0.5168650793650793,
          0.4007936507936507,
          0.3900076625281137,
          0.3692129629629629,
          0.457010582010582,
          0.398478835978836,
          0.3544513334680146,
          0.341992266992267,
          0.3857473544973545,
          0.4267526455026454,
          0.4735449735449735,
          0.3275055962555963,
          0.436083338188422,
          0.4332010582010581,
          0.4150132275132275,
          0.4159925722425722,
          0.3604497354497354,
          0.3692892629875062,
          0.4208002645502645,
          0.4469246031746031,
          0.3587962962962963,
          0.3678308079427483,
          0.3991402116402116,
          0.4161706349206349,
          0.4194775132275132,
          0.4012352235429958,
          0.3943783068783069,
          0.4436177248677248,
          0.3707010582010582,
          0.5302579365079365,
          0.404265873015873,
          0.3944012006512006,
          0.4580026455026454,
          0.4577091849436588,
          0.3696688779711167,
          0.3793549043549044,
          0.5179922249150847,
          0.3969907407407407,
          0.3576388888888889,
          0.3432171028253117,
          0.4631283068783068,
          0.3581349206349206,
          0.4603174603174603,
          0.5115740740740741,
          0.3743386243386243,
          0.4264219576719577,
          0.3312126491920115,
          0.3329263329263329,
          0.3686816446932109,
          0.398478835978836,
          0.3940145502645502,
          0.3828731453731453,
          0.5281084656084657,
          0.37880291005291,
          0.5006061742282215,
          0.3759920634920635,
          0.3713624338624338,
          0.5026455026455027,
          0.3543931526879223,
          0.4892526455026454,
          0.4533730158730159,
          0.4029431216931217,
          0.3700396825396825,
          0.386986161986162,
          0.3340163101960451,
          0.3410766679423395,
          0.3743386243386243,
          0.3759569721323452,
          0.3745039682539682,
          0.3625992063492063,
          0.4272890147056216,
          0.3915343915343915,
          0.4429563492063492,
          0.4131562881562881,
          0.4920634920634921,
          0.3713624338624338,
          0.3625992063492063,
          0.3687881562881563,
          0.3968253968253968,
          0.4177185494827626,
          0.3640873015873015,
          0.434276261319009,
          0.3618796773402036,
          0.4781746031746031,
          0.3655753968253968,
          0.3758267195767195,
          0.4556878306878307,
          0.4683958947244925,
          0.3857473544973545,
          0.3415905594661151,
          0.4109101546601546,
          0.4794973544973545,
          0.394510582010582,
          0.4310515873015873,
          0.418761238524781,
          0.4095550011441061,
          0.3640873015873015,
          0.5191798941798942,
          0.3572903947903948
         ]
        }
       ],
       "layout": {
        "template": {
         "data": {
          "bar": [
           {
            "error_x": {
             "color": "#2a3f5f"
            },
            "error_y": {
             "color": "#2a3f5f"
            },
            "marker": {
             "line": {
              "color": "#E5ECF6",
              "width": 0.5
             },
             "pattern": {
              "fillmode": "overlay",
              "size": 10,
              "solidity": 0.2
             }
            },
            "type": "bar"
           }
          ],
          "barpolar": [
           {
            "marker": {
             "line": {
              "color": "#E5ECF6",
              "width": 0.5
             },
             "pattern": {
              "fillmode": "overlay",
              "size": 10,
              "solidity": 0.2
             }
            },
            "type": "barpolar"
           }
          ],
          "carpet": [
           {
            "aaxis": {
             "endlinecolor": "#2a3f5f",
             "gridcolor": "white",
             "linecolor": "white",
             "minorgridcolor": "white",
             "startlinecolor": "#2a3f5f"
            },
            "baxis": {
             "endlinecolor": "#2a3f5f",
             "gridcolor": "white",
             "linecolor": "white",
             "minorgridcolor": "white",
             "startlinecolor": "#2a3f5f"
            },
            "type": "carpet"
           }
          ],
          "choropleth": [
           {
            "colorbar": {
             "outlinewidth": 0,
             "ticks": ""
            },
            "type": "choropleth"
           }
          ],
          "contour": [
           {
            "colorbar": {
             "outlinewidth": 0,
             "ticks": ""
            },
            "colorscale": [
             [
              0,
              "#0d0887"
             ],
             [
              0.1111111111111111,
              "#46039f"
             ],
             [
              0.2222222222222222,
              "#7201a8"
             ],
             [
              0.3333333333333333,
              "#9c179e"
             ],
             [
              0.4444444444444444,
              "#bd3786"
             ],
             [
              0.5555555555555556,
              "#d8576b"
             ],
             [
              0.6666666666666666,
              "#ed7953"
             ],
             [
              0.7777777777777778,
              "#fb9f3a"
             ],
             [
              0.8888888888888888,
              "#fdca26"
             ],
             [
              1,
              "#f0f921"
             ]
            ],
            "type": "contour"
           }
          ],
          "contourcarpet": [
           {
            "colorbar": {
             "outlinewidth": 0,
             "ticks": ""
            },
            "type": "contourcarpet"
           }
          ],
          "heatmap": [
           {
            "colorbar": {
             "outlinewidth": 0,
             "ticks": ""
            },
            "colorscale": [
             [
              0,
              "#0d0887"
             ],
             [
              0.1111111111111111,
              "#46039f"
             ],
             [
              0.2222222222222222,
              "#7201a8"
             ],
             [
              0.3333333333333333,
              "#9c179e"
             ],
             [
              0.4444444444444444,
              "#bd3786"
             ],
             [
              0.5555555555555556,
              "#d8576b"
             ],
             [
              0.6666666666666666,
              "#ed7953"
             ],
             [
              0.7777777777777778,
              "#fb9f3a"
             ],
             [
              0.8888888888888888,
              "#fdca26"
             ],
             [
              1,
              "#f0f921"
             ]
            ],
            "type": "heatmap"
           }
          ],
          "heatmapgl": [
           {
            "colorbar": {
             "outlinewidth": 0,
             "ticks": ""
            },
            "colorscale": [
             [
              0,
              "#0d0887"
             ],
             [
              0.1111111111111111,
              "#46039f"
             ],
             [
              0.2222222222222222,
              "#7201a8"
             ],
             [
              0.3333333333333333,
              "#9c179e"
             ],
             [
              0.4444444444444444,
              "#bd3786"
             ],
             [
              0.5555555555555556,
              "#d8576b"
             ],
             [
              0.6666666666666666,
              "#ed7953"
             ],
             [
              0.7777777777777778,
              "#fb9f3a"
             ],
             [
              0.8888888888888888,
              "#fdca26"
             ],
             [
              1,
              "#f0f921"
             ]
            ],
            "type": "heatmapgl"
           }
          ],
          "histogram": [
           {
            "marker": {
             "pattern": {
              "fillmode": "overlay",
              "size": 10,
              "solidity": 0.2
             }
            },
            "type": "histogram"
           }
          ],
          "histogram2d": [
           {
            "colorbar": {
             "outlinewidth": 0,
             "ticks": ""
            },
            "colorscale": [
             [
              0,
              "#0d0887"
             ],
             [
              0.1111111111111111,
              "#46039f"
             ],
             [
              0.2222222222222222,
              "#7201a8"
             ],
             [
              0.3333333333333333,
              "#9c179e"
             ],
             [
              0.4444444444444444,
              "#bd3786"
             ],
             [
              0.5555555555555556,
              "#d8576b"
             ],
             [
              0.6666666666666666,
              "#ed7953"
             ],
             [
              0.7777777777777778,
              "#fb9f3a"
             ],
             [
              0.8888888888888888,
              "#fdca26"
             ],
             [
              1,
              "#f0f921"
             ]
            ],
            "type": "histogram2d"
           }
          ],
          "histogram2dcontour": [
           {
            "colorbar": {
             "outlinewidth": 0,
             "ticks": ""
            },
            "colorscale": [
             [
              0,
              "#0d0887"
             ],
             [
              0.1111111111111111,
              "#46039f"
             ],
             [
              0.2222222222222222,
              "#7201a8"
             ],
             [
              0.3333333333333333,
              "#9c179e"
             ],
             [
              0.4444444444444444,
              "#bd3786"
             ],
             [
              0.5555555555555556,
              "#d8576b"
             ],
             [
              0.6666666666666666,
              "#ed7953"
             ],
             [
              0.7777777777777778,
              "#fb9f3a"
             ],
             [
              0.8888888888888888,
              "#fdca26"
             ],
             [
              1,
              "#f0f921"
             ]
            ],
            "type": "histogram2dcontour"
           }
          ],
          "mesh3d": [
           {
            "colorbar": {
             "outlinewidth": 0,
             "ticks": ""
            },
            "type": "mesh3d"
           }
          ],
          "parcoords": [
           {
            "line": {
             "colorbar": {
              "outlinewidth": 0,
              "ticks": ""
             }
            },
            "type": "parcoords"
           }
          ],
          "pie": [
           {
            "automargin": true,
            "type": "pie"
           }
          ],
          "scatter": [
           {
            "fillpattern": {
             "fillmode": "overlay",
             "size": 10,
             "solidity": 0.2
            },
            "type": "scatter"
           }
          ],
          "scatter3d": [
           {
            "line": {
             "colorbar": {
              "outlinewidth": 0,
              "ticks": ""
             }
            },
            "marker": {
             "colorbar": {
              "outlinewidth": 0,
              "ticks": ""
             }
            },
            "type": "scatter3d"
           }
          ],
          "scattercarpet": [
           {
            "marker": {
             "colorbar": {
              "outlinewidth": 0,
              "ticks": ""
             }
            },
            "type": "scattercarpet"
           }
          ],
          "scattergeo": [
           {
            "marker": {
             "colorbar": {
              "outlinewidth": 0,
              "ticks": ""
             }
            },
            "type": "scattergeo"
           }
          ],
          "scattergl": [
           {
            "marker": {
             "colorbar": {
              "outlinewidth": 0,
              "ticks": ""
             }
            },
            "type": "scattergl"
           }
          ],
          "scattermapbox": [
           {
            "marker": {
             "colorbar": {
              "outlinewidth": 0,
              "ticks": ""
             }
            },
            "type": "scattermapbox"
           }
          ],
          "scatterpolar": [
           {
            "marker": {
             "colorbar": {
              "outlinewidth": 0,
              "ticks": ""
             }
            },
            "type": "scatterpolar"
           }
          ],
          "scatterpolargl": [
           {
            "marker": {
             "colorbar": {
              "outlinewidth": 0,
              "ticks": ""
             }
            },
            "type": "scatterpolargl"
           }
          ],
          "scatterternary": [
           {
            "marker": {
             "colorbar": {
              "outlinewidth": 0,
              "ticks": ""
             }
            },
            "type": "scatterternary"
           }
          ],
          "surface": [
           {
            "colorbar": {
             "outlinewidth": 0,
             "ticks": ""
            },
            "colorscale": [
             [
              0,
              "#0d0887"
             ],
             [
              0.1111111111111111,
              "#46039f"
             ],
             [
              0.2222222222222222,
              "#7201a8"
             ],
             [
              0.3333333333333333,
              "#9c179e"
             ],
             [
              0.4444444444444444,
              "#bd3786"
             ],
             [
              0.5555555555555556,
              "#d8576b"
             ],
             [
              0.6666666666666666,
              "#ed7953"
             ],
             [
              0.7777777777777778,
              "#fb9f3a"
             ],
             [
              0.8888888888888888,
              "#fdca26"
             ],
             [
              1,
              "#f0f921"
             ]
            ],
            "type": "surface"
           }
          ],
          "table": [
           {
            "cells": {
             "fill": {
              "color": "#EBF0F8"
             },
             "line": {
              "color": "white"
             }
            },
            "header": {
             "fill": {
              "color": "#C8D4E3"
             },
             "line": {
              "color": "white"
             }
            },
            "type": "table"
           }
          ]
         },
         "layout": {
          "annotationdefaults": {
           "arrowcolor": "#2a3f5f",
           "arrowhead": 0,
           "arrowwidth": 1
          },
          "autotypenumbers": "strict",
          "coloraxis": {
           "colorbar": {
            "outlinewidth": 0,
            "ticks": ""
           }
          },
          "colorscale": {
           "diverging": [
            [
             0,
             "#8e0152"
            ],
            [
             0.1,
             "#c51b7d"
            ],
            [
             0.2,
             "#de77ae"
            ],
            [
             0.3,
             "#f1b6da"
            ],
            [
             0.4,
             "#fde0ef"
            ],
            [
             0.5,
             "#f7f7f7"
            ],
            [
             0.6,
             "#e6f5d0"
            ],
            [
             0.7,
             "#b8e186"
            ],
            [
             0.8,
             "#7fbc41"
            ],
            [
             0.9,
             "#4d9221"
            ],
            [
             1,
             "#276419"
            ]
           ],
           "sequential": [
            [
             0,
             "#0d0887"
            ],
            [
             0.1111111111111111,
             "#46039f"
            ],
            [
             0.2222222222222222,
             "#7201a8"
            ],
            [
             0.3333333333333333,
             "#9c179e"
            ],
            [
             0.4444444444444444,
             "#bd3786"
            ],
            [
             0.5555555555555556,
             "#d8576b"
            ],
            [
             0.6666666666666666,
             "#ed7953"
            ],
            [
             0.7777777777777778,
             "#fb9f3a"
            ],
            [
             0.8888888888888888,
             "#fdca26"
            ],
            [
             1,
             "#f0f921"
            ]
           ],
           "sequentialminus": [
            [
             0,
             "#0d0887"
            ],
            [
             0.1111111111111111,
             "#46039f"
            ],
            [
             0.2222222222222222,
             "#7201a8"
            ],
            [
             0.3333333333333333,
             "#9c179e"
            ],
            [
             0.4444444444444444,
             "#bd3786"
            ],
            [
             0.5555555555555556,
             "#d8576b"
            ],
            [
             0.6666666666666666,
             "#ed7953"
            ],
            [
             0.7777777777777778,
             "#fb9f3a"
            ],
            [
             0.8888888888888888,
             "#fdca26"
            ],
            [
             1,
             "#f0f921"
            ]
           ]
          },
          "colorway": [
           "#636efa",
           "#EF553B",
           "#00cc96",
           "#ab63fa",
           "#FFA15A",
           "#19d3f3",
           "#FF6692",
           "#B6E880",
           "#FF97FF",
           "#FECB52"
          ],
          "font": {
           "color": "#2a3f5f"
          },
          "geo": {
           "bgcolor": "white",
           "lakecolor": "white",
           "landcolor": "#E5ECF6",
           "showlakes": true,
           "showland": true,
           "subunitcolor": "white"
          },
          "hoverlabel": {
           "align": "left"
          },
          "hovermode": "closest",
          "mapbox": {
           "style": "light"
          },
          "paper_bgcolor": "white",
          "plot_bgcolor": "#E5ECF6",
          "polar": {
           "angularaxis": {
            "gridcolor": "white",
            "linecolor": "white",
            "ticks": ""
           },
           "bgcolor": "#E5ECF6",
           "radialaxis": {
            "gridcolor": "white",
            "linecolor": "white",
            "ticks": ""
           }
          },
          "scene": {
           "xaxis": {
            "backgroundcolor": "#E5ECF6",
            "gridcolor": "white",
            "gridwidth": 2,
            "linecolor": "white",
            "showbackground": true,
            "ticks": "",
            "zerolinecolor": "white"
           },
           "yaxis": {
            "backgroundcolor": "#E5ECF6",
            "gridcolor": "white",
            "gridwidth": 2,
            "linecolor": "white",
            "showbackground": true,
            "ticks": "",
            "zerolinecolor": "white"
           },
           "zaxis": {
            "backgroundcolor": "#E5ECF6",
            "gridcolor": "white",
            "gridwidth": 2,
            "linecolor": "white",
            "showbackground": true,
            "ticks": "",
            "zerolinecolor": "white"
           }
          },
          "shapedefaults": {
           "line": {
            "color": "#2a3f5f"
           }
          },
          "ternary": {
           "aaxis": {
            "gridcolor": "white",
            "linecolor": "white",
            "ticks": ""
           },
           "baxis": {
            "gridcolor": "white",
            "linecolor": "white",
            "ticks": ""
           },
           "bgcolor": "#E5ECF6",
           "caxis": {
            "gridcolor": "white",
            "linecolor": "white",
            "ticks": ""
           }
          },
          "title": {
           "x": 0.05
          },
          "xaxis": {
           "automargin": true,
           "gridcolor": "white",
           "linecolor": "white",
           "ticks": "",
           "title": {
            "standoff": 15
           },
           "zerolinecolor": "white",
           "zerolinewidth": 2
          },
          "yaxis": {
           "automargin": true,
           "gridcolor": "white",
           "linecolor": "white",
           "ticks": "",
           "title": {
            "standoff": 15
           },
           "zerolinecolor": "white",
           "zerolinewidth": 2
          }
         }
        },
        "title": {
         "text": "Impact of the dimension of the hidden layer on the F1-score"
        },
        "xaxis": {
         "domain": [
          0,
          1
         ],
         "title": {
          "text": "Classifier : Hidden layer dimension"
         },
         "type": "log"
        },
        "yaxis": {
         "title": {
          "text": "F1-Score (max)"
         }
        }
       }
      }
     },
     "metadata": {},
     "output_type": "display_data"
    }
   ],
   "source": [
    "fig = go.Figure(layout = {\n",
    "   \"xaxis\":{\n",
    "       \"domain\" : [0,1],\n",
    "       \"type\" : \"log\",\n",
    "        # \"categoryorder\" : \"median ascending\",\n",
    "       \"title\" : \"Classifier : Hidden layer dimension\"\n",
    "    },\n",
    "   \"yaxis\":{\"title\" : \"F1-Score (max)\"},\n",
    "   \"title\" : {\"text\" : \"Impact of the dimension of the hidden layer on the F1-score\"},\n",
    "})\n",
    "fig.add_trace( go.Box(\n",
    "                x = results[\"classifier_hiddenlayer_dim\"], \n",
    "                y = results[\"test_f1_max\"],\n",
    "                xaxis='x',\n",
    "                name = \"Test\"\n",
    "))\n",
    "fig.add_trace( go.Box(\n",
    "                x = results[\"classifier_hiddenlayer_dim\"], \n",
    "                y = results[\"valid_f1_max\"],\n",
    "                xaxis='x',\n",
    "                name = \"Validation\"\n",
    "))\n",
    "\n",
    "# fig.add_trace( go.Box(\n",
    "#                 x = results[\"model_train_classifier_learning_rate\"], \n",
    "#                 y = results[\"train_f1_max\"],\n",
    "#                 xaxis='x',\n",
    "#                 name = \"Train\"\n",
    "# ))\n",
    "fig"
   ]
  },
  {
   "cell_type": "code",
   "execution_count": 27,
   "metadata": {},
   "outputs": [
    {
     "data": {
      "application/vnd.plotly.v1+json": {
       "config": {
        "plotlyServerURL": "https://plotly.com"
       },
       "data": [
        {
         "name": "Validation",
         "type": "box",
         "x": [
          250,
          200,
          150,
          100,
          250,
          50,
          100,
          200,
          250,
          50,
          150,
          50,
          150,
          250,
          50,
          250,
          150,
          150,
          100,
          50,
          250,
          50,
          150,
          250,
          100,
          100,
          100,
          200,
          50,
          250,
          200,
          250,
          100,
          50,
          50,
          250,
          50,
          50,
          250,
          100,
          200,
          50,
          250,
          250,
          150,
          200,
          250,
          200,
          100,
          250,
          200,
          50,
          50,
          200,
          150,
          250,
          150,
          150,
          250,
          200,
          250,
          50,
          200,
          200,
          50,
          250,
          100,
          100,
          50,
          250,
          200,
          250,
          100,
          50,
          50,
          100,
          150,
          200,
          150,
          200,
          250,
          100,
          150,
          50,
          250,
          250,
          50,
          50,
          150,
          200,
          250,
          200,
          100,
          200,
          100,
          150,
          150,
          50,
          200,
          50
         ],
         "xaxis": "x",
         "y": [
          1.0352147817611694,
          0.6887269616127014,
          1.066637396812439,
          1.0661628246307373,
          1.0651251077651978,
          0.8039402365684509,
          1.0717341899871826,
          1.066861271858215,
          1.0455080270767212,
          0.821679413318634,
          1.0626591444015503,
          0.8122887015342712,
          1.0213865041732788,
          1.0585943460464478,
          0.7933505773544312,
          1.0696583986282349,
          1.031765103340149,
          1.0549064874649048,
          1.03055739402771,
          1.0602622032165527,
          0.8512014150619507,
          1.064799427986145,
          1.0180034637451172,
          1.0706946849822998,
          1.0580310821533203,
          1.0694422721862793,
          0.9165627360343932,
          1.0079460144042969,
          0.8349443078041077,
          1.0698273181915283,
          0.0523035451769828,
          1.0683259963989258,
          1.057709813117981,
          0.7966796159744263,
          1.078587770462036,
          1.053215742111206,
          1.067436933517456,
          0.9644045829772948,
          1.0735267400741575,
          1.0646313428878784,
          1.0611244440078735,
          0.8207481503486633,
          1.0206546783447266,
          1.0436195135116575,
          0.2619799673557281,
          1.0706987380981443,
          0.9275727272033693,
          1.0509308576583862,
          0.8762260675430298,
          1.0381808280944824,
          1.0698076486587524,
          1.057908535003662,
          0.8997688889503479,
          0.0677533894777298,
          1.0743403434753418,
          0.9254392385482788,
          0.927806317806244,
          1.0661766529083252,
          0.7629184722900391,
          0.8958649635314941,
          0.7101210355758667,
          0.7903373837471008,
          1.057939887046814,
          1.074691891670227,
          1.030940055847168,
          1.0657740831375122,
          1.042151927947998,
          1.0607199668884275,
          1.010875582695007,
          1.0323222875595093,
          0.9840835332870485,
          1.0588154792785645,
          1.0199815034866333,
          1.053195595741272,
          1.0797394514083862,
          0.7433096170425415,
          1.0392982959747314,
          1.0546326637268066,
          1.066211819648743,
          1.0483248233795166,
          1.0625158548355105,
          1.0711138248443604,
          1.0638387203216553,
          1.072215914726257,
          0.7799303531646729,
          1.0233423709869385,
          1.0539995431900024,
          0.907995104789734,
          1.064211130142212,
          1.0560568571090698,
          1.0555901527404783,
          1.0282855033874512,
          0.8165072202682495,
          1.0432708263397217,
          1.0224205255508425,
          1.0645710229873655,
          1.0730783939361572,
          1.061910629272461,
          0.3066696524620056,
          0.9296233654022216
         ]
        }
       ],
       "layout": {
        "template": {
         "data": {
          "bar": [
           {
            "error_x": {
             "color": "#2a3f5f"
            },
            "error_y": {
             "color": "#2a3f5f"
            },
            "marker": {
             "line": {
              "color": "#E5ECF6",
              "width": 0.5
             },
             "pattern": {
              "fillmode": "overlay",
              "size": 10,
              "solidity": 0.2
             }
            },
            "type": "bar"
           }
          ],
          "barpolar": [
           {
            "marker": {
             "line": {
              "color": "#E5ECF6",
              "width": 0.5
             },
             "pattern": {
              "fillmode": "overlay",
              "size": 10,
              "solidity": 0.2
             }
            },
            "type": "barpolar"
           }
          ],
          "carpet": [
           {
            "aaxis": {
             "endlinecolor": "#2a3f5f",
             "gridcolor": "white",
             "linecolor": "white",
             "minorgridcolor": "white",
             "startlinecolor": "#2a3f5f"
            },
            "baxis": {
             "endlinecolor": "#2a3f5f",
             "gridcolor": "white",
             "linecolor": "white",
             "minorgridcolor": "white",
             "startlinecolor": "#2a3f5f"
            },
            "type": "carpet"
           }
          ],
          "choropleth": [
           {
            "colorbar": {
             "outlinewidth": 0,
             "ticks": ""
            },
            "type": "choropleth"
           }
          ],
          "contour": [
           {
            "colorbar": {
             "outlinewidth": 0,
             "ticks": ""
            },
            "colorscale": [
             [
              0,
              "#0d0887"
             ],
             [
              0.1111111111111111,
              "#46039f"
             ],
             [
              0.2222222222222222,
              "#7201a8"
             ],
             [
              0.3333333333333333,
              "#9c179e"
             ],
             [
              0.4444444444444444,
              "#bd3786"
             ],
             [
              0.5555555555555556,
              "#d8576b"
             ],
             [
              0.6666666666666666,
              "#ed7953"
             ],
             [
              0.7777777777777778,
              "#fb9f3a"
             ],
             [
              0.8888888888888888,
              "#fdca26"
             ],
             [
              1,
              "#f0f921"
             ]
            ],
            "type": "contour"
           }
          ],
          "contourcarpet": [
           {
            "colorbar": {
             "outlinewidth": 0,
             "ticks": ""
            },
            "type": "contourcarpet"
           }
          ],
          "heatmap": [
           {
            "colorbar": {
             "outlinewidth": 0,
             "ticks": ""
            },
            "colorscale": [
             [
              0,
              "#0d0887"
             ],
             [
              0.1111111111111111,
              "#46039f"
             ],
             [
              0.2222222222222222,
              "#7201a8"
             ],
             [
              0.3333333333333333,
              "#9c179e"
             ],
             [
              0.4444444444444444,
              "#bd3786"
             ],
             [
              0.5555555555555556,
              "#d8576b"
             ],
             [
              0.6666666666666666,
              "#ed7953"
             ],
             [
              0.7777777777777778,
              "#fb9f3a"
             ],
             [
              0.8888888888888888,
              "#fdca26"
             ],
             [
              1,
              "#f0f921"
             ]
            ],
            "type": "heatmap"
           }
          ],
          "heatmapgl": [
           {
            "colorbar": {
             "outlinewidth": 0,
             "ticks": ""
            },
            "colorscale": [
             [
              0,
              "#0d0887"
             ],
             [
              0.1111111111111111,
              "#46039f"
             ],
             [
              0.2222222222222222,
              "#7201a8"
             ],
             [
              0.3333333333333333,
              "#9c179e"
             ],
             [
              0.4444444444444444,
              "#bd3786"
             ],
             [
              0.5555555555555556,
              "#d8576b"
             ],
             [
              0.6666666666666666,
              "#ed7953"
             ],
             [
              0.7777777777777778,
              "#fb9f3a"
             ],
             [
              0.8888888888888888,
              "#fdca26"
             ],
             [
              1,
              "#f0f921"
             ]
            ],
            "type": "heatmapgl"
           }
          ],
          "histogram": [
           {
            "marker": {
             "pattern": {
              "fillmode": "overlay",
              "size": 10,
              "solidity": 0.2
             }
            },
            "type": "histogram"
           }
          ],
          "histogram2d": [
           {
            "colorbar": {
             "outlinewidth": 0,
             "ticks": ""
            },
            "colorscale": [
             [
              0,
              "#0d0887"
             ],
             [
              0.1111111111111111,
              "#46039f"
             ],
             [
              0.2222222222222222,
              "#7201a8"
             ],
             [
              0.3333333333333333,
              "#9c179e"
             ],
             [
              0.4444444444444444,
              "#bd3786"
             ],
             [
              0.5555555555555556,
              "#d8576b"
             ],
             [
              0.6666666666666666,
              "#ed7953"
             ],
             [
              0.7777777777777778,
              "#fb9f3a"
             ],
             [
              0.8888888888888888,
              "#fdca26"
             ],
             [
              1,
              "#f0f921"
             ]
            ],
            "type": "histogram2d"
           }
          ],
          "histogram2dcontour": [
           {
            "colorbar": {
             "outlinewidth": 0,
             "ticks": ""
            },
            "colorscale": [
             [
              0,
              "#0d0887"
             ],
             [
              0.1111111111111111,
              "#46039f"
             ],
             [
              0.2222222222222222,
              "#7201a8"
             ],
             [
              0.3333333333333333,
              "#9c179e"
             ],
             [
              0.4444444444444444,
              "#bd3786"
             ],
             [
              0.5555555555555556,
              "#d8576b"
             ],
             [
              0.6666666666666666,
              "#ed7953"
             ],
             [
              0.7777777777777778,
              "#fb9f3a"
             ],
             [
              0.8888888888888888,
              "#fdca26"
             ],
             [
              1,
              "#f0f921"
             ]
            ],
            "type": "histogram2dcontour"
           }
          ],
          "mesh3d": [
           {
            "colorbar": {
             "outlinewidth": 0,
             "ticks": ""
            },
            "type": "mesh3d"
           }
          ],
          "parcoords": [
           {
            "line": {
             "colorbar": {
              "outlinewidth": 0,
              "ticks": ""
             }
            },
            "type": "parcoords"
           }
          ],
          "pie": [
           {
            "automargin": true,
            "type": "pie"
           }
          ],
          "scatter": [
           {
            "fillpattern": {
             "fillmode": "overlay",
             "size": 10,
             "solidity": 0.2
            },
            "type": "scatter"
           }
          ],
          "scatter3d": [
           {
            "line": {
             "colorbar": {
              "outlinewidth": 0,
              "ticks": ""
             }
            },
            "marker": {
             "colorbar": {
              "outlinewidth": 0,
              "ticks": ""
             }
            },
            "type": "scatter3d"
           }
          ],
          "scattercarpet": [
           {
            "marker": {
             "colorbar": {
              "outlinewidth": 0,
              "ticks": ""
             }
            },
            "type": "scattercarpet"
           }
          ],
          "scattergeo": [
           {
            "marker": {
             "colorbar": {
              "outlinewidth": 0,
              "ticks": ""
             }
            },
            "type": "scattergeo"
           }
          ],
          "scattergl": [
           {
            "marker": {
             "colorbar": {
              "outlinewidth": 0,
              "ticks": ""
             }
            },
            "type": "scattergl"
           }
          ],
          "scattermapbox": [
           {
            "marker": {
             "colorbar": {
              "outlinewidth": 0,
              "ticks": ""
             }
            },
            "type": "scattermapbox"
           }
          ],
          "scatterpolar": [
           {
            "marker": {
             "colorbar": {
              "outlinewidth": 0,
              "ticks": ""
             }
            },
            "type": "scatterpolar"
           }
          ],
          "scatterpolargl": [
           {
            "marker": {
             "colorbar": {
              "outlinewidth": 0,
              "ticks": ""
             }
            },
            "type": "scatterpolargl"
           }
          ],
          "scatterternary": [
           {
            "marker": {
             "colorbar": {
              "outlinewidth": 0,
              "ticks": ""
             }
            },
            "type": "scatterternary"
           }
          ],
          "surface": [
           {
            "colorbar": {
             "outlinewidth": 0,
             "ticks": ""
            },
            "colorscale": [
             [
              0,
              "#0d0887"
             ],
             [
              0.1111111111111111,
              "#46039f"
             ],
             [
              0.2222222222222222,
              "#7201a8"
             ],
             [
              0.3333333333333333,
              "#9c179e"
             ],
             [
              0.4444444444444444,
              "#bd3786"
             ],
             [
              0.5555555555555556,
              "#d8576b"
             ],
             [
              0.6666666666666666,
              "#ed7953"
             ],
             [
              0.7777777777777778,
              "#fb9f3a"
             ],
             [
              0.8888888888888888,
              "#fdca26"
             ],
             [
              1,
              "#f0f921"
             ]
            ],
            "type": "surface"
           }
          ],
          "table": [
           {
            "cells": {
             "fill": {
              "color": "#EBF0F8"
             },
             "line": {
              "color": "white"
             }
            },
            "header": {
             "fill": {
              "color": "#C8D4E3"
             },
             "line": {
              "color": "white"
             }
            },
            "type": "table"
           }
          ]
         },
         "layout": {
          "annotationdefaults": {
           "arrowcolor": "#2a3f5f",
           "arrowhead": 0,
           "arrowwidth": 1
          },
          "autotypenumbers": "strict",
          "coloraxis": {
           "colorbar": {
            "outlinewidth": 0,
            "ticks": ""
           }
          },
          "colorscale": {
           "diverging": [
            [
             0,
             "#8e0152"
            ],
            [
             0.1,
             "#c51b7d"
            ],
            [
             0.2,
             "#de77ae"
            ],
            [
             0.3,
             "#f1b6da"
            ],
            [
             0.4,
             "#fde0ef"
            ],
            [
             0.5,
             "#f7f7f7"
            ],
            [
             0.6,
             "#e6f5d0"
            ],
            [
             0.7,
             "#b8e186"
            ],
            [
             0.8,
             "#7fbc41"
            ],
            [
             0.9,
             "#4d9221"
            ],
            [
             1,
             "#276419"
            ]
           ],
           "sequential": [
            [
             0,
             "#0d0887"
            ],
            [
             0.1111111111111111,
             "#46039f"
            ],
            [
             0.2222222222222222,
             "#7201a8"
            ],
            [
             0.3333333333333333,
             "#9c179e"
            ],
            [
             0.4444444444444444,
             "#bd3786"
            ],
            [
             0.5555555555555556,
             "#d8576b"
            ],
            [
             0.6666666666666666,
             "#ed7953"
            ],
            [
             0.7777777777777778,
             "#fb9f3a"
            ],
            [
             0.8888888888888888,
             "#fdca26"
            ],
            [
             1,
             "#f0f921"
            ]
           ],
           "sequentialminus": [
            [
             0,
             "#0d0887"
            ],
            [
             0.1111111111111111,
             "#46039f"
            ],
            [
             0.2222222222222222,
             "#7201a8"
            ],
            [
             0.3333333333333333,
             "#9c179e"
            ],
            [
             0.4444444444444444,
             "#bd3786"
            ],
            [
             0.5555555555555556,
             "#d8576b"
            ],
            [
             0.6666666666666666,
             "#ed7953"
            ],
            [
             0.7777777777777778,
             "#fb9f3a"
            ],
            [
             0.8888888888888888,
             "#fdca26"
            ],
            [
             1,
             "#f0f921"
            ]
           ]
          },
          "colorway": [
           "#636efa",
           "#EF553B",
           "#00cc96",
           "#ab63fa",
           "#FFA15A",
           "#19d3f3",
           "#FF6692",
           "#B6E880",
           "#FF97FF",
           "#FECB52"
          ],
          "font": {
           "color": "#2a3f5f"
          },
          "geo": {
           "bgcolor": "white",
           "lakecolor": "white",
           "landcolor": "#E5ECF6",
           "showlakes": true,
           "showland": true,
           "subunitcolor": "white"
          },
          "hoverlabel": {
           "align": "left"
          },
          "hovermode": "closest",
          "mapbox": {
           "style": "light"
          },
          "paper_bgcolor": "white",
          "plot_bgcolor": "#E5ECF6",
          "polar": {
           "angularaxis": {
            "gridcolor": "white",
            "linecolor": "white",
            "ticks": ""
           },
           "bgcolor": "#E5ECF6",
           "radialaxis": {
            "gridcolor": "white",
            "linecolor": "white",
            "ticks": ""
           }
          },
          "scene": {
           "xaxis": {
            "backgroundcolor": "#E5ECF6",
            "gridcolor": "white",
            "gridwidth": 2,
            "linecolor": "white",
            "showbackground": true,
            "ticks": "",
            "zerolinecolor": "white"
           },
           "yaxis": {
            "backgroundcolor": "#E5ECF6",
            "gridcolor": "white",
            "gridwidth": 2,
            "linecolor": "white",
            "showbackground": true,
            "ticks": "",
            "zerolinecolor": "white"
           },
           "zaxis": {
            "backgroundcolor": "#E5ECF6",
            "gridcolor": "white",
            "gridwidth": 2,
            "linecolor": "white",
            "showbackground": true,
            "ticks": "",
            "zerolinecolor": "white"
           }
          },
          "shapedefaults": {
           "line": {
            "color": "#2a3f5f"
           }
          },
          "ternary": {
           "aaxis": {
            "gridcolor": "white",
            "linecolor": "white",
            "ticks": ""
           },
           "baxis": {
            "gridcolor": "white",
            "linecolor": "white",
            "ticks": ""
           },
           "bgcolor": "#E5ECF6",
           "caxis": {
            "gridcolor": "white",
            "linecolor": "white",
            "ticks": ""
           }
          },
          "title": {
           "x": 0.05
          },
          "xaxis": {
           "automargin": true,
           "gridcolor": "white",
           "linecolor": "white",
           "ticks": "",
           "title": {
            "standoff": 15
           },
           "zerolinecolor": "white",
           "zerolinewidth": 2
          },
          "yaxis": {
           "automargin": true,
           "gridcolor": "white",
           "linecolor": "white",
           "ticks": "",
           "title": {
            "standoff": 15
           },
           "zerolinecolor": "white",
           "zerolinewidth": 2
          }
         }
        },
        "title": {
         "text": "Impact of the dimension of the hidden layer on the Minimum validation loss"
        },
        "xaxis": {
         "domain": [
          0,
          1
         ],
         "title": {
          "text": "Classifier : Hidden layer dimension"
         },
         "type": "log"
        },
        "yaxis": {
         "title": {
          "text": "Validation Loss Value (min)"
         }
        }
       }
      }
     },
     "metadata": {},
     "output_type": "display_data"
    }
   ],
   "source": [
    "fig = go.Figure(layout = {\n",
    "   \"xaxis\":{\n",
    "       \"domain\" : [0,1],\n",
    "       \"type\" : \"log\",\n",
    "        # \"categoryorder\" : \"median ascending\",\n",
    "       \"title\" : \"Classifier : Hidden layer dimension\"\n",
    "    },\n",
    "   \"yaxis\":{\"title\" : \"Validation Loss Value (min)\"},\n",
    "   \"title\" : {\"text\" : \"Impact of the dimension of the hidden layer on the Minimum validation loss\"},\n",
    "})\n",
    "fig.add_trace( go.Box(\n",
    "                x = results[\"classifier_hiddenlayer_dim\"], \n",
    "                y = results[\"min_valid_loss\"],\n",
    "                xaxis='x',\n",
    "                name = \"Validation\"\n",
    "))\n",
    "\n",
    "fig"
   ]
  },
  {
   "cell_type": "markdown",
   "metadata": {},
   "source": [
    "# Embedder"
   ]
  },
  {
   "cell_type": "markdown",
   "metadata": {},
   "source": [
    "## Plot Data"
   ]
  },
  {
   "cell_type": "markdown",
   "metadata": {},
   "source": [
    "### Learning rate"
   ]
  },
  {
   "cell_type": "code",
   "execution_count": 28,
   "metadata": {},
   "outputs": [
    {
     "data": {
      "application/vnd.plotly.v1+json": {
       "config": {
        "plotlyServerURL": "https://plotly.com"
       },
       "data": [
        {
         "name": "Test",
         "type": "box",
         "x": [
          0.0002,
          0.00005,
          0.0002,
          0.0004,
          0.0004,
          0.00005,
          0.0002,
          0.0004,
          0.0003,
          0.00005,
          0.0002,
          0.00005,
          0.0002,
          0.0004,
          0.00005,
          0.0002,
          0.0002,
          0.0004,
          0.0004,
          0.0002,
          0.0002,
          0.0004,
          0.0002,
          0.0003,
          0.0002,
          0.0003,
          0.0002,
          0.0004,
          0.00005,
          0.0004,
          0.00005,
          0.0002,
          0.0004,
          0.00005,
          0.0004,
          0.0004,
          0.0003,
          0.0004,
          0.0003,
          0.0003,
          0.0004,
          0.00005,
          0.0002,
          0.0002,
          0.00005,
          0.0004,
          0.00005,
          0.0004,
          0.0003,
          0.0004,
          0.0003,
          0.0003,
          0.0002,
          0.00005,
          0.0004,
          0.0004,
          0.0002,
          0.0004,
          0.00005,
          0.0002,
          0.00005,
          0.00005,
          0.0002,
          0.0003,
          0.0003,
          0.0004,
          0.0003,
          0.0003,
          0.0003,
          0.0003,
          0.0002,
          0.0004,
          0.0002,
          0.0002,
          0.0004,
          0.00005,
          0.0003,
          0.0002,
          0.0004,
          0.0003,
          0.0003,
          0.0002,
          0.0003,
          0.0004,
          0.00005,
          0.0002,
          0.0003,
          0.00005,
          0.0004,
          0.0002,
          0.0004,
          0.0002,
          0.00005,
          0.0003,
          0.0002,
          0.0004,
          0.0004,
          0.0002,
          0.00005,
          0.0002
         ],
         "xaxis": "x",
         "y": [
          0.3493716931216931,
          0.4408068783068783,
          0.3698743386243386,
          0.3566468253968254,
          0.3296957671957671,
          0.4221230158730159,
          0.3379629629629629,
          0.3060515873015872,
          0.3589616402116402,
          0.4236111111111111,
          0.3753306878306878,
          0.4499007936507936,
          0.3513558201058201,
          0.3619378306878307,
          0.4019510582010581,
          0.3364748677248677,
          0.372850529100529,
          0.3088624338624338,
          0.363260582010582,
          0.3804563492063492,
          0.4135251322751323,
          0.3966702279202279,
          0.3126653439153439,
          0.3478835978835978,
          0.3649140211640211,
          0.3349867724867725,
          0.3693783068783068,
          0.3111772486772486,
          0.4378306878306878,
          0.3356481481481481,
          0.5047949735449736,
          0.3447420634920635,
          0.3277116402116402,
          0.4811507936507936,
          0.3313492063492063,
          0.3037367724867725,
          0.3151455026455026,
          0.3513558201058201,
          0.3156415343915344,
          0.3708664021164021,
          0.3477182539682539,
          0.4070767195767195,
          0.3634259259259259,
          0.382771164021164,
          0.4794973544973545,
          0.3298611111111111,
          0.3551587301587301,
          0.3171296296296296,
          0.3230820105820106,
          0.3667328042328042,
          0.3291997354497354,
          0.3455687830687831,
          0.3579695767195767,
          0.4867724867724867,
          0.3120039682539682,
          0.3366402116402116,
          0.3328373015873015,
          0.3373015873015872,
          0.4497354497354497,
          0.3581349206349206,
          0.4408068783068783,
          0.4712301587301588,
          0.3141534391534392,
          0.3268849206349206,
          0.2986111111111111,
          0.3455687830687831,
          0.326223544973545,
          0.3664021164021164,
          0.3237433862433862,
          0.3543320105820106,
          0.3291997354497354,
          0.3449074074074074,
          0.3549933862433862,
          0.3579695767195767,
          0.3817791005291005,
          0.4684193121693121,
          0.3468915343915344,
          0.3587962962962963,
          0.3290343915343915,
          0.3128306878306878,
          0.3009259259259259,
          0.3627645502645502,
          0.3120039682539682,
          0.3080357142857143,
          0.4250992063492064,
          0.3164682539682539,
          0.3634259259259259,
          0.404265873015873,
          0.3224206349206349,
          0.3568121693121693,
          0.3283730158730158,
          0.3268849206349206,
          0.4242724867724867,
          0.3649140211640211,
          0.3627645502645502,
          0.3252314814814814,
          0.2961309523809524,
          0.3209325396825396,
          0.5047949735449736,
          0.3440806878306878
         ]
        },
        {
         "name": "Validation",
         "type": "box",
         "x": [
          0.0002,
          0.00005,
          0.0002,
          0.0004,
          0.0004,
          0.00005,
          0.0002,
          0.0004,
          0.0003,
          0.00005,
          0.0002,
          0.00005,
          0.0002,
          0.0004,
          0.00005,
          0.0002,
          0.0002,
          0.0004,
          0.0004,
          0.0002,
          0.0002,
          0.0004,
          0.0002,
          0.0003,
          0.0002,
          0.0003,
          0.0002,
          0.0004,
          0.00005,
          0.0004,
          0.00005,
          0.0002,
          0.0004,
          0.00005,
          0.0004,
          0.0004,
          0.0003,
          0.0004,
          0.0003,
          0.0003,
          0.0004,
          0.00005,
          0.0002,
          0.0002,
          0.00005,
          0.0004,
          0.00005,
          0.0004,
          0.0003,
          0.0004,
          0.0003,
          0.0003,
          0.0002,
          0.00005,
          0.0004,
          0.0004,
          0.0002,
          0.0004,
          0.00005,
          0.0002,
          0.00005,
          0.00005,
          0.0002,
          0.0003,
          0.0003,
          0.0004,
          0.0003,
          0.0003,
          0.0003,
          0.0003,
          0.0002,
          0.0004,
          0.0002,
          0.0002,
          0.0004,
          0.00005,
          0.0003,
          0.0002,
          0.0004,
          0.0003,
          0.0003,
          0.0002,
          0.0003,
          0.0004,
          0.00005,
          0.0002,
          0.0003,
          0.00005,
          0.0004,
          0.0002,
          0.0004,
          0.0002,
          0.00005,
          0.0003,
          0.0002,
          0.0004,
          0.0004,
          0.0002,
          0.00005,
          0.0002
         ],
         "xaxis": "x",
         "y": [
          0.4014550264550264,
          0.5168650793650793,
          0.4007936507936507,
          0.3900076625281137,
          0.3692129629629629,
          0.457010582010582,
          0.398478835978836,
          0.3544513334680146,
          0.341992266992267,
          0.3857473544973545,
          0.4267526455026454,
          0.4735449735449735,
          0.3275055962555963,
          0.436083338188422,
          0.4332010582010581,
          0.4150132275132275,
          0.4159925722425722,
          0.3604497354497354,
          0.3692892629875062,
          0.4208002645502645,
          0.4469246031746031,
          0.3587962962962963,
          0.3678308079427483,
          0.3991402116402116,
          0.4161706349206349,
          0.4194775132275132,
          0.4012352235429958,
          0.3943783068783069,
          0.4436177248677248,
          0.3707010582010582,
          0.5302579365079365,
          0.404265873015873,
          0.3944012006512006,
          0.4580026455026454,
          0.4577091849436588,
          0.3696688779711167,
          0.3793549043549044,
          0.5179922249150847,
          0.3969907407407407,
          0.3576388888888889,
          0.3432171028253117,
          0.4631283068783068,
          0.3581349206349206,
          0.4603174603174603,
          0.5115740740740741,
          0.3743386243386243,
          0.4264219576719577,
          0.3312126491920115,
          0.3329263329263329,
          0.3686816446932109,
          0.398478835978836,
          0.3940145502645502,
          0.3828731453731453,
          0.5281084656084657,
          0.37880291005291,
          0.5006061742282215,
          0.3759920634920635,
          0.3713624338624338,
          0.5026455026455027,
          0.3543931526879223,
          0.4892526455026454,
          0.4533730158730159,
          0.4029431216931217,
          0.3700396825396825,
          0.386986161986162,
          0.3340163101960451,
          0.3410766679423395,
          0.3743386243386243,
          0.3759569721323452,
          0.3745039682539682,
          0.3625992063492063,
          0.4272890147056216,
          0.3915343915343915,
          0.4429563492063492,
          0.4131562881562881,
          0.4920634920634921,
          0.3713624338624338,
          0.3625992063492063,
          0.3687881562881563,
          0.3968253968253968,
          0.4177185494827626,
          0.3640873015873015,
          0.434276261319009,
          0.3618796773402036,
          0.4781746031746031,
          0.3655753968253968,
          0.3758267195767195,
          0.4556878306878307,
          0.4683958947244925,
          0.3857473544973545,
          0.3415905594661151,
          0.4109101546601546,
          0.4794973544973545,
          0.394510582010582,
          0.4310515873015873,
          0.418761238524781,
          0.4095550011441061,
          0.3640873015873015,
          0.5191798941798942,
          0.3572903947903948
         ]
        }
       ],
       "layout": {
        "template": {
         "data": {
          "bar": [
           {
            "error_x": {
             "color": "#2a3f5f"
            },
            "error_y": {
             "color": "#2a3f5f"
            },
            "marker": {
             "line": {
              "color": "#E5ECF6",
              "width": 0.5
             },
             "pattern": {
              "fillmode": "overlay",
              "size": 10,
              "solidity": 0.2
             }
            },
            "type": "bar"
           }
          ],
          "barpolar": [
           {
            "marker": {
             "line": {
              "color": "#E5ECF6",
              "width": 0.5
             },
             "pattern": {
              "fillmode": "overlay",
              "size": 10,
              "solidity": 0.2
             }
            },
            "type": "barpolar"
           }
          ],
          "carpet": [
           {
            "aaxis": {
             "endlinecolor": "#2a3f5f",
             "gridcolor": "white",
             "linecolor": "white",
             "minorgridcolor": "white",
             "startlinecolor": "#2a3f5f"
            },
            "baxis": {
             "endlinecolor": "#2a3f5f",
             "gridcolor": "white",
             "linecolor": "white",
             "minorgridcolor": "white",
             "startlinecolor": "#2a3f5f"
            },
            "type": "carpet"
           }
          ],
          "choropleth": [
           {
            "colorbar": {
             "outlinewidth": 0,
             "ticks": ""
            },
            "type": "choropleth"
           }
          ],
          "contour": [
           {
            "colorbar": {
             "outlinewidth": 0,
             "ticks": ""
            },
            "colorscale": [
             [
              0,
              "#0d0887"
             ],
             [
              0.1111111111111111,
              "#46039f"
             ],
             [
              0.2222222222222222,
              "#7201a8"
             ],
             [
              0.3333333333333333,
              "#9c179e"
             ],
             [
              0.4444444444444444,
              "#bd3786"
             ],
             [
              0.5555555555555556,
              "#d8576b"
             ],
             [
              0.6666666666666666,
              "#ed7953"
             ],
             [
              0.7777777777777778,
              "#fb9f3a"
             ],
             [
              0.8888888888888888,
              "#fdca26"
             ],
             [
              1,
              "#f0f921"
             ]
            ],
            "type": "contour"
           }
          ],
          "contourcarpet": [
           {
            "colorbar": {
             "outlinewidth": 0,
             "ticks": ""
            },
            "type": "contourcarpet"
           }
          ],
          "heatmap": [
           {
            "colorbar": {
             "outlinewidth": 0,
             "ticks": ""
            },
            "colorscale": [
             [
              0,
              "#0d0887"
             ],
             [
              0.1111111111111111,
              "#46039f"
             ],
             [
              0.2222222222222222,
              "#7201a8"
             ],
             [
              0.3333333333333333,
              "#9c179e"
             ],
             [
              0.4444444444444444,
              "#bd3786"
             ],
             [
              0.5555555555555556,
              "#d8576b"
             ],
             [
              0.6666666666666666,
              "#ed7953"
             ],
             [
              0.7777777777777778,
              "#fb9f3a"
             ],
             [
              0.8888888888888888,
              "#fdca26"
             ],
             [
              1,
              "#f0f921"
             ]
            ],
            "type": "heatmap"
           }
          ],
          "heatmapgl": [
           {
            "colorbar": {
             "outlinewidth": 0,
             "ticks": ""
            },
            "colorscale": [
             [
              0,
              "#0d0887"
             ],
             [
              0.1111111111111111,
              "#46039f"
             ],
             [
              0.2222222222222222,
              "#7201a8"
             ],
             [
              0.3333333333333333,
              "#9c179e"
             ],
             [
              0.4444444444444444,
              "#bd3786"
             ],
             [
              0.5555555555555556,
              "#d8576b"
             ],
             [
              0.6666666666666666,
              "#ed7953"
             ],
             [
              0.7777777777777778,
              "#fb9f3a"
             ],
             [
              0.8888888888888888,
              "#fdca26"
             ],
             [
              1,
              "#f0f921"
             ]
            ],
            "type": "heatmapgl"
           }
          ],
          "histogram": [
           {
            "marker": {
             "pattern": {
              "fillmode": "overlay",
              "size": 10,
              "solidity": 0.2
             }
            },
            "type": "histogram"
           }
          ],
          "histogram2d": [
           {
            "colorbar": {
             "outlinewidth": 0,
             "ticks": ""
            },
            "colorscale": [
             [
              0,
              "#0d0887"
             ],
             [
              0.1111111111111111,
              "#46039f"
             ],
             [
              0.2222222222222222,
              "#7201a8"
             ],
             [
              0.3333333333333333,
              "#9c179e"
             ],
             [
              0.4444444444444444,
              "#bd3786"
             ],
             [
              0.5555555555555556,
              "#d8576b"
             ],
             [
              0.6666666666666666,
              "#ed7953"
             ],
             [
              0.7777777777777778,
              "#fb9f3a"
             ],
             [
              0.8888888888888888,
              "#fdca26"
             ],
             [
              1,
              "#f0f921"
             ]
            ],
            "type": "histogram2d"
           }
          ],
          "histogram2dcontour": [
           {
            "colorbar": {
             "outlinewidth": 0,
             "ticks": ""
            },
            "colorscale": [
             [
              0,
              "#0d0887"
             ],
             [
              0.1111111111111111,
              "#46039f"
             ],
             [
              0.2222222222222222,
              "#7201a8"
             ],
             [
              0.3333333333333333,
              "#9c179e"
             ],
             [
              0.4444444444444444,
              "#bd3786"
             ],
             [
              0.5555555555555556,
              "#d8576b"
             ],
             [
              0.6666666666666666,
              "#ed7953"
             ],
             [
              0.7777777777777778,
              "#fb9f3a"
             ],
             [
              0.8888888888888888,
              "#fdca26"
             ],
             [
              1,
              "#f0f921"
             ]
            ],
            "type": "histogram2dcontour"
           }
          ],
          "mesh3d": [
           {
            "colorbar": {
             "outlinewidth": 0,
             "ticks": ""
            },
            "type": "mesh3d"
           }
          ],
          "parcoords": [
           {
            "line": {
             "colorbar": {
              "outlinewidth": 0,
              "ticks": ""
             }
            },
            "type": "parcoords"
           }
          ],
          "pie": [
           {
            "automargin": true,
            "type": "pie"
           }
          ],
          "scatter": [
           {
            "fillpattern": {
             "fillmode": "overlay",
             "size": 10,
             "solidity": 0.2
            },
            "type": "scatter"
           }
          ],
          "scatter3d": [
           {
            "line": {
             "colorbar": {
              "outlinewidth": 0,
              "ticks": ""
             }
            },
            "marker": {
             "colorbar": {
              "outlinewidth": 0,
              "ticks": ""
             }
            },
            "type": "scatter3d"
           }
          ],
          "scattercarpet": [
           {
            "marker": {
             "colorbar": {
              "outlinewidth": 0,
              "ticks": ""
             }
            },
            "type": "scattercarpet"
           }
          ],
          "scattergeo": [
           {
            "marker": {
             "colorbar": {
              "outlinewidth": 0,
              "ticks": ""
             }
            },
            "type": "scattergeo"
           }
          ],
          "scattergl": [
           {
            "marker": {
             "colorbar": {
              "outlinewidth": 0,
              "ticks": ""
             }
            },
            "type": "scattergl"
           }
          ],
          "scattermapbox": [
           {
            "marker": {
             "colorbar": {
              "outlinewidth": 0,
              "ticks": ""
             }
            },
            "type": "scattermapbox"
           }
          ],
          "scatterpolar": [
           {
            "marker": {
             "colorbar": {
              "outlinewidth": 0,
              "ticks": ""
             }
            },
            "type": "scatterpolar"
           }
          ],
          "scatterpolargl": [
           {
            "marker": {
             "colorbar": {
              "outlinewidth": 0,
              "ticks": ""
             }
            },
            "type": "scatterpolargl"
           }
          ],
          "scatterternary": [
           {
            "marker": {
             "colorbar": {
              "outlinewidth": 0,
              "ticks": ""
             }
            },
            "type": "scatterternary"
           }
          ],
          "surface": [
           {
            "colorbar": {
             "outlinewidth": 0,
             "ticks": ""
            },
            "colorscale": [
             [
              0,
              "#0d0887"
             ],
             [
              0.1111111111111111,
              "#46039f"
             ],
             [
              0.2222222222222222,
              "#7201a8"
             ],
             [
              0.3333333333333333,
              "#9c179e"
             ],
             [
              0.4444444444444444,
              "#bd3786"
             ],
             [
              0.5555555555555556,
              "#d8576b"
             ],
             [
              0.6666666666666666,
              "#ed7953"
             ],
             [
              0.7777777777777778,
              "#fb9f3a"
             ],
             [
              0.8888888888888888,
              "#fdca26"
             ],
             [
              1,
              "#f0f921"
             ]
            ],
            "type": "surface"
           }
          ],
          "table": [
           {
            "cells": {
             "fill": {
              "color": "#EBF0F8"
             },
             "line": {
              "color": "white"
             }
            },
            "header": {
             "fill": {
              "color": "#C8D4E3"
             },
             "line": {
              "color": "white"
             }
            },
            "type": "table"
           }
          ]
         },
         "layout": {
          "annotationdefaults": {
           "arrowcolor": "#2a3f5f",
           "arrowhead": 0,
           "arrowwidth": 1
          },
          "autotypenumbers": "strict",
          "coloraxis": {
           "colorbar": {
            "outlinewidth": 0,
            "ticks": ""
           }
          },
          "colorscale": {
           "diverging": [
            [
             0,
             "#8e0152"
            ],
            [
             0.1,
             "#c51b7d"
            ],
            [
             0.2,
             "#de77ae"
            ],
            [
             0.3,
             "#f1b6da"
            ],
            [
             0.4,
             "#fde0ef"
            ],
            [
             0.5,
             "#f7f7f7"
            ],
            [
             0.6,
             "#e6f5d0"
            ],
            [
             0.7,
             "#b8e186"
            ],
            [
             0.8,
             "#7fbc41"
            ],
            [
             0.9,
             "#4d9221"
            ],
            [
             1,
             "#276419"
            ]
           ],
           "sequential": [
            [
             0,
             "#0d0887"
            ],
            [
             0.1111111111111111,
             "#46039f"
            ],
            [
             0.2222222222222222,
             "#7201a8"
            ],
            [
             0.3333333333333333,
             "#9c179e"
            ],
            [
             0.4444444444444444,
             "#bd3786"
            ],
            [
             0.5555555555555556,
             "#d8576b"
            ],
            [
             0.6666666666666666,
             "#ed7953"
            ],
            [
             0.7777777777777778,
             "#fb9f3a"
            ],
            [
             0.8888888888888888,
             "#fdca26"
            ],
            [
             1,
             "#f0f921"
            ]
           ],
           "sequentialminus": [
            [
             0,
             "#0d0887"
            ],
            [
             0.1111111111111111,
             "#46039f"
            ],
            [
             0.2222222222222222,
             "#7201a8"
            ],
            [
             0.3333333333333333,
             "#9c179e"
            ],
            [
             0.4444444444444444,
             "#bd3786"
            ],
            [
             0.5555555555555556,
             "#d8576b"
            ],
            [
             0.6666666666666666,
             "#ed7953"
            ],
            [
             0.7777777777777778,
             "#fb9f3a"
            ],
            [
             0.8888888888888888,
             "#fdca26"
            ],
            [
             1,
             "#f0f921"
            ]
           ]
          },
          "colorway": [
           "#636efa",
           "#EF553B",
           "#00cc96",
           "#ab63fa",
           "#FFA15A",
           "#19d3f3",
           "#FF6692",
           "#B6E880",
           "#FF97FF",
           "#FECB52"
          ],
          "font": {
           "color": "#2a3f5f"
          },
          "geo": {
           "bgcolor": "white",
           "lakecolor": "white",
           "landcolor": "#E5ECF6",
           "showlakes": true,
           "showland": true,
           "subunitcolor": "white"
          },
          "hoverlabel": {
           "align": "left"
          },
          "hovermode": "closest",
          "mapbox": {
           "style": "light"
          },
          "paper_bgcolor": "white",
          "plot_bgcolor": "#E5ECF6",
          "polar": {
           "angularaxis": {
            "gridcolor": "white",
            "linecolor": "white",
            "ticks": ""
           },
           "bgcolor": "#E5ECF6",
           "radialaxis": {
            "gridcolor": "white",
            "linecolor": "white",
            "ticks": ""
           }
          },
          "scene": {
           "xaxis": {
            "backgroundcolor": "#E5ECF6",
            "gridcolor": "white",
            "gridwidth": 2,
            "linecolor": "white",
            "showbackground": true,
            "ticks": "",
            "zerolinecolor": "white"
           },
           "yaxis": {
            "backgroundcolor": "#E5ECF6",
            "gridcolor": "white",
            "gridwidth": 2,
            "linecolor": "white",
            "showbackground": true,
            "ticks": "",
            "zerolinecolor": "white"
           },
           "zaxis": {
            "backgroundcolor": "#E5ECF6",
            "gridcolor": "white",
            "gridwidth": 2,
            "linecolor": "white",
            "showbackground": true,
            "ticks": "",
            "zerolinecolor": "white"
           }
          },
          "shapedefaults": {
           "line": {
            "color": "#2a3f5f"
           }
          },
          "ternary": {
           "aaxis": {
            "gridcolor": "white",
            "linecolor": "white",
            "ticks": ""
           },
           "baxis": {
            "gridcolor": "white",
            "linecolor": "white",
            "ticks": ""
           },
           "bgcolor": "#E5ECF6",
           "caxis": {
            "gridcolor": "white",
            "linecolor": "white",
            "ticks": ""
           }
          },
          "title": {
           "x": 0.05
          },
          "xaxis": {
           "automargin": true,
           "gridcolor": "white",
           "linecolor": "white",
           "ticks": "",
           "title": {
            "standoff": 15
           },
           "zerolinecolor": "white",
           "zerolinewidth": 2
          },
          "yaxis": {
           "automargin": true,
           "gridcolor": "white",
           "linecolor": "white",
           "ticks": "",
           "title": {
            "standoff": 15
           },
           "zerolinecolor": "white",
           "zerolinewidth": 2
          }
         }
        },
        "title": {
         "text": "Embedder : Impact of Learning rate on the F1-score"
        },
        "xaxis": {
         "domain": [
          0,
          1
         ],
         "title": {
          "text": "Learning Rate"
         },
         "type": "log"
        },
        "yaxis": {
         "title": {
          "text": "F1-Score (max)"
         }
        }
       }
      }
     },
     "metadata": {},
     "output_type": "display_data"
    }
   ],
   "source": [
    "fig = go.Figure(layout = {\n",
    "   \"xaxis\":{\n",
    "       \"domain\" : [0,1],\n",
    "       \"type\" : \"log\",\n",
    "        # \"categoryorder\" : \"median ascending\",\n",
    "       \"title\" : \"Learning Rate\"\n",
    "    },\n",
    "   \"yaxis\":{\"title\" : \"F1-Score (max)\"},\n",
    "   \"title\" : {\"text\" : \"Embedder : Impact of Learning rate on the F1-score\"},\n",
    "})\n",
    "fig.add_trace( go.Box(\n",
    "                x = results[\"model_train_embedding_learning_rate\"], \n",
    "                y = results[\"test_f1_max\"],\n",
    "                xaxis='x',\n",
    "                name = \"Test\"\n",
    "))\n",
    "fig.add_trace( go.Box(\n",
    "                x = results[\"model_train_embedding_learning_rate\"], \n",
    "                y = results[\"valid_f1_max\"],\n",
    "                xaxis='x',\n",
    "                name = \"Validation\"\n",
    "))\n",
    "\n",
    "# fig.add_trace( go.Box(\n",
    "#                 x = results[\"model_train_classifier_learning_rate\"], \n",
    "#                 y = results[\"train_f1_max\"],\n",
    "#                 xaxis='x',\n",
    "#                 name = \"Train\"\n",
    "# ))\n",
    "fig"
   ]
  },
  {
   "cell_type": "code",
   "execution_count": 29,
   "metadata": {},
   "outputs": [
    {
     "data": {
      "application/vnd.plotly.v1+json": {
       "config": {
        "plotlyServerURL": "https://plotly.com"
       },
       "data": [
        {
         "name": "Validation",
         "type": "box",
         "x": [
          0.0002,
          0.00005,
          0.0002,
          0.0004,
          0.0004,
          0.00005,
          0.0002,
          0.0004,
          0.0003,
          0.00005,
          0.0002,
          0.00005,
          0.0002,
          0.0004,
          0.00005,
          0.0002,
          0.0002,
          0.0004,
          0.0004,
          0.0002,
          0.0002,
          0.0004,
          0.0002,
          0.0003,
          0.0002,
          0.0003,
          0.0002,
          0.0004,
          0.00005,
          0.0004,
          0.00005,
          0.0002,
          0.0004,
          0.00005,
          0.0004,
          0.0004,
          0.0003,
          0.0004,
          0.0003,
          0.0003,
          0.0004,
          0.00005,
          0.0002,
          0.0002,
          0.00005,
          0.0004,
          0.00005,
          0.0004,
          0.0003,
          0.0004,
          0.0003,
          0.0003,
          0.0002,
          0.00005,
          0.0004,
          0.0004,
          0.0002,
          0.0004,
          0.00005,
          0.0002,
          0.00005,
          0.00005,
          0.0002,
          0.0003,
          0.0003,
          0.0004,
          0.0003,
          0.0003,
          0.0003,
          0.0003,
          0.0002,
          0.0004,
          0.0002,
          0.0002,
          0.0004,
          0.00005,
          0.0003,
          0.0002,
          0.0004,
          0.0003,
          0.0003,
          0.0002,
          0.0003,
          0.0004,
          0.00005,
          0.0002,
          0.0003,
          0.00005,
          0.0004,
          0.0002,
          0.0004,
          0.0002,
          0.00005,
          0.0003,
          0.0002,
          0.0004,
          0.0004,
          0.0002,
          0.00005,
          0.0002
         ],
         "xaxis": "x",
         "y": [
          1.0352147817611694,
          0.6887269616127014,
          1.066637396812439,
          1.0661628246307373,
          1.0651251077651978,
          0.8039402365684509,
          1.0717341899871826,
          1.066861271858215,
          1.0455080270767212,
          0.821679413318634,
          1.0626591444015503,
          0.8122887015342712,
          1.0213865041732788,
          1.0585943460464478,
          0.7933505773544312,
          1.0696583986282349,
          1.031765103340149,
          1.0549064874649048,
          1.03055739402771,
          1.0602622032165527,
          0.8512014150619507,
          1.064799427986145,
          1.0180034637451172,
          1.0706946849822998,
          1.0580310821533203,
          1.0694422721862793,
          0.9165627360343932,
          1.0079460144042969,
          0.8349443078041077,
          1.0698273181915283,
          0.0523035451769828,
          1.0683259963989258,
          1.057709813117981,
          0.7966796159744263,
          1.078587770462036,
          1.053215742111206,
          1.067436933517456,
          0.9644045829772948,
          1.0735267400741575,
          1.0646313428878784,
          1.0611244440078735,
          0.8207481503486633,
          1.0206546783447266,
          1.0436195135116575,
          0.2619799673557281,
          1.0706987380981443,
          0.9275727272033693,
          1.0509308576583862,
          0.8762260675430298,
          1.0381808280944824,
          1.0698076486587524,
          1.057908535003662,
          0.8997688889503479,
          0.0677533894777298,
          1.0743403434753418,
          0.9254392385482788,
          0.927806317806244,
          1.0661766529083252,
          0.7629184722900391,
          0.8958649635314941,
          0.7101210355758667,
          0.7903373837471008,
          1.057939887046814,
          1.074691891670227,
          1.030940055847168,
          1.0657740831375122,
          1.042151927947998,
          1.0607199668884275,
          1.010875582695007,
          1.0323222875595093,
          0.9840835332870485,
          1.0588154792785645,
          1.0199815034866333,
          1.053195595741272,
          1.0797394514083862,
          0.7433096170425415,
          1.0392982959747314,
          1.0546326637268066,
          1.066211819648743,
          1.0483248233795166,
          1.0625158548355105,
          1.0711138248443604,
          1.0638387203216553,
          1.072215914726257,
          0.7799303531646729,
          1.0233423709869385,
          1.0539995431900024,
          0.907995104789734,
          1.064211130142212,
          1.0560568571090698,
          1.0555901527404783,
          1.0282855033874512,
          0.8165072202682495,
          1.0432708263397217,
          1.0224205255508425,
          1.0645710229873655,
          1.0730783939361572,
          1.061910629272461,
          0.3066696524620056,
          0.9296233654022216
         ]
        }
       ],
       "layout": {
        "template": {
         "data": {
          "bar": [
           {
            "error_x": {
             "color": "#2a3f5f"
            },
            "error_y": {
             "color": "#2a3f5f"
            },
            "marker": {
             "line": {
              "color": "#E5ECF6",
              "width": 0.5
             },
             "pattern": {
              "fillmode": "overlay",
              "size": 10,
              "solidity": 0.2
             }
            },
            "type": "bar"
           }
          ],
          "barpolar": [
           {
            "marker": {
             "line": {
              "color": "#E5ECF6",
              "width": 0.5
             },
             "pattern": {
              "fillmode": "overlay",
              "size": 10,
              "solidity": 0.2
             }
            },
            "type": "barpolar"
           }
          ],
          "carpet": [
           {
            "aaxis": {
             "endlinecolor": "#2a3f5f",
             "gridcolor": "white",
             "linecolor": "white",
             "minorgridcolor": "white",
             "startlinecolor": "#2a3f5f"
            },
            "baxis": {
             "endlinecolor": "#2a3f5f",
             "gridcolor": "white",
             "linecolor": "white",
             "minorgridcolor": "white",
             "startlinecolor": "#2a3f5f"
            },
            "type": "carpet"
           }
          ],
          "choropleth": [
           {
            "colorbar": {
             "outlinewidth": 0,
             "ticks": ""
            },
            "type": "choropleth"
           }
          ],
          "contour": [
           {
            "colorbar": {
             "outlinewidth": 0,
             "ticks": ""
            },
            "colorscale": [
             [
              0,
              "#0d0887"
             ],
             [
              0.1111111111111111,
              "#46039f"
             ],
             [
              0.2222222222222222,
              "#7201a8"
             ],
             [
              0.3333333333333333,
              "#9c179e"
             ],
             [
              0.4444444444444444,
              "#bd3786"
             ],
             [
              0.5555555555555556,
              "#d8576b"
             ],
             [
              0.6666666666666666,
              "#ed7953"
             ],
             [
              0.7777777777777778,
              "#fb9f3a"
             ],
             [
              0.8888888888888888,
              "#fdca26"
             ],
             [
              1,
              "#f0f921"
             ]
            ],
            "type": "contour"
           }
          ],
          "contourcarpet": [
           {
            "colorbar": {
             "outlinewidth": 0,
             "ticks": ""
            },
            "type": "contourcarpet"
           }
          ],
          "heatmap": [
           {
            "colorbar": {
             "outlinewidth": 0,
             "ticks": ""
            },
            "colorscale": [
             [
              0,
              "#0d0887"
             ],
             [
              0.1111111111111111,
              "#46039f"
             ],
             [
              0.2222222222222222,
              "#7201a8"
             ],
             [
              0.3333333333333333,
              "#9c179e"
             ],
             [
              0.4444444444444444,
              "#bd3786"
             ],
             [
              0.5555555555555556,
              "#d8576b"
             ],
             [
              0.6666666666666666,
              "#ed7953"
             ],
             [
              0.7777777777777778,
              "#fb9f3a"
             ],
             [
              0.8888888888888888,
              "#fdca26"
             ],
             [
              1,
              "#f0f921"
             ]
            ],
            "type": "heatmap"
           }
          ],
          "heatmapgl": [
           {
            "colorbar": {
             "outlinewidth": 0,
             "ticks": ""
            },
            "colorscale": [
             [
              0,
              "#0d0887"
             ],
             [
              0.1111111111111111,
              "#46039f"
             ],
             [
              0.2222222222222222,
              "#7201a8"
             ],
             [
              0.3333333333333333,
              "#9c179e"
             ],
             [
              0.4444444444444444,
              "#bd3786"
             ],
             [
              0.5555555555555556,
              "#d8576b"
             ],
             [
              0.6666666666666666,
              "#ed7953"
             ],
             [
              0.7777777777777778,
              "#fb9f3a"
             ],
             [
              0.8888888888888888,
              "#fdca26"
             ],
             [
              1,
              "#f0f921"
             ]
            ],
            "type": "heatmapgl"
           }
          ],
          "histogram": [
           {
            "marker": {
             "pattern": {
              "fillmode": "overlay",
              "size": 10,
              "solidity": 0.2
             }
            },
            "type": "histogram"
           }
          ],
          "histogram2d": [
           {
            "colorbar": {
             "outlinewidth": 0,
             "ticks": ""
            },
            "colorscale": [
             [
              0,
              "#0d0887"
             ],
             [
              0.1111111111111111,
              "#46039f"
             ],
             [
              0.2222222222222222,
              "#7201a8"
             ],
             [
              0.3333333333333333,
              "#9c179e"
             ],
             [
              0.4444444444444444,
              "#bd3786"
             ],
             [
              0.5555555555555556,
              "#d8576b"
             ],
             [
              0.6666666666666666,
              "#ed7953"
             ],
             [
              0.7777777777777778,
              "#fb9f3a"
             ],
             [
              0.8888888888888888,
              "#fdca26"
             ],
             [
              1,
              "#f0f921"
             ]
            ],
            "type": "histogram2d"
           }
          ],
          "histogram2dcontour": [
           {
            "colorbar": {
             "outlinewidth": 0,
             "ticks": ""
            },
            "colorscale": [
             [
              0,
              "#0d0887"
             ],
             [
              0.1111111111111111,
              "#46039f"
             ],
             [
              0.2222222222222222,
              "#7201a8"
             ],
             [
              0.3333333333333333,
              "#9c179e"
             ],
             [
              0.4444444444444444,
              "#bd3786"
             ],
             [
              0.5555555555555556,
              "#d8576b"
             ],
             [
              0.6666666666666666,
              "#ed7953"
             ],
             [
              0.7777777777777778,
              "#fb9f3a"
             ],
             [
              0.8888888888888888,
              "#fdca26"
             ],
             [
              1,
              "#f0f921"
             ]
            ],
            "type": "histogram2dcontour"
           }
          ],
          "mesh3d": [
           {
            "colorbar": {
             "outlinewidth": 0,
             "ticks": ""
            },
            "type": "mesh3d"
           }
          ],
          "parcoords": [
           {
            "line": {
             "colorbar": {
              "outlinewidth": 0,
              "ticks": ""
             }
            },
            "type": "parcoords"
           }
          ],
          "pie": [
           {
            "automargin": true,
            "type": "pie"
           }
          ],
          "scatter": [
           {
            "fillpattern": {
             "fillmode": "overlay",
             "size": 10,
             "solidity": 0.2
            },
            "type": "scatter"
           }
          ],
          "scatter3d": [
           {
            "line": {
             "colorbar": {
              "outlinewidth": 0,
              "ticks": ""
             }
            },
            "marker": {
             "colorbar": {
              "outlinewidth": 0,
              "ticks": ""
             }
            },
            "type": "scatter3d"
           }
          ],
          "scattercarpet": [
           {
            "marker": {
             "colorbar": {
              "outlinewidth": 0,
              "ticks": ""
             }
            },
            "type": "scattercarpet"
           }
          ],
          "scattergeo": [
           {
            "marker": {
             "colorbar": {
              "outlinewidth": 0,
              "ticks": ""
             }
            },
            "type": "scattergeo"
           }
          ],
          "scattergl": [
           {
            "marker": {
             "colorbar": {
              "outlinewidth": 0,
              "ticks": ""
             }
            },
            "type": "scattergl"
           }
          ],
          "scattermapbox": [
           {
            "marker": {
             "colorbar": {
              "outlinewidth": 0,
              "ticks": ""
             }
            },
            "type": "scattermapbox"
           }
          ],
          "scatterpolar": [
           {
            "marker": {
             "colorbar": {
              "outlinewidth": 0,
              "ticks": ""
             }
            },
            "type": "scatterpolar"
           }
          ],
          "scatterpolargl": [
           {
            "marker": {
             "colorbar": {
              "outlinewidth": 0,
              "ticks": ""
             }
            },
            "type": "scatterpolargl"
           }
          ],
          "scatterternary": [
           {
            "marker": {
             "colorbar": {
              "outlinewidth": 0,
              "ticks": ""
             }
            },
            "type": "scatterternary"
           }
          ],
          "surface": [
           {
            "colorbar": {
             "outlinewidth": 0,
             "ticks": ""
            },
            "colorscale": [
             [
              0,
              "#0d0887"
             ],
             [
              0.1111111111111111,
              "#46039f"
             ],
             [
              0.2222222222222222,
              "#7201a8"
             ],
             [
              0.3333333333333333,
              "#9c179e"
             ],
             [
              0.4444444444444444,
              "#bd3786"
             ],
             [
              0.5555555555555556,
              "#d8576b"
             ],
             [
              0.6666666666666666,
              "#ed7953"
             ],
             [
              0.7777777777777778,
              "#fb9f3a"
             ],
             [
              0.8888888888888888,
              "#fdca26"
             ],
             [
              1,
              "#f0f921"
             ]
            ],
            "type": "surface"
           }
          ],
          "table": [
           {
            "cells": {
             "fill": {
              "color": "#EBF0F8"
             },
             "line": {
              "color": "white"
             }
            },
            "header": {
             "fill": {
              "color": "#C8D4E3"
             },
             "line": {
              "color": "white"
             }
            },
            "type": "table"
           }
          ]
         },
         "layout": {
          "annotationdefaults": {
           "arrowcolor": "#2a3f5f",
           "arrowhead": 0,
           "arrowwidth": 1
          },
          "autotypenumbers": "strict",
          "coloraxis": {
           "colorbar": {
            "outlinewidth": 0,
            "ticks": ""
           }
          },
          "colorscale": {
           "diverging": [
            [
             0,
             "#8e0152"
            ],
            [
             0.1,
             "#c51b7d"
            ],
            [
             0.2,
             "#de77ae"
            ],
            [
             0.3,
             "#f1b6da"
            ],
            [
             0.4,
             "#fde0ef"
            ],
            [
             0.5,
             "#f7f7f7"
            ],
            [
             0.6,
             "#e6f5d0"
            ],
            [
             0.7,
             "#b8e186"
            ],
            [
             0.8,
             "#7fbc41"
            ],
            [
             0.9,
             "#4d9221"
            ],
            [
             1,
             "#276419"
            ]
           ],
           "sequential": [
            [
             0,
             "#0d0887"
            ],
            [
             0.1111111111111111,
             "#46039f"
            ],
            [
             0.2222222222222222,
             "#7201a8"
            ],
            [
             0.3333333333333333,
             "#9c179e"
            ],
            [
             0.4444444444444444,
             "#bd3786"
            ],
            [
             0.5555555555555556,
             "#d8576b"
            ],
            [
             0.6666666666666666,
             "#ed7953"
            ],
            [
             0.7777777777777778,
             "#fb9f3a"
            ],
            [
             0.8888888888888888,
             "#fdca26"
            ],
            [
             1,
             "#f0f921"
            ]
           ],
           "sequentialminus": [
            [
             0,
             "#0d0887"
            ],
            [
             0.1111111111111111,
             "#46039f"
            ],
            [
             0.2222222222222222,
             "#7201a8"
            ],
            [
             0.3333333333333333,
             "#9c179e"
            ],
            [
             0.4444444444444444,
             "#bd3786"
            ],
            [
             0.5555555555555556,
             "#d8576b"
            ],
            [
             0.6666666666666666,
             "#ed7953"
            ],
            [
             0.7777777777777778,
             "#fb9f3a"
            ],
            [
             0.8888888888888888,
             "#fdca26"
            ],
            [
             1,
             "#f0f921"
            ]
           ]
          },
          "colorway": [
           "#636efa",
           "#EF553B",
           "#00cc96",
           "#ab63fa",
           "#FFA15A",
           "#19d3f3",
           "#FF6692",
           "#B6E880",
           "#FF97FF",
           "#FECB52"
          ],
          "font": {
           "color": "#2a3f5f"
          },
          "geo": {
           "bgcolor": "white",
           "lakecolor": "white",
           "landcolor": "#E5ECF6",
           "showlakes": true,
           "showland": true,
           "subunitcolor": "white"
          },
          "hoverlabel": {
           "align": "left"
          },
          "hovermode": "closest",
          "mapbox": {
           "style": "light"
          },
          "paper_bgcolor": "white",
          "plot_bgcolor": "#E5ECF6",
          "polar": {
           "angularaxis": {
            "gridcolor": "white",
            "linecolor": "white",
            "ticks": ""
           },
           "bgcolor": "#E5ECF6",
           "radialaxis": {
            "gridcolor": "white",
            "linecolor": "white",
            "ticks": ""
           }
          },
          "scene": {
           "xaxis": {
            "backgroundcolor": "#E5ECF6",
            "gridcolor": "white",
            "gridwidth": 2,
            "linecolor": "white",
            "showbackground": true,
            "ticks": "",
            "zerolinecolor": "white"
           },
           "yaxis": {
            "backgroundcolor": "#E5ECF6",
            "gridcolor": "white",
            "gridwidth": 2,
            "linecolor": "white",
            "showbackground": true,
            "ticks": "",
            "zerolinecolor": "white"
           },
           "zaxis": {
            "backgroundcolor": "#E5ECF6",
            "gridcolor": "white",
            "gridwidth": 2,
            "linecolor": "white",
            "showbackground": true,
            "ticks": "",
            "zerolinecolor": "white"
           }
          },
          "shapedefaults": {
           "line": {
            "color": "#2a3f5f"
           }
          },
          "ternary": {
           "aaxis": {
            "gridcolor": "white",
            "linecolor": "white",
            "ticks": ""
           },
           "baxis": {
            "gridcolor": "white",
            "linecolor": "white",
            "ticks": ""
           },
           "bgcolor": "#E5ECF6",
           "caxis": {
            "gridcolor": "white",
            "linecolor": "white",
            "ticks": ""
           }
          },
          "title": {
           "x": 0.05
          },
          "xaxis": {
           "automargin": true,
           "gridcolor": "white",
           "linecolor": "white",
           "ticks": "",
           "title": {
            "standoff": 15
           },
           "zerolinecolor": "white",
           "zerolinewidth": 2
          },
          "yaxis": {
           "automargin": true,
           "gridcolor": "white",
           "linecolor": "white",
           "ticks": "",
           "title": {
            "standoff": 15
           },
           "zerolinecolor": "white",
           "zerolinewidth": 2
          }
         }
        },
        "title": {
         "text": "Embedder : Impact of Learning rate on the Minimum validation loss"
        },
        "xaxis": {
         "domain": [
          0,
          1
         ],
         "title": {
          "text": "Learning Rate"
         },
         "type": "log"
        },
        "yaxis": {
         "title": {
          "text": "Validation Loss Value (min)"
         }
        }
       }
      }
     },
     "metadata": {},
     "output_type": "display_data"
    }
   ],
   "source": [
    "fig = go.Figure(layout = {\n",
    "   \"xaxis\":{\n",
    "       \"domain\" : [0,1],\n",
    "       \"type\" : \"log\",\n",
    "        # \"categoryorder\" : \"median ascending\",\n",
    "       \"title\" : \"Learning Rate\"\n",
    "    },\n",
    "   \"yaxis\":{\"title\" : \"Validation Loss Value (min)\"},\n",
    "   \"title\" : {\"text\" : \"Embedder : Impact of Learning rate on the Minimum validation loss\"},\n",
    "})\n",
    "fig.add_trace( go.Box(\n",
    "                x = results[\"model_train_embedding_learning_rate\"], \n",
    "                y = results[\"min_valid_loss\"],\n",
    "                xaxis='x',\n",
    "                name = \"Validation\"\n",
    "))\n",
    "\n",
    "fig"
   ]
  },
  {
   "cell_type": "markdown",
   "metadata": {},
   "source": [
    "### Weight decay"
   ]
  },
  {
   "cell_type": "code",
   "execution_count": 30,
   "metadata": {},
   "outputs": [
    {
     "data": {
      "application/vnd.plotly.v1+json": {
       "config": {
        "plotlyServerURL": "https://plotly.com"
       },
       "data": [
        {
         "name": "Test",
         "type": "box",
         "x": [
          0.075,
          0.075,
          0.1,
          0.05,
          0.05,
          0.075,
          0.075,
          0.05,
          0.075,
          0.075,
          0.05,
          0.1,
          0.001,
          0.001,
          0.075,
          0.1,
          0.001,
          0.05,
          0.075,
          0.075,
          0.05,
          0.075,
          0.001,
          0.1,
          0.05,
          0.1,
          0.001,
          0.001,
          0.1,
          0.05,
          0.001,
          0.075,
          0.001,
          0.05,
          0.075,
          0.1,
          0.1,
          0.001,
          0.1,
          0.1,
          0.075,
          0.05,
          0.001,
          0.075,
          0.001,
          0.075,
          0.075,
          0.05,
          0.001,
          0.05,
          0.075,
          0.05,
          0.001,
          0.001,
          0.1,
          0.001,
          0.001,
          0.1,
          0.05,
          0.001,
          0.1,
          0.1,
          0.001,
          0.075,
          0.001,
          0.001,
          0.05,
          0.075,
          0.05,
          0.075,
          0.075,
          0.1,
          0.05,
          0.1,
          0.1,
          0.05,
          0.05,
          0.05,
          0.1,
          0.001,
          0.001,
          0.075,
          0.075,
          0.075,
          0.075,
          0.1,
          0.1,
          0.075,
          0.001,
          0.1,
          0.001,
          0.001,
          0.075,
          0.05,
          0.05,
          0.075,
          0.1,
          0.075,
          0.001,
          0.001
         ],
         "xaxis": "x",
         "y": [
          0.3493716931216931,
          0.4408068783068783,
          0.3698743386243386,
          0.3566468253968254,
          0.3296957671957671,
          0.4221230158730159,
          0.3379629629629629,
          0.3060515873015872,
          0.3589616402116402,
          0.4236111111111111,
          0.3753306878306878,
          0.4499007936507936,
          0.3513558201058201,
          0.3619378306878307,
          0.4019510582010581,
          0.3364748677248677,
          0.372850529100529,
          0.3088624338624338,
          0.363260582010582,
          0.3804563492063492,
          0.4135251322751323,
          0.3966702279202279,
          0.3126653439153439,
          0.3478835978835978,
          0.3649140211640211,
          0.3349867724867725,
          0.3693783068783068,
          0.3111772486772486,
          0.4378306878306878,
          0.3356481481481481,
          0.5047949735449736,
          0.3447420634920635,
          0.3277116402116402,
          0.4811507936507936,
          0.3313492063492063,
          0.3037367724867725,
          0.3151455026455026,
          0.3513558201058201,
          0.3156415343915344,
          0.3708664021164021,
          0.3477182539682539,
          0.4070767195767195,
          0.3634259259259259,
          0.382771164021164,
          0.4794973544973545,
          0.3298611111111111,
          0.3551587301587301,
          0.3171296296296296,
          0.3230820105820106,
          0.3667328042328042,
          0.3291997354497354,
          0.3455687830687831,
          0.3579695767195767,
          0.4867724867724867,
          0.3120039682539682,
          0.3366402116402116,
          0.3328373015873015,
          0.3373015873015872,
          0.4497354497354497,
          0.3581349206349206,
          0.4408068783068783,
          0.4712301587301588,
          0.3141534391534392,
          0.3268849206349206,
          0.2986111111111111,
          0.3455687830687831,
          0.326223544973545,
          0.3664021164021164,
          0.3237433862433862,
          0.3543320105820106,
          0.3291997354497354,
          0.3449074074074074,
          0.3549933862433862,
          0.3579695767195767,
          0.3817791005291005,
          0.4684193121693121,
          0.3468915343915344,
          0.3587962962962963,
          0.3290343915343915,
          0.3128306878306878,
          0.3009259259259259,
          0.3627645502645502,
          0.3120039682539682,
          0.3080357142857143,
          0.4250992063492064,
          0.3164682539682539,
          0.3634259259259259,
          0.404265873015873,
          0.3224206349206349,
          0.3568121693121693,
          0.3283730158730158,
          0.3268849206349206,
          0.4242724867724867,
          0.3649140211640211,
          0.3627645502645502,
          0.3252314814814814,
          0.2961309523809524,
          0.3209325396825396,
          0.5047949735449736,
          0.3440806878306878
         ]
        },
        {
         "name": "Validation",
         "type": "box",
         "x": [
          0.075,
          0.075,
          0.1,
          0.05,
          0.05,
          0.075,
          0.075,
          0.05,
          0.075,
          0.075,
          0.05,
          0.1,
          0.001,
          0.001,
          0.075,
          0.1,
          0.001,
          0.05,
          0.075,
          0.075,
          0.05,
          0.075,
          0.001,
          0.1,
          0.05,
          0.1,
          0.001,
          0.001,
          0.1,
          0.05,
          0.001,
          0.075,
          0.001,
          0.05,
          0.075,
          0.1,
          0.1,
          0.001,
          0.1,
          0.1,
          0.075,
          0.05,
          0.001,
          0.075,
          0.001,
          0.075,
          0.075,
          0.05,
          0.001,
          0.05,
          0.075,
          0.05,
          0.001,
          0.001,
          0.1,
          0.001,
          0.001,
          0.1,
          0.05,
          0.001,
          0.1,
          0.1,
          0.001,
          0.075,
          0.001,
          0.001,
          0.05,
          0.075,
          0.05,
          0.075,
          0.075,
          0.1,
          0.05,
          0.1,
          0.1,
          0.05,
          0.05,
          0.05,
          0.1,
          0.001,
          0.001,
          0.075,
          0.075,
          0.075,
          0.075,
          0.1,
          0.1,
          0.075,
          0.001,
          0.1,
          0.001,
          0.001,
          0.075,
          0.05,
          0.05,
          0.075,
          0.1,
          0.075,
          0.001,
          0.001
         ],
         "xaxis": "x",
         "y": [
          0.4014550264550264,
          0.5168650793650793,
          0.4007936507936507,
          0.3900076625281137,
          0.3692129629629629,
          0.457010582010582,
          0.398478835978836,
          0.3544513334680146,
          0.341992266992267,
          0.3857473544973545,
          0.4267526455026454,
          0.4735449735449735,
          0.3275055962555963,
          0.436083338188422,
          0.4332010582010581,
          0.4150132275132275,
          0.4159925722425722,
          0.3604497354497354,
          0.3692892629875062,
          0.4208002645502645,
          0.4469246031746031,
          0.3587962962962963,
          0.3678308079427483,
          0.3991402116402116,
          0.4161706349206349,
          0.4194775132275132,
          0.4012352235429958,
          0.3943783068783069,
          0.4436177248677248,
          0.3707010582010582,
          0.5302579365079365,
          0.404265873015873,
          0.3944012006512006,
          0.4580026455026454,
          0.4577091849436588,
          0.3696688779711167,
          0.3793549043549044,
          0.5179922249150847,
          0.3969907407407407,
          0.3576388888888889,
          0.3432171028253117,
          0.4631283068783068,
          0.3581349206349206,
          0.4603174603174603,
          0.5115740740740741,
          0.3743386243386243,
          0.4264219576719577,
          0.3312126491920115,
          0.3329263329263329,
          0.3686816446932109,
          0.398478835978836,
          0.3940145502645502,
          0.3828731453731453,
          0.5281084656084657,
          0.37880291005291,
          0.5006061742282215,
          0.3759920634920635,
          0.3713624338624338,
          0.5026455026455027,
          0.3543931526879223,
          0.4892526455026454,
          0.4533730158730159,
          0.4029431216931217,
          0.3700396825396825,
          0.386986161986162,
          0.3340163101960451,
          0.3410766679423395,
          0.3743386243386243,
          0.3759569721323452,
          0.3745039682539682,
          0.3625992063492063,
          0.4272890147056216,
          0.3915343915343915,
          0.4429563492063492,
          0.4131562881562881,
          0.4920634920634921,
          0.3713624338624338,
          0.3625992063492063,
          0.3687881562881563,
          0.3968253968253968,
          0.4177185494827626,
          0.3640873015873015,
          0.434276261319009,
          0.3618796773402036,
          0.4781746031746031,
          0.3655753968253968,
          0.3758267195767195,
          0.4556878306878307,
          0.4683958947244925,
          0.3857473544973545,
          0.3415905594661151,
          0.4109101546601546,
          0.4794973544973545,
          0.394510582010582,
          0.4310515873015873,
          0.418761238524781,
          0.4095550011441061,
          0.3640873015873015,
          0.5191798941798942,
          0.3572903947903948
         ]
        }
       ],
       "layout": {
        "template": {
         "data": {
          "bar": [
           {
            "error_x": {
             "color": "#2a3f5f"
            },
            "error_y": {
             "color": "#2a3f5f"
            },
            "marker": {
             "line": {
              "color": "#E5ECF6",
              "width": 0.5
             },
             "pattern": {
              "fillmode": "overlay",
              "size": 10,
              "solidity": 0.2
             }
            },
            "type": "bar"
           }
          ],
          "barpolar": [
           {
            "marker": {
             "line": {
              "color": "#E5ECF6",
              "width": 0.5
             },
             "pattern": {
              "fillmode": "overlay",
              "size": 10,
              "solidity": 0.2
             }
            },
            "type": "barpolar"
           }
          ],
          "carpet": [
           {
            "aaxis": {
             "endlinecolor": "#2a3f5f",
             "gridcolor": "white",
             "linecolor": "white",
             "minorgridcolor": "white",
             "startlinecolor": "#2a3f5f"
            },
            "baxis": {
             "endlinecolor": "#2a3f5f",
             "gridcolor": "white",
             "linecolor": "white",
             "minorgridcolor": "white",
             "startlinecolor": "#2a3f5f"
            },
            "type": "carpet"
           }
          ],
          "choropleth": [
           {
            "colorbar": {
             "outlinewidth": 0,
             "ticks": ""
            },
            "type": "choropleth"
           }
          ],
          "contour": [
           {
            "colorbar": {
             "outlinewidth": 0,
             "ticks": ""
            },
            "colorscale": [
             [
              0,
              "#0d0887"
             ],
             [
              0.1111111111111111,
              "#46039f"
             ],
             [
              0.2222222222222222,
              "#7201a8"
             ],
             [
              0.3333333333333333,
              "#9c179e"
             ],
             [
              0.4444444444444444,
              "#bd3786"
             ],
             [
              0.5555555555555556,
              "#d8576b"
             ],
             [
              0.6666666666666666,
              "#ed7953"
             ],
             [
              0.7777777777777778,
              "#fb9f3a"
             ],
             [
              0.8888888888888888,
              "#fdca26"
             ],
             [
              1,
              "#f0f921"
             ]
            ],
            "type": "contour"
           }
          ],
          "contourcarpet": [
           {
            "colorbar": {
             "outlinewidth": 0,
             "ticks": ""
            },
            "type": "contourcarpet"
           }
          ],
          "heatmap": [
           {
            "colorbar": {
             "outlinewidth": 0,
             "ticks": ""
            },
            "colorscale": [
             [
              0,
              "#0d0887"
             ],
             [
              0.1111111111111111,
              "#46039f"
             ],
             [
              0.2222222222222222,
              "#7201a8"
             ],
             [
              0.3333333333333333,
              "#9c179e"
             ],
             [
              0.4444444444444444,
              "#bd3786"
             ],
             [
              0.5555555555555556,
              "#d8576b"
             ],
             [
              0.6666666666666666,
              "#ed7953"
             ],
             [
              0.7777777777777778,
              "#fb9f3a"
             ],
             [
              0.8888888888888888,
              "#fdca26"
             ],
             [
              1,
              "#f0f921"
             ]
            ],
            "type": "heatmap"
           }
          ],
          "heatmapgl": [
           {
            "colorbar": {
             "outlinewidth": 0,
             "ticks": ""
            },
            "colorscale": [
             [
              0,
              "#0d0887"
             ],
             [
              0.1111111111111111,
              "#46039f"
             ],
             [
              0.2222222222222222,
              "#7201a8"
             ],
             [
              0.3333333333333333,
              "#9c179e"
             ],
             [
              0.4444444444444444,
              "#bd3786"
             ],
             [
              0.5555555555555556,
              "#d8576b"
             ],
             [
              0.6666666666666666,
              "#ed7953"
             ],
             [
              0.7777777777777778,
              "#fb9f3a"
             ],
             [
              0.8888888888888888,
              "#fdca26"
             ],
             [
              1,
              "#f0f921"
             ]
            ],
            "type": "heatmapgl"
           }
          ],
          "histogram": [
           {
            "marker": {
             "pattern": {
              "fillmode": "overlay",
              "size": 10,
              "solidity": 0.2
             }
            },
            "type": "histogram"
           }
          ],
          "histogram2d": [
           {
            "colorbar": {
             "outlinewidth": 0,
             "ticks": ""
            },
            "colorscale": [
             [
              0,
              "#0d0887"
             ],
             [
              0.1111111111111111,
              "#46039f"
             ],
             [
              0.2222222222222222,
              "#7201a8"
             ],
             [
              0.3333333333333333,
              "#9c179e"
             ],
             [
              0.4444444444444444,
              "#bd3786"
             ],
             [
              0.5555555555555556,
              "#d8576b"
             ],
             [
              0.6666666666666666,
              "#ed7953"
             ],
             [
              0.7777777777777778,
              "#fb9f3a"
             ],
             [
              0.8888888888888888,
              "#fdca26"
             ],
             [
              1,
              "#f0f921"
             ]
            ],
            "type": "histogram2d"
           }
          ],
          "histogram2dcontour": [
           {
            "colorbar": {
             "outlinewidth": 0,
             "ticks": ""
            },
            "colorscale": [
             [
              0,
              "#0d0887"
             ],
             [
              0.1111111111111111,
              "#46039f"
             ],
             [
              0.2222222222222222,
              "#7201a8"
             ],
             [
              0.3333333333333333,
              "#9c179e"
             ],
             [
              0.4444444444444444,
              "#bd3786"
             ],
             [
              0.5555555555555556,
              "#d8576b"
             ],
             [
              0.6666666666666666,
              "#ed7953"
             ],
             [
              0.7777777777777778,
              "#fb9f3a"
             ],
             [
              0.8888888888888888,
              "#fdca26"
             ],
             [
              1,
              "#f0f921"
             ]
            ],
            "type": "histogram2dcontour"
           }
          ],
          "mesh3d": [
           {
            "colorbar": {
             "outlinewidth": 0,
             "ticks": ""
            },
            "type": "mesh3d"
           }
          ],
          "parcoords": [
           {
            "line": {
             "colorbar": {
              "outlinewidth": 0,
              "ticks": ""
             }
            },
            "type": "parcoords"
           }
          ],
          "pie": [
           {
            "automargin": true,
            "type": "pie"
           }
          ],
          "scatter": [
           {
            "fillpattern": {
             "fillmode": "overlay",
             "size": 10,
             "solidity": 0.2
            },
            "type": "scatter"
           }
          ],
          "scatter3d": [
           {
            "line": {
             "colorbar": {
              "outlinewidth": 0,
              "ticks": ""
             }
            },
            "marker": {
             "colorbar": {
              "outlinewidth": 0,
              "ticks": ""
             }
            },
            "type": "scatter3d"
           }
          ],
          "scattercarpet": [
           {
            "marker": {
             "colorbar": {
              "outlinewidth": 0,
              "ticks": ""
             }
            },
            "type": "scattercarpet"
           }
          ],
          "scattergeo": [
           {
            "marker": {
             "colorbar": {
              "outlinewidth": 0,
              "ticks": ""
             }
            },
            "type": "scattergeo"
           }
          ],
          "scattergl": [
           {
            "marker": {
             "colorbar": {
              "outlinewidth": 0,
              "ticks": ""
             }
            },
            "type": "scattergl"
           }
          ],
          "scattermapbox": [
           {
            "marker": {
             "colorbar": {
              "outlinewidth": 0,
              "ticks": ""
             }
            },
            "type": "scattermapbox"
           }
          ],
          "scatterpolar": [
           {
            "marker": {
             "colorbar": {
              "outlinewidth": 0,
              "ticks": ""
             }
            },
            "type": "scatterpolar"
           }
          ],
          "scatterpolargl": [
           {
            "marker": {
             "colorbar": {
              "outlinewidth": 0,
              "ticks": ""
             }
            },
            "type": "scatterpolargl"
           }
          ],
          "scatterternary": [
           {
            "marker": {
             "colorbar": {
              "outlinewidth": 0,
              "ticks": ""
             }
            },
            "type": "scatterternary"
           }
          ],
          "surface": [
           {
            "colorbar": {
             "outlinewidth": 0,
             "ticks": ""
            },
            "colorscale": [
             [
              0,
              "#0d0887"
             ],
             [
              0.1111111111111111,
              "#46039f"
             ],
             [
              0.2222222222222222,
              "#7201a8"
             ],
             [
              0.3333333333333333,
              "#9c179e"
             ],
             [
              0.4444444444444444,
              "#bd3786"
             ],
             [
              0.5555555555555556,
              "#d8576b"
             ],
             [
              0.6666666666666666,
              "#ed7953"
             ],
             [
              0.7777777777777778,
              "#fb9f3a"
             ],
             [
              0.8888888888888888,
              "#fdca26"
             ],
             [
              1,
              "#f0f921"
             ]
            ],
            "type": "surface"
           }
          ],
          "table": [
           {
            "cells": {
             "fill": {
              "color": "#EBF0F8"
             },
             "line": {
              "color": "white"
             }
            },
            "header": {
             "fill": {
              "color": "#C8D4E3"
             },
             "line": {
              "color": "white"
             }
            },
            "type": "table"
           }
          ]
         },
         "layout": {
          "annotationdefaults": {
           "arrowcolor": "#2a3f5f",
           "arrowhead": 0,
           "arrowwidth": 1
          },
          "autotypenumbers": "strict",
          "coloraxis": {
           "colorbar": {
            "outlinewidth": 0,
            "ticks": ""
           }
          },
          "colorscale": {
           "diverging": [
            [
             0,
             "#8e0152"
            ],
            [
             0.1,
             "#c51b7d"
            ],
            [
             0.2,
             "#de77ae"
            ],
            [
             0.3,
             "#f1b6da"
            ],
            [
             0.4,
             "#fde0ef"
            ],
            [
             0.5,
             "#f7f7f7"
            ],
            [
             0.6,
             "#e6f5d0"
            ],
            [
             0.7,
             "#b8e186"
            ],
            [
             0.8,
             "#7fbc41"
            ],
            [
             0.9,
             "#4d9221"
            ],
            [
             1,
             "#276419"
            ]
           ],
           "sequential": [
            [
             0,
             "#0d0887"
            ],
            [
             0.1111111111111111,
             "#46039f"
            ],
            [
             0.2222222222222222,
             "#7201a8"
            ],
            [
             0.3333333333333333,
             "#9c179e"
            ],
            [
             0.4444444444444444,
             "#bd3786"
            ],
            [
             0.5555555555555556,
             "#d8576b"
            ],
            [
             0.6666666666666666,
             "#ed7953"
            ],
            [
             0.7777777777777778,
             "#fb9f3a"
            ],
            [
             0.8888888888888888,
             "#fdca26"
            ],
            [
             1,
             "#f0f921"
            ]
           ],
           "sequentialminus": [
            [
             0,
             "#0d0887"
            ],
            [
             0.1111111111111111,
             "#46039f"
            ],
            [
             0.2222222222222222,
             "#7201a8"
            ],
            [
             0.3333333333333333,
             "#9c179e"
            ],
            [
             0.4444444444444444,
             "#bd3786"
            ],
            [
             0.5555555555555556,
             "#d8576b"
            ],
            [
             0.6666666666666666,
             "#ed7953"
            ],
            [
             0.7777777777777778,
             "#fb9f3a"
            ],
            [
             0.8888888888888888,
             "#fdca26"
            ],
            [
             1,
             "#f0f921"
            ]
           ]
          },
          "colorway": [
           "#636efa",
           "#EF553B",
           "#00cc96",
           "#ab63fa",
           "#FFA15A",
           "#19d3f3",
           "#FF6692",
           "#B6E880",
           "#FF97FF",
           "#FECB52"
          ],
          "font": {
           "color": "#2a3f5f"
          },
          "geo": {
           "bgcolor": "white",
           "lakecolor": "white",
           "landcolor": "#E5ECF6",
           "showlakes": true,
           "showland": true,
           "subunitcolor": "white"
          },
          "hoverlabel": {
           "align": "left"
          },
          "hovermode": "closest",
          "mapbox": {
           "style": "light"
          },
          "paper_bgcolor": "white",
          "plot_bgcolor": "#E5ECF6",
          "polar": {
           "angularaxis": {
            "gridcolor": "white",
            "linecolor": "white",
            "ticks": ""
           },
           "bgcolor": "#E5ECF6",
           "radialaxis": {
            "gridcolor": "white",
            "linecolor": "white",
            "ticks": ""
           }
          },
          "scene": {
           "xaxis": {
            "backgroundcolor": "#E5ECF6",
            "gridcolor": "white",
            "gridwidth": 2,
            "linecolor": "white",
            "showbackground": true,
            "ticks": "",
            "zerolinecolor": "white"
           },
           "yaxis": {
            "backgroundcolor": "#E5ECF6",
            "gridcolor": "white",
            "gridwidth": 2,
            "linecolor": "white",
            "showbackground": true,
            "ticks": "",
            "zerolinecolor": "white"
           },
           "zaxis": {
            "backgroundcolor": "#E5ECF6",
            "gridcolor": "white",
            "gridwidth": 2,
            "linecolor": "white",
            "showbackground": true,
            "ticks": "",
            "zerolinecolor": "white"
           }
          },
          "shapedefaults": {
           "line": {
            "color": "#2a3f5f"
           }
          },
          "ternary": {
           "aaxis": {
            "gridcolor": "white",
            "linecolor": "white",
            "ticks": ""
           },
           "baxis": {
            "gridcolor": "white",
            "linecolor": "white",
            "ticks": ""
           },
           "bgcolor": "#E5ECF6",
           "caxis": {
            "gridcolor": "white",
            "linecolor": "white",
            "ticks": ""
           }
          },
          "title": {
           "x": 0.05
          },
          "xaxis": {
           "automargin": true,
           "gridcolor": "white",
           "linecolor": "white",
           "ticks": "",
           "title": {
            "standoff": 15
           },
           "zerolinecolor": "white",
           "zerolinewidth": 2
          },
          "yaxis": {
           "automargin": true,
           "gridcolor": "white",
           "linecolor": "white",
           "ticks": "",
           "title": {
            "standoff": 15
           },
           "zerolinecolor": "white",
           "zerolinewidth": 2
          }
         }
        },
        "title": {
         "text": "Embedder : Impact of weight decay on the F1-score"
        },
        "xaxis": {
         "domain": [
          0,
          1
         ],
         "title": {
          "text": "Weight decay"
         },
         "type": "category"
        },
        "yaxis": {
         "title": {
          "text": "F1-Score (max)"
         }
        }
       }
      }
     },
     "metadata": {},
     "output_type": "display_data"
    }
   ],
   "source": [
    "fig = go.Figure(layout = {\n",
    "   \"xaxis\":{\n",
    "       \"domain\" : [0,1],\n",
    "       \"type\" : \"category\",\n",
    "      #  \"categoryorder\" : \"median ascending\",\n",
    "       \"title\" : \"Weight decay\"\n",
    "    },\n",
    "   \"yaxis\":{\"title\" : \"F1-Score (max)\"},\n",
    "   \"title\" : {\"text\" : \"Embedder : Impact of weight decay on the F1-score\"},\n",
    "})\n",
    "fig.add_trace( go.Box(\n",
    "                x = results[\"model_train_embedding_weight_decay\"], \n",
    "                y = results[\"test_f1_max\"],\n",
    "                xaxis='x',\n",
    "                name = \"Test\"\n",
    "))\n",
    "fig.add_trace( go.Box(\n",
    "                x = results[\"model_train_embedding_weight_decay\"], \n",
    "                y = results[\"valid_f1_max\"],\n",
    "                xaxis='x',\n",
    "                name = \"Validation\"\n",
    "))\n",
    "\n",
    "# fig.add_trace( go.Box(\n",
    "#                 x = results[\"model_train_classifier_learning_rate\"], \n",
    "#                 y = results[\"train_f1_max\"],\n",
    "#                 xaxis='x',\n",
    "#                 name = \"Train\"\n",
    "# ))\n",
    "fig"
   ]
  },
  {
   "cell_type": "code",
   "execution_count": 31,
   "metadata": {},
   "outputs": [
    {
     "data": {
      "application/vnd.plotly.v1+json": {
       "config": {
        "plotlyServerURL": "https://plotly.com"
       },
       "data": [
        {
         "name": "Validation",
         "type": "box",
         "x": [
          0.075,
          0.075,
          0.1,
          0.05,
          0.05,
          0.075,
          0.075,
          0.05,
          0.075,
          0.075,
          0.05,
          0.1,
          0.001,
          0.001,
          0.075,
          0.1,
          0.001,
          0.05,
          0.075,
          0.075,
          0.05,
          0.075,
          0.001,
          0.1,
          0.05,
          0.1,
          0.001,
          0.001,
          0.1,
          0.05,
          0.001,
          0.075,
          0.001,
          0.05,
          0.075,
          0.1,
          0.1,
          0.001,
          0.1,
          0.1,
          0.075,
          0.05,
          0.001,
          0.075,
          0.001,
          0.075,
          0.075,
          0.05,
          0.001,
          0.05,
          0.075,
          0.05,
          0.001,
          0.001,
          0.1,
          0.001,
          0.001,
          0.1,
          0.05,
          0.001,
          0.1,
          0.1,
          0.001,
          0.075,
          0.001,
          0.001,
          0.05,
          0.075,
          0.05,
          0.075,
          0.075,
          0.1,
          0.05,
          0.1,
          0.1,
          0.05,
          0.05,
          0.05,
          0.1,
          0.001,
          0.001,
          0.075,
          0.075,
          0.075,
          0.075,
          0.1,
          0.1,
          0.075,
          0.001,
          0.1,
          0.001,
          0.001,
          0.075,
          0.05,
          0.05,
          0.075,
          0.1,
          0.075,
          0.001,
          0.001
         ],
         "xaxis": "x",
         "y": [
          1.0352147817611694,
          0.6887269616127014,
          1.066637396812439,
          1.0661628246307373,
          1.0651251077651978,
          0.8039402365684509,
          1.0717341899871826,
          1.066861271858215,
          1.0455080270767212,
          0.821679413318634,
          1.0626591444015503,
          0.8122887015342712,
          1.0213865041732788,
          1.0585943460464478,
          0.7933505773544312,
          1.0696583986282349,
          1.031765103340149,
          1.0549064874649048,
          1.03055739402771,
          1.0602622032165527,
          0.8512014150619507,
          1.064799427986145,
          1.0180034637451172,
          1.0706946849822998,
          1.0580310821533203,
          1.0694422721862793,
          0.9165627360343932,
          1.0079460144042969,
          0.8349443078041077,
          1.0698273181915283,
          0.0523035451769828,
          1.0683259963989258,
          1.057709813117981,
          0.7966796159744263,
          1.078587770462036,
          1.053215742111206,
          1.067436933517456,
          0.9644045829772948,
          1.0735267400741575,
          1.0646313428878784,
          1.0611244440078735,
          0.8207481503486633,
          1.0206546783447266,
          1.0436195135116575,
          0.2619799673557281,
          1.0706987380981443,
          0.9275727272033693,
          1.0509308576583862,
          0.8762260675430298,
          1.0381808280944824,
          1.0698076486587524,
          1.057908535003662,
          0.8997688889503479,
          0.0677533894777298,
          1.0743403434753418,
          0.9254392385482788,
          0.927806317806244,
          1.0661766529083252,
          0.7629184722900391,
          0.8958649635314941,
          0.7101210355758667,
          0.7903373837471008,
          1.057939887046814,
          1.074691891670227,
          1.030940055847168,
          1.0657740831375122,
          1.042151927947998,
          1.0607199668884275,
          1.010875582695007,
          1.0323222875595093,
          0.9840835332870485,
          1.0588154792785645,
          1.0199815034866333,
          1.053195595741272,
          1.0797394514083862,
          0.7433096170425415,
          1.0392982959747314,
          1.0546326637268066,
          1.066211819648743,
          1.0483248233795166,
          1.0625158548355105,
          1.0711138248443604,
          1.0638387203216553,
          1.072215914726257,
          0.7799303531646729,
          1.0233423709869385,
          1.0539995431900024,
          0.907995104789734,
          1.064211130142212,
          1.0560568571090698,
          1.0555901527404783,
          1.0282855033874512,
          0.8165072202682495,
          1.0432708263397217,
          1.0224205255508425,
          1.0645710229873655,
          1.0730783939361572,
          1.061910629272461,
          0.3066696524620056,
          0.9296233654022216
         ]
        }
       ],
       "layout": {
        "template": {
         "data": {
          "bar": [
           {
            "error_x": {
             "color": "#2a3f5f"
            },
            "error_y": {
             "color": "#2a3f5f"
            },
            "marker": {
             "line": {
              "color": "#E5ECF6",
              "width": 0.5
             },
             "pattern": {
              "fillmode": "overlay",
              "size": 10,
              "solidity": 0.2
             }
            },
            "type": "bar"
           }
          ],
          "barpolar": [
           {
            "marker": {
             "line": {
              "color": "#E5ECF6",
              "width": 0.5
             },
             "pattern": {
              "fillmode": "overlay",
              "size": 10,
              "solidity": 0.2
             }
            },
            "type": "barpolar"
           }
          ],
          "carpet": [
           {
            "aaxis": {
             "endlinecolor": "#2a3f5f",
             "gridcolor": "white",
             "linecolor": "white",
             "minorgridcolor": "white",
             "startlinecolor": "#2a3f5f"
            },
            "baxis": {
             "endlinecolor": "#2a3f5f",
             "gridcolor": "white",
             "linecolor": "white",
             "minorgridcolor": "white",
             "startlinecolor": "#2a3f5f"
            },
            "type": "carpet"
           }
          ],
          "choropleth": [
           {
            "colorbar": {
             "outlinewidth": 0,
             "ticks": ""
            },
            "type": "choropleth"
           }
          ],
          "contour": [
           {
            "colorbar": {
             "outlinewidth": 0,
             "ticks": ""
            },
            "colorscale": [
             [
              0,
              "#0d0887"
             ],
             [
              0.1111111111111111,
              "#46039f"
             ],
             [
              0.2222222222222222,
              "#7201a8"
             ],
             [
              0.3333333333333333,
              "#9c179e"
             ],
             [
              0.4444444444444444,
              "#bd3786"
             ],
             [
              0.5555555555555556,
              "#d8576b"
             ],
             [
              0.6666666666666666,
              "#ed7953"
             ],
             [
              0.7777777777777778,
              "#fb9f3a"
             ],
             [
              0.8888888888888888,
              "#fdca26"
             ],
             [
              1,
              "#f0f921"
             ]
            ],
            "type": "contour"
           }
          ],
          "contourcarpet": [
           {
            "colorbar": {
             "outlinewidth": 0,
             "ticks": ""
            },
            "type": "contourcarpet"
           }
          ],
          "heatmap": [
           {
            "colorbar": {
             "outlinewidth": 0,
             "ticks": ""
            },
            "colorscale": [
             [
              0,
              "#0d0887"
             ],
             [
              0.1111111111111111,
              "#46039f"
             ],
             [
              0.2222222222222222,
              "#7201a8"
             ],
             [
              0.3333333333333333,
              "#9c179e"
             ],
             [
              0.4444444444444444,
              "#bd3786"
             ],
             [
              0.5555555555555556,
              "#d8576b"
             ],
             [
              0.6666666666666666,
              "#ed7953"
             ],
             [
              0.7777777777777778,
              "#fb9f3a"
             ],
             [
              0.8888888888888888,
              "#fdca26"
             ],
             [
              1,
              "#f0f921"
             ]
            ],
            "type": "heatmap"
           }
          ],
          "heatmapgl": [
           {
            "colorbar": {
             "outlinewidth": 0,
             "ticks": ""
            },
            "colorscale": [
             [
              0,
              "#0d0887"
             ],
             [
              0.1111111111111111,
              "#46039f"
             ],
             [
              0.2222222222222222,
              "#7201a8"
             ],
             [
              0.3333333333333333,
              "#9c179e"
             ],
             [
              0.4444444444444444,
              "#bd3786"
             ],
             [
              0.5555555555555556,
              "#d8576b"
             ],
             [
              0.6666666666666666,
              "#ed7953"
             ],
             [
              0.7777777777777778,
              "#fb9f3a"
             ],
             [
              0.8888888888888888,
              "#fdca26"
             ],
             [
              1,
              "#f0f921"
             ]
            ],
            "type": "heatmapgl"
           }
          ],
          "histogram": [
           {
            "marker": {
             "pattern": {
              "fillmode": "overlay",
              "size": 10,
              "solidity": 0.2
             }
            },
            "type": "histogram"
           }
          ],
          "histogram2d": [
           {
            "colorbar": {
             "outlinewidth": 0,
             "ticks": ""
            },
            "colorscale": [
             [
              0,
              "#0d0887"
             ],
             [
              0.1111111111111111,
              "#46039f"
             ],
             [
              0.2222222222222222,
              "#7201a8"
             ],
             [
              0.3333333333333333,
              "#9c179e"
             ],
             [
              0.4444444444444444,
              "#bd3786"
             ],
             [
              0.5555555555555556,
              "#d8576b"
             ],
             [
              0.6666666666666666,
              "#ed7953"
             ],
             [
              0.7777777777777778,
              "#fb9f3a"
             ],
             [
              0.8888888888888888,
              "#fdca26"
             ],
             [
              1,
              "#f0f921"
             ]
            ],
            "type": "histogram2d"
           }
          ],
          "histogram2dcontour": [
           {
            "colorbar": {
             "outlinewidth": 0,
             "ticks": ""
            },
            "colorscale": [
             [
              0,
              "#0d0887"
             ],
             [
              0.1111111111111111,
              "#46039f"
             ],
             [
              0.2222222222222222,
              "#7201a8"
             ],
             [
              0.3333333333333333,
              "#9c179e"
             ],
             [
              0.4444444444444444,
              "#bd3786"
             ],
             [
              0.5555555555555556,
              "#d8576b"
             ],
             [
              0.6666666666666666,
              "#ed7953"
             ],
             [
              0.7777777777777778,
              "#fb9f3a"
             ],
             [
              0.8888888888888888,
              "#fdca26"
             ],
             [
              1,
              "#f0f921"
             ]
            ],
            "type": "histogram2dcontour"
           }
          ],
          "mesh3d": [
           {
            "colorbar": {
             "outlinewidth": 0,
             "ticks": ""
            },
            "type": "mesh3d"
           }
          ],
          "parcoords": [
           {
            "line": {
             "colorbar": {
              "outlinewidth": 0,
              "ticks": ""
             }
            },
            "type": "parcoords"
           }
          ],
          "pie": [
           {
            "automargin": true,
            "type": "pie"
           }
          ],
          "scatter": [
           {
            "fillpattern": {
             "fillmode": "overlay",
             "size": 10,
             "solidity": 0.2
            },
            "type": "scatter"
           }
          ],
          "scatter3d": [
           {
            "line": {
             "colorbar": {
              "outlinewidth": 0,
              "ticks": ""
             }
            },
            "marker": {
             "colorbar": {
              "outlinewidth": 0,
              "ticks": ""
             }
            },
            "type": "scatter3d"
           }
          ],
          "scattercarpet": [
           {
            "marker": {
             "colorbar": {
              "outlinewidth": 0,
              "ticks": ""
             }
            },
            "type": "scattercarpet"
           }
          ],
          "scattergeo": [
           {
            "marker": {
             "colorbar": {
              "outlinewidth": 0,
              "ticks": ""
             }
            },
            "type": "scattergeo"
           }
          ],
          "scattergl": [
           {
            "marker": {
             "colorbar": {
              "outlinewidth": 0,
              "ticks": ""
             }
            },
            "type": "scattergl"
           }
          ],
          "scattermapbox": [
           {
            "marker": {
             "colorbar": {
              "outlinewidth": 0,
              "ticks": ""
             }
            },
            "type": "scattermapbox"
           }
          ],
          "scatterpolar": [
           {
            "marker": {
             "colorbar": {
              "outlinewidth": 0,
              "ticks": ""
             }
            },
            "type": "scatterpolar"
           }
          ],
          "scatterpolargl": [
           {
            "marker": {
             "colorbar": {
              "outlinewidth": 0,
              "ticks": ""
             }
            },
            "type": "scatterpolargl"
           }
          ],
          "scatterternary": [
           {
            "marker": {
             "colorbar": {
              "outlinewidth": 0,
              "ticks": ""
             }
            },
            "type": "scatterternary"
           }
          ],
          "surface": [
           {
            "colorbar": {
             "outlinewidth": 0,
             "ticks": ""
            },
            "colorscale": [
             [
              0,
              "#0d0887"
             ],
             [
              0.1111111111111111,
              "#46039f"
             ],
             [
              0.2222222222222222,
              "#7201a8"
             ],
             [
              0.3333333333333333,
              "#9c179e"
             ],
             [
              0.4444444444444444,
              "#bd3786"
             ],
             [
              0.5555555555555556,
              "#d8576b"
             ],
             [
              0.6666666666666666,
              "#ed7953"
             ],
             [
              0.7777777777777778,
              "#fb9f3a"
             ],
             [
              0.8888888888888888,
              "#fdca26"
             ],
             [
              1,
              "#f0f921"
             ]
            ],
            "type": "surface"
           }
          ],
          "table": [
           {
            "cells": {
             "fill": {
              "color": "#EBF0F8"
             },
             "line": {
              "color": "white"
             }
            },
            "header": {
             "fill": {
              "color": "#C8D4E3"
             },
             "line": {
              "color": "white"
             }
            },
            "type": "table"
           }
          ]
         },
         "layout": {
          "annotationdefaults": {
           "arrowcolor": "#2a3f5f",
           "arrowhead": 0,
           "arrowwidth": 1
          },
          "autotypenumbers": "strict",
          "coloraxis": {
           "colorbar": {
            "outlinewidth": 0,
            "ticks": ""
           }
          },
          "colorscale": {
           "diverging": [
            [
             0,
             "#8e0152"
            ],
            [
             0.1,
             "#c51b7d"
            ],
            [
             0.2,
             "#de77ae"
            ],
            [
             0.3,
             "#f1b6da"
            ],
            [
             0.4,
             "#fde0ef"
            ],
            [
             0.5,
             "#f7f7f7"
            ],
            [
             0.6,
             "#e6f5d0"
            ],
            [
             0.7,
             "#b8e186"
            ],
            [
             0.8,
             "#7fbc41"
            ],
            [
             0.9,
             "#4d9221"
            ],
            [
             1,
             "#276419"
            ]
           ],
           "sequential": [
            [
             0,
             "#0d0887"
            ],
            [
             0.1111111111111111,
             "#46039f"
            ],
            [
             0.2222222222222222,
             "#7201a8"
            ],
            [
             0.3333333333333333,
             "#9c179e"
            ],
            [
             0.4444444444444444,
             "#bd3786"
            ],
            [
             0.5555555555555556,
             "#d8576b"
            ],
            [
             0.6666666666666666,
             "#ed7953"
            ],
            [
             0.7777777777777778,
             "#fb9f3a"
            ],
            [
             0.8888888888888888,
             "#fdca26"
            ],
            [
             1,
             "#f0f921"
            ]
           ],
           "sequentialminus": [
            [
             0,
             "#0d0887"
            ],
            [
             0.1111111111111111,
             "#46039f"
            ],
            [
             0.2222222222222222,
             "#7201a8"
            ],
            [
             0.3333333333333333,
             "#9c179e"
            ],
            [
             0.4444444444444444,
             "#bd3786"
            ],
            [
             0.5555555555555556,
             "#d8576b"
            ],
            [
             0.6666666666666666,
             "#ed7953"
            ],
            [
             0.7777777777777778,
             "#fb9f3a"
            ],
            [
             0.8888888888888888,
             "#fdca26"
            ],
            [
             1,
             "#f0f921"
            ]
           ]
          },
          "colorway": [
           "#636efa",
           "#EF553B",
           "#00cc96",
           "#ab63fa",
           "#FFA15A",
           "#19d3f3",
           "#FF6692",
           "#B6E880",
           "#FF97FF",
           "#FECB52"
          ],
          "font": {
           "color": "#2a3f5f"
          },
          "geo": {
           "bgcolor": "white",
           "lakecolor": "white",
           "landcolor": "#E5ECF6",
           "showlakes": true,
           "showland": true,
           "subunitcolor": "white"
          },
          "hoverlabel": {
           "align": "left"
          },
          "hovermode": "closest",
          "mapbox": {
           "style": "light"
          },
          "paper_bgcolor": "white",
          "plot_bgcolor": "#E5ECF6",
          "polar": {
           "angularaxis": {
            "gridcolor": "white",
            "linecolor": "white",
            "ticks": ""
           },
           "bgcolor": "#E5ECF6",
           "radialaxis": {
            "gridcolor": "white",
            "linecolor": "white",
            "ticks": ""
           }
          },
          "scene": {
           "xaxis": {
            "backgroundcolor": "#E5ECF6",
            "gridcolor": "white",
            "gridwidth": 2,
            "linecolor": "white",
            "showbackground": true,
            "ticks": "",
            "zerolinecolor": "white"
           },
           "yaxis": {
            "backgroundcolor": "#E5ECF6",
            "gridcolor": "white",
            "gridwidth": 2,
            "linecolor": "white",
            "showbackground": true,
            "ticks": "",
            "zerolinecolor": "white"
           },
           "zaxis": {
            "backgroundcolor": "#E5ECF6",
            "gridcolor": "white",
            "gridwidth": 2,
            "linecolor": "white",
            "showbackground": true,
            "ticks": "",
            "zerolinecolor": "white"
           }
          },
          "shapedefaults": {
           "line": {
            "color": "#2a3f5f"
           }
          },
          "ternary": {
           "aaxis": {
            "gridcolor": "white",
            "linecolor": "white",
            "ticks": ""
           },
           "baxis": {
            "gridcolor": "white",
            "linecolor": "white",
            "ticks": ""
           },
           "bgcolor": "#E5ECF6",
           "caxis": {
            "gridcolor": "white",
            "linecolor": "white",
            "ticks": ""
           }
          },
          "title": {
           "x": 0.05
          },
          "xaxis": {
           "automargin": true,
           "gridcolor": "white",
           "linecolor": "white",
           "ticks": "",
           "title": {
            "standoff": 15
           },
           "zerolinecolor": "white",
           "zerolinewidth": 2
          },
          "yaxis": {
           "automargin": true,
           "gridcolor": "white",
           "linecolor": "white",
           "ticks": "",
           "title": {
            "standoff": 15
           },
           "zerolinecolor": "white",
           "zerolinewidth": 2
          }
         }
        },
        "title": {
         "text": "Embedder : Impact of weight decay on the Minimum validation loss"
        },
        "xaxis": {
         "categoryorder": "median ascending",
         "domain": [
          0,
          1
         ],
         "title": {
          "text": "Weight decay"
         },
         "type": "category"
        },
        "yaxis": {
         "title": {
          "text": "Validation Loss Value (min)"
         }
        }
       }
      }
     },
     "metadata": {},
     "output_type": "display_data"
    }
   ],
   "source": [
    "fig = go.Figure(layout = {\n",
    "   \"xaxis\":{\n",
    "       \"domain\" : [0,1],\n",
    "       \"type\" : \"category\",\n",
    "        \"categoryorder\" : \"median ascending\",\n",
    "       \"title\" : \"Weight decay\"\n",
    "    },\n",
    "   \"yaxis\":{\"title\" : \"Validation Loss Value (min)\"},\n",
    "   \"title\" : {\"text\" : \"Embedder : Impact of weight decay on the Minimum validation loss\"},\n",
    "})\n",
    "fig.add_trace( go.Box(\n",
    "                x = results[\"model_train_embedding_weight_decay\"], \n",
    "                y = results[\"min_valid_loss\"],\n",
    "                xaxis='x',\n",
    "                name = \"Validation\"\n",
    "))\n",
    "\n",
    "fig"
   ]
  },
  {
   "cell_type": "markdown",
   "metadata": {},
   "source": [
    "### Embedding output"
   ]
  },
  {
   "cell_type": "code",
   "execution_count": 32,
   "metadata": {},
   "outputs": [
    {
     "data": {
      "application/vnd.plotly.v1+json": {
       "config": {
        "plotlyServerURL": "https://plotly.com"
       },
       "data": [
        {
         "name": "Test",
         "type": "box",
         "x": [
          "pooler_output",
          "last_hidden_state",
          "pooler_output",
          "pooler_output",
          "last_hidden_state",
          "last_hidden_state",
          "pooler_output",
          "last_hidden_state",
          "last_hidden_state",
          "pooler_output",
          "pooler_output",
          "last_hidden_state",
          "pooler_output",
          "pooler_output",
          "last_hidden_state",
          "pooler_output",
          "last_hidden_state",
          "last_hidden_state",
          "last_hidden_state",
          "last_hidden_state",
          "last_hidden_state",
          "last_hidden_state",
          "pooler_output",
          "pooler_output",
          "pooler_output",
          "pooler_output",
          "pooler_output",
          "last_hidden_state",
          "last_hidden_state",
          "pooler_output",
          "last_hidden_state",
          "last_hidden_state",
          "pooler_output",
          "pooler_output",
          "pooler_output",
          "last_hidden_state",
          "last_hidden_state",
          "pooler_output",
          "last_hidden_state",
          "last_hidden_state",
          "last_hidden_state",
          "pooler_output",
          "last_hidden_state",
          "last_hidden_state",
          "pooler_output",
          "last_hidden_state",
          "pooler_output",
          "last_hidden_state",
          "pooler_output",
          "last_hidden_state",
          "pooler_output",
          "last_hidden_state",
          "pooler_output",
          "last_hidden_state",
          "last_hidden_state",
          "last_hidden_state",
          "pooler_output",
          "last_hidden_state",
          "last_hidden_state",
          "last_hidden_state",
          "last_hidden_state",
          "pooler_output",
          "pooler_output",
          "pooler_output",
          "last_hidden_state",
          "pooler_output",
          "last_hidden_state",
          "last_hidden_state",
          "last_hidden_state",
          "last_hidden_state",
          "last_hidden_state",
          "pooler_output",
          "last_hidden_state",
          "pooler_output",
          "last_hidden_state",
          "last_hidden_state",
          "pooler_output",
          "last_hidden_state",
          "last_hidden_state",
          "last_hidden_state",
          "pooler_output",
          "pooler_output",
          "pooler_output",
          "last_hidden_state",
          "pooler_output",
          "pooler_output",
          "last_hidden_state",
          "pooler_output",
          "last_hidden_state",
          "last_hidden_state",
          "pooler_output",
          "last_hidden_state",
          "last_hidden_state",
          "last_hidden_state",
          "last_hidden_state",
          "pooler_output",
          "pooler_output",
          "last_hidden_state",
          "pooler_output",
          "last_hidden_state"
         ],
         "xaxis": "x",
         "y": [
          0.3493716931216931,
          0.4408068783068783,
          0.3698743386243386,
          0.3566468253968254,
          0.3296957671957671,
          0.4221230158730159,
          0.3379629629629629,
          0.3060515873015872,
          0.3589616402116402,
          0.4236111111111111,
          0.3753306878306878,
          0.4499007936507936,
          0.3513558201058201,
          0.3619378306878307,
          0.4019510582010581,
          0.3364748677248677,
          0.372850529100529,
          0.3088624338624338,
          0.363260582010582,
          0.3804563492063492,
          0.4135251322751323,
          0.3966702279202279,
          0.3126653439153439,
          0.3478835978835978,
          0.3649140211640211,
          0.3349867724867725,
          0.3693783068783068,
          0.3111772486772486,
          0.4378306878306878,
          0.3356481481481481,
          0.5047949735449736,
          0.3447420634920635,
          0.3277116402116402,
          0.4811507936507936,
          0.3313492063492063,
          0.3037367724867725,
          0.3151455026455026,
          0.3513558201058201,
          0.3156415343915344,
          0.3708664021164021,
          0.3477182539682539,
          0.4070767195767195,
          0.3634259259259259,
          0.382771164021164,
          0.4794973544973545,
          0.3298611111111111,
          0.3551587301587301,
          0.3171296296296296,
          0.3230820105820106,
          0.3667328042328042,
          0.3291997354497354,
          0.3455687830687831,
          0.3579695767195767,
          0.4867724867724867,
          0.3120039682539682,
          0.3366402116402116,
          0.3328373015873015,
          0.3373015873015872,
          0.4497354497354497,
          0.3581349206349206,
          0.4408068783068783,
          0.4712301587301588,
          0.3141534391534392,
          0.3268849206349206,
          0.2986111111111111,
          0.3455687830687831,
          0.326223544973545,
          0.3664021164021164,
          0.3237433862433862,
          0.3543320105820106,
          0.3291997354497354,
          0.3449074074074074,
          0.3549933862433862,
          0.3579695767195767,
          0.3817791005291005,
          0.4684193121693121,
          0.3468915343915344,
          0.3587962962962963,
          0.3290343915343915,
          0.3128306878306878,
          0.3009259259259259,
          0.3627645502645502,
          0.3120039682539682,
          0.3080357142857143,
          0.4250992063492064,
          0.3164682539682539,
          0.3634259259259259,
          0.404265873015873,
          0.3224206349206349,
          0.3568121693121693,
          0.3283730158730158,
          0.3268849206349206,
          0.4242724867724867,
          0.3649140211640211,
          0.3627645502645502,
          0.3252314814814814,
          0.2961309523809524,
          0.3209325396825396,
          0.5047949735449736,
          0.3440806878306878
         ]
        },
        {
         "name": "Validation",
         "type": "box",
         "x": [
          "pooler_output",
          "last_hidden_state",
          "pooler_output",
          "pooler_output",
          "last_hidden_state",
          "last_hidden_state",
          "pooler_output",
          "last_hidden_state",
          "last_hidden_state",
          "pooler_output",
          "pooler_output",
          "last_hidden_state",
          "pooler_output",
          "pooler_output",
          "last_hidden_state",
          "pooler_output",
          "last_hidden_state",
          "last_hidden_state",
          "last_hidden_state",
          "last_hidden_state",
          "last_hidden_state",
          "last_hidden_state",
          "pooler_output",
          "pooler_output",
          "pooler_output",
          "pooler_output",
          "pooler_output",
          "last_hidden_state",
          "last_hidden_state",
          "pooler_output",
          "last_hidden_state",
          "last_hidden_state",
          "pooler_output",
          "pooler_output",
          "pooler_output",
          "last_hidden_state",
          "last_hidden_state",
          "pooler_output",
          "last_hidden_state",
          "last_hidden_state",
          "last_hidden_state",
          "pooler_output",
          "last_hidden_state",
          "last_hidden_state",
          "pooler_output",
          "last_hidden_state",
          "pooler_output",
          "last_hidden_state",
          "pooler_output",
          "last_hidden_state",
          "pooler_output",
          "last_hidden_state",
          "pooler_output",
          "last_hidden_state",
          "last_hidden_state",
          "last_hidden_state",
          "pooler_output",
          "last_hidden_state",
          "last_hidden_state",
          "last_hidden_state",
          "last_hidden_state",
          "pooler_output",
          "pooler_output",
          "pooler_output",
          "last_hidden_state",
          "pooler_output",
          "last_hidden_state",
          "last_hidden_state",
          "last_hidden_state",
          "last_hidden_state",
          "last_hidden_state",
          "pooler_output",
          "last_hidden_state",
          "pooler_output",
          "last_hidden_state",
          "last_hidden_state",
          "pooler_output",
          "last_hidden_state",
          "last_hidden_state",
          "last_hidden_state",
          "pooler_output",
          "pooler_output",
          "pooler_output",
          "last_hidden_state",
          "pooler_output",
          "pooler_output",
          "last_hidden_state",
          "pooler_output",
          "last_hidden_state",
          "last_hidden_state",
          "pooler_output",
          "last_hidden_state",
          "last_hidden_state",
          "last_hidden_state",
          "last_hidden_state",
          "pooler_output",
          "pooler_output",
          "last_hidden_state",
          "pooler_output",
          "last_hidden_state"
         ],
         "xaxis": "x",
         "y": [
          0.4014550264550264,
          0.5168650793650793,
          0.4007936507936507,
          0.3900076625281137,
          0.3692129629629629,
          0.457010582010582,
          0.398478835978836,
          0.3544513334680146,
          0.341992266992267,
          0.3857473544973545,
          0.4267526455026454,
          0.4735449735449735,
          0.3275055962555963,
          0.436083338188422,
          0.4332010582010581,
          0.4150132275132275,
          0.4159925722425722,
          0.3604497354497354,
          0.3692892629875062,
          0.4208002645502645,
          0.4469246031746031,
          0.3587962962962963,
          0.3678308079427483,
          0.3991402116402116,
          0.4161706349206349,
          0.4194775132275132,
          0.4012352235429958,
          0.3943783068783069,
          0.4436177248677248,
          0.3707010582010582,
          0.5302579365079365,
          0.404265873015873,
          0.3944012006512006,
          0.4580026455026454,
          0.4577091849436588,
          0.3696688779711167,
          0.3793549043549044,
          0.5179922249150847,
          0.3969907407407407,
          0.3576388888888889,
          0.3432171028253117,
          0.4631283068783068,
          0.3581349206349206,
          0.4603174603174603,
          0.5115740740740741,
          0.3743386243386243,
          0.4264219576719577,
          0.3312126491920115,
          0.3329263329263329,
          0.3686816446932109,
          0.398478835978836,
          0.3940145502645502,
          0.3828731453731453,
          0.5281084656084657,
          0.37880291005291,
          0.5006061742282215,
          0.3759920634920635,
          0.3713624338624338,
          0.5026455026455027,
          0.3543931526879223,
          0.4892526455026454,
          0.4533730158730159,
          0.4029431216931217,
          0.3700396825396825,
          0.386986161986162,
          0.3340163101960451,
          0.3410766679423395,
          0.3743386243386243,
          0.3759569721323452,
          0.3745039682539682,
          0.3625992063492063,
          0.4272890147056216,
          0.3915343915343915,
          0.4429563492063492,
          0.4131562881562881,
          0.4920634920634921,
          0.3713624338624338,
          0.3625992063492063,
          0.3687881562881563,
          0.3968253968253968,
          0.4177185494827626,
          0.3640873015873015,
          0.434276261319009,
          0.3618796773402036,
          0.4781746031746031,
          0.3655753968253968,
          0.3758267195767195,
          0.4556878306878307,
          0.4683958947244925,
          0.3857473544973545,
          0.3415905594661151,
          0.4109101546601546,
          0.4794973544973545,
          0.394510582010582,
          0.4310515873015873,
          0.418761238524781,
          0.4095550011441061,
          0.3640873015873015,
          0.5191798941798942,
          0.3572903947903948
         ]
        }
       ],
       "layout": {
        "template": {
         "data": {
          "bar": [
           {
            "error_x": {
             "color": "#2a3f5f"
            },
            "error_y": {
             "color": "#2a3f5f"
            },
            "marker": {
             "line": {
              "color": "#E5ECF6",
              "width": 0.5
             },
             "pattern": {
              "fillmode": "overlay",
              "size": 10,
              "solidity": 0.2
             }
            },
            "type": "bar"
           }
          ],
          "barpolar": [
           {
            "marker": {
             "line": {
              "color": "#E5ECF6",
              "width": 0.5
             },
             "pattern": {
              "fillmode": "overlay",
              "size": 10,
              "solidity": 0.2
             }
            },
            "type": "barpolar"
           }
          ],
          "carpet": [
           {
            "aaxis": {
             "endlinecolor": "#2a3f5f",
             "gridcolor": "white",
             "linecolor": "white",
             "minorgridcolor": "white",
             "startlinecolor": "#2a3f5f"
            },
            "baxis": {
             "endlinecolor": "#2a3f5f",
             "gridcolor": "white",
             "linecolor": "white",
             "minorgridcolor": "white",
             "startlinecolor": "#2a3f5f"
            },
            "type": "carpet"
           }
          ],
          "choropleth": [
           {
            "colorbar": {
             "outlinewidth": 0,
             "ticks": ""
            },
            "type": "choropleth"
           }
          ],
          "contour": [
           {
            "colorbar": {
             "outlinewidth": 0,
             "ticks": ""
            },
            "colorscale": [
             [
              0,
              "#0d0887"
             ],
             [
              0.1111111111111111,
              "#46039f"
             ],
             [
              0.2222222222222222,
              "#7201a8"
             ],
             [
              0.3333333333333333,
              "#9c179e"
             ],
             [
              0.4444444444444444,
              "#bd3786"
             ],
             [
              0.5555555555555556,
              "#d8576b"
             ],
             [
              0.6666666666666666,
              "#ed7953"
             ],
             [
              0.7777777777777778,
              "#fb9f3a"
             ],
             [
              0.8888888888888888,
              "#fdca26"
             ],
             [
              1,
              "#f0f921"
             ]
            ],
            "type": "contour"
           }
          ],
          "contourcarpet": [
           {
            "colorbar": {
             "outlinewidth": 0,
             "ticks": ""
            },
            "type": "contourcarpet"
           }
          ],
          "heatmap": [
           {
            "colorbar": {
             "outlinewidth": 0,
             "ticks": ""
            },
            "colorscale": [
             [
              0,
              "#0d0887"
             ],
             [
              0.1111111111111111,
              "#46039f"
             ],
             [
              0.2222222222222222,
              "#7201a8"
             ],
             [
              0.3333333333333333,
              "#9c179e"
             ],
             [
              0.4444444444444444,
              "#bd3786"
             ],
             [
              0.5555555555555556,
              "#d8576b"
             ],
             [
              0.6666666666666666,
              "#ed7953"
             ],
             [
              0.7777777777777778,
              "#fb9f3a"
             ],
             [
              0.8888888888888888,
              "#fdca26"
             ],
             [
              1,
              "#f0f921"
             ]
            ],
            "type": "heatmap"
           }
          ],
          "heatmapgl": [
           {
            "colorbar": {
             "outlinewidth": 0,
             "ticks": ""
            },
            "colorscale": [
             [
              0,
              "#0d0887"
             ],
             [
              0.1111111111111111,
              "#46039f"
             ],
             [
              0.2222222222222222,
              "#7201a8"
             ],
             [
              0.3333333333333333,
              "#9c179e"
             ],
             [
              0.4444444444444444,
              "#bd3786"
             ],
             [
              0.5555555555555556,
              "#d8576b"
             ],
             [
              0.6666666666666666,
              "#ed7953"
             ],
             [
              0.7777777777777778,
              "#fb9f3a"
             ],
             [
              0.8888888888888888,
              "#fdca26"
             ],
             [
              1,
              "#f0f921"
             ]
            ],
            "type": "heatmapgl"
           }
          ],
          "histogram": [
           {
            "marker": {
             "pattern": {
              "fillmode": "overlay",
              "size": 10,
              "solidity": 0.2
             }
            },
            "type": "histogram"
           }
          ],
          "histogram2d": [
           {
            "colorbar": {
             "outlinewidth": 0,
             "ticks": ""
            },
            "colorscale": [
             [
              0,
              "#0d0887"
             ],
             [
              0.1111111111111111,
              "#46039f"
             ],
             [
              0.2222222222222222,
              "#7201a8"
             ],
             [
              0.3333333333333333,
              "#9c179e"
             ],
             [
              0.4444444444444444,
              "#bd3786"
             ],
             [
              0.5555555555555556,
              "#d8576b"
             ],
             [
              0.6666666666666666,
              "#ed7953"
             ],
             [
              0.7777777777777778,
              "#fb9f3a"
             ],
             [
              0.8888888888888888,
              "#fdca26"
             ],
             [
              1,
              "#f0f921"
             ]
            ],
            "type": "histogram2d"
           }
          ],
          "histogram2dcontour": [
           {
            "colorbar": {
             "outlinewidth": 0,
             "ticks": ""
            },
            "colorscale": [
             [
              0,
              "#0d0887"
             ],
             [
              0.1111111111111111,
              "#46039f"
             ],
             [
              0.2222222222222222,
              "#7201a8"
             ],
             [
              0.3333333333333333,
              "#9c179e"
             ],
             [
              0.4444444444444444,
              "#bd3786"
             ],
             [
              0.5555555555555556,
              "#d8576b"
             ],
             [
              0.6666666666666666,
              "#ed7953"
             ],
             [
              0.7777777777777778,
              "#fb9f3a"
             ],
             [
              0.8888888888888888,
              "#fdca26"
             ],
             [
              1,
              "#f0f921"
             ]
            ],
            "type": "histogram2dcontour"
           }
          ],
          "mesh3d": [
           {
            "colorbar": {
             "outlinewidth": 0,
             "ticks": ""
            },
            "type": "mesh3d"
           }
          ],
          "parcoords": [
           {
            "line": {
             "colorbar": {
              "outlinewidth": 0,
              "ticks": ""
             }
            },
            "type": "parcoords"
           }
          ],
          "pie": [
           {
            "automargin": true,
            "type": "pie"
           }
          ],
          "scatter": [
           {
            "fillpattern": {
             "fillmode": "overlay",
             "size": 10,
             "solidity": 0.2
            },
            "type": "scatter"
           }
          ],
          "scatter3d": [
           {
            "line": {
             "colorbar": {
              "outlinewidth": 0,
              "ticks": ""
             }
            },
            "marker": {
             "colorbar": {
              "outlinewidth": 0,
              "ticks": ""
             }
            },
            "type": "scatter3d"
           }
          ],
          "scattercarpet": [
           {
            "marker": {
             "colorbar": {
              "outlinewidth": 0,
              "ticks": ""
             }
            },
            "type": "scattercarpet"
           }
          ],
          "scattergeo": [
           {
            "marker": {
             "colorbar": {
              "outlinewidth": 0,
              "ticks": ""
             }
            },
            "type": "scattergeo"
           }
          ],
          "scattergl": [
           {
            "marker": {
             "colorbar": {
              "outlinewidth": 0,
              "ticks": ""
             }
            },
            "type": "scattergl"
           }
          ],
          "scattermapbox": [
           {
            "marker": {
             "colorbar": {
              "outlinewidth": 0,
              "ticks": ""
             }
            },
            "type": "scattermapbox"
           }
          ],
          "scatterpolar": [
           {
            "marker": {
             "colorbar": {
              "outlinewidth": 0,
              "ticks": ""
             }
            },
            "type": "scatterpolar"
           }
          ],
          "scatterpolargl": [
           {
            "marker": {
             "colorbar": {
              "outlinewidth": 0,
              "ticks": ""
             }
            },
            "type": "scatterpolargl"
           }
          ],
          "scatterternary": [
           {
            "marker": {
             "colorbar": {
              "outlinewidth": 0,
              "ticks": ""
             }
            },
            "type": "scatterternary"
           }
          ],
          "surface": [
           {
            "colorbar": {
             "outlinewidth": 0,
             "ticks": ""
            },
            "colorscale": [
             [
              0,
              "#0d0887"
             ],
             [
              0.1111111111111111,
              "#46039f"
             ],
             [
              0.2222222222222222,
              "#7201a8"
             ],
             [
              0.3333333333333333,
              "#9c179e"
             ],
             [
              0.4444444444444444,
              "#bd3786"
             ],
             [
              0.5555555555555556,
              "#d8576b"
             ],
             [
              0.6666666666666666,
              "#ed7953"
             ],
             [
              0.7777777777777778,
              "#fb9f3a"
             ],
             [
              0.8888888888888888,
              "#fdca26"
             ],
             [
              1,
              "#f0f921"
             ]
            ],
            "type": "surface"
           }
          ],
          "table": [
           {
            "cells": {
             "fill": {
              "color": "#EBF0F8"
             },
             "line": {
              "color": "white"
             }
            },
            "header": {
             "fill": {
              "color": "#C8D4E3"
             },
             "line": {
              "color": "white"
             }
            },
            "type": "table"
           }
          ]
         },
         "layout": {
          "annotationdefaults": {
           "arrowcolor": "#2a3f5f",
           "arrowhead": 0,
           "arrowwidth": 1
          },
          "autotypenumbers": "strict",
          "coloraxis": {
           "colorbar": {
            "outlinewidth": 0,
            "ticks": ""
           }
          },
          "colorscale": {
           "diverging": [
            [
             0,
             "#8e0152"
            ],
            [
             0.1,
             "#c51b7d"
            ],
            [
             0.2,
             "#de77ae"
            ],
            [
             0.3,
             "#f1b6da"
            ],
            [
             0.4,
             "#fde0ef"
            ],
            [
             0.5,
             "#f7f7f7"
            ],
            [
             0.6,
             "#e6f5d0"
            ],
            [
             0.7,
             "#b8e186"
            ],
            [
             0.8,
             "#7fbc41"
            ],
            [
             0.9,
             "#4d9221"
            ],
            [
             1,
             "#276419"
            ]
           ],
           "sequential": [
            [
             0,
             "#0d0887"
            ],
            [
             0.1111111111111111,
             "#46039f"
            ],
            [
             0.2222222222222222,
             "#7201a8"
            ],
            [
             0.3333333333333333,
             "#9c179e"
            ],
            [
             0.4444444444444444,
             "#bd3786"
            ],
            [
             0.5555555555555556,
             "#d8576b"
            ],
            [
             0.6666666666666666,
             "#ed7953"
            ],
            [
             0.7777777777777778,
             "#fb9f3a"
            ],
            [
             0.8888888888888888,
             "#fdca26"
            ],
            [
             1,
             "#f0f921"
            ]
           ],
           "sequentialminus": [
            [
             0,
             "#0d0887"
            ],
            [
             0.1111111111111111,
             "#46039f"
            ],
            [
             0.2222222222222222,
             "#7201a8"
            ],
            [
             0.3333333333333333,
             "#9c179e"
            ],
            [
             0.4444444444444444,
             "#bd3786"
            ],
            [
             0.5555555555555556,
             "#d8576b"
            ],
            [
             0.6666666666666666,
             "#ed7953"
            ],
            [
             0.7777777777777778,
             "#fb9f3a"
            ],
            [
             0.8888888888888888,
             "#fdca26"
            ],
            [
             1,
             "#f0f921"
            ]
           ]
          },
          "colorway": [
           "#636efa",
           "#EF553B",
           "#00cc96",
           "#ab63fa",
           "#FFA15A",
           "#19d3f3",
           "#FF6692",
           "#B6E880",
           "#FF97FF",
           "#FECB52"
          ],
          "font": {
           "color": "#2a3f5f"
          },
          "geo": {
           "bgcolor": "white",
           "lakecolor": "white",
           "landcolor": "#E5ECF6",
           "showlakes": true,
           "showland": true,
           "subunitcolor": "white"
          },
          "hoverlabel": {
           "align": "left"
          },
          "hovermode": "closest",
          "mapbox": {
           "style": "light"
          },
          "paper_bgcolor": "white",
          "plot_bgcolor": "#E5ECF6",
          "polar": {
           "angularaxis": {
            "gridcolor": "white",
            "linecolor": "white",
            "ticks": ""
           },
           "bgcolor": "#E5ECF6",
           "radialaxis": {
            "gridcolor": "white",
            "linecolor": "white",
            "ticks": ""
           }
          },
          "scene": {
           "xaxis": {
            "backgroundcolor": "#E5ECF6",
            "gridcolor": "white",
            "gridwidth": 2,
            "linecolor": "white",
            "showbackground": true,
            "ticks": "",
            "zerolinecolor": "white"
           },
           "yaxis": {
            "backgroundcolor": "#E5ECF6",
            "gridcolor": "white",
            "gridwidth": 2,
            "linecolor": "white",
            "showbackground": true,
            "ticks": "",
            "zerolinecolor": "white"
           },
           "zaxis": {
            "backgroundcolor": "#E5ECF6",
            "gridcolor": "white",
            "gridwidth": 2,
            "linecolor": "white",
            "showbackground": true,
            "ticks": "",
            "zerolinecolor": "white"
           }
          },
          "shapedefaults": {
           "line": {
            "color": "#2a3f5f"
           }
          },
          "ternary": {
           "aaxis": {
            "gridcolor": "white",
            "linecolor": "white",
            "ticks": ""
           },
           "baxis": {
            "gridcolor": "white",
            "linecolor": "white",
            "ticks": ""
           },
           "bgcolor": "#E5ECF6",
           "caxis": {
            "gridcolor": "white",
            "linecolor": "white",
            "ticks": ""
           }
          },
          "title": {
           "x": 0.05
          },
          "xaxis": {
           "automargin": true,
           "gridcolor": "white",
           "linecolor": "white",
           "ticks": "",
           "title": {
            "standoff": 15
           },
           "zerolinecolor": "white",
           "zerolinewidth": 2
          },
          "yaxis": {
           "automargin": true,
           "gridcolor": "white",
           "linecolor": "white",
           "ticks": "",
           "title": {
            "standoff": 15
           },
           "zerolinecolor": "white",
           "zerolinewidth": 2
          }
         }
        },
        "title": {
         "text": "Embedder : Impact of embedding output on the F1-score"
        },
        "xaxis": {
         "domain": [
          0,
          1
         ],
         "title": {
          "text": "Embedding ouptut"
         },
         "type": "category"
        },
        "yaxis": {
         "title": {
          "text": "F1-Score (max)"
         }
        }
       }
      }
     },
     "metadata": {},
     "output_type": "display_data"
    }
   ],
   "source": [
    "fig = go.Figure(layout = {\n",
    "   \"xaxis\":{\n",
    "       \"domain\" : [0,1],\n",
    "       \"type\" : \"category\",\n",
    "      #   \"categoryorder\" : \"median ascending\",\n",
    "       \"title\" : \"Embedding ouptut\"\n",
    "    },\n",
    "   \"yaxis\":{\"title\" : \"F1-Score (max)\"},\n",
    "   \"title\" : {\"text\" : \"Embedder : Impact of embedding output on the F1-score\"},\n",
    "})\n",
    "fig.add_trace( go.Box(\n",
    "                x = results[\"embeddingmodel_output\"], \n",
    "                y = results[\"test_f1_max\"],\n",
    "                xaxis='x',\n",
    "                name = \"Test\"\n",
    "))\n",
    "fig.add_trace( go.Box(\n",
    "                x = results[\"embeddingmodel_output\"], \n",
    "                y = results[\"valid_f1_max\"],\n",
    "                xaxis='x',\n",
    "                name = \"Validation\"\n",
    "))\n",
    "\n",
    "# fig.add_trace( go.Box(\n",
    "#                 x = results[\"model_train_classifier_learning_rate\"], \n",
    "#                 y = results[\"train_f1_max\"],\n",
    "#                 xaxis='x',\n",
    "#                 name = \"Train\"\n",
    "# ))\n",
    "fig"
   ]
  },
  {
   "cell_type": "code",
   "execution_count": 33,
   "metadata": {},
   "outputs": [
    {
     "data": {
      "application/vnd.plotly.v1+json": {
       "config": {
        "plotlyServerURL": "https://plotly.com"
       },
       "data": [
        {
         "name": "Validation",
         "type": "box",
         "x": [
          "pooler_output",
          "last_hidden_state",
          "pooler_output",
          "pooler_output",
          "last_hidden_state",
          "last_hidden_state",
          "pooler_output",
          "last_hidden_state",
          "last_hidden_state",
          "pooler_output",
          "pooler_output",
          "last_hidden_state",
          "pooler_output",
          "pooler_output",
          "last_hidden_state",
          "pooler_output",
          "last_hidden_state",
          "last_hidden_state",
          "last_hidden_state",
          "last_hidden_state",
          "last_hidden_state",
          "last_hidden_state",
          "pooler_output",
          "pooler_output",
          "pooler_output",
          "pooler_output",
          "pooler_output",
          "last_hidden_state",
          "last_hidden_state",
          "pooler_output",
          "last_hidden_state",
          "last_hidden_state",
          "pooler_output",
          "pooler_output",
          "pooler_output",
          "last_hidden_state",
          "last_hidden_state",
          "pooler_output",
          "last_hidden_state",
          "last_hidden_state",
          "last_hidden_state",
          "pooler_output",
          "last_hidden_state",
          "last_hidden_state",
          "pooler_output",
          "last_hidden_state",
          "pooler_output",
          "last_hidden_state",
          "pooler_output",
          "last_hidden_state",
          "pooler_output",
          "last_hidden_state",
          "pooler_output",
          "last_hidden_state",
          "last_hidden_state",
          "last_hidden_state",
          "pooler_output",
          "last_hidden_state",
          "last_hidden_state",
          "last_hidden_state",
          "last_hidden_state",
          "pooler_output",
          "pooler_output",
          "pooler_output",
          "last_hidden_state",
          "pooler_output",
          "last_hidden_state",
          "last_hidden_state",
          "last_hidden_state",
          "last_hidden_state",
          "last_hidden_state",
          "pooler_output",
          "last_hidden_state",
          "pooler_output",
          "last_hidden_state",
          "last_hidden_state",
          "pooler_output",
          "last_hidden_state",
          "last_hidden_state",
          "last_hidden_state",
          "pooler_output",
          "pooler_output",
          "pooler_output",
          "last_hidden_state",
          "pooler_output",
          "pooler_output",
          "last_hidden_state",
          "pooler_output",
          "last_hidden_state",
          "last_hidden_state",
          "pooler_output",
          "last_hidden_state",
          "last_hidden_state",
          "last_hidden_state",
          "last_hidden_state",
          "pooler_output",
          "pooler_output",
          "last_hidden_state",
          "pooler_output",
          "last_hidden_state"
         ],
         "xaxis": "x",
         "y": [
          1.0352147817611694,
          0.6887269616127014,
          1.066637396812439,
          1.0661628246307373,
          1.0651251077651978,
          0.8039402365684509,
          1.0717341899871826,
          1.066861271858215,
          1.0455080270767212,
          0.821679413318634,
          1.0626591444015503,
          0.8122887015342712,
          1.0213865041732788,
          1.0585943460464478,
          0.7933505773544312,
          1.0696583986282349,
          1.031765103340149,
          1.0549064874649048,
          1.03055739402771,
          1.0602622032165527,
          0.8512014150619507,
          1.064799427986145,
          1.0180034637451172,
          1.0706946849822998,
          1.0580310821533203,
          1.0694422721862793,
          0.9165627360343932,
          1.0079460144042969,
          0.8349443078041077,
          1.0698273181915283,
          0.0523035451769828,
          1.0683259963989258,
          1.057709813117981,
          0.7966796159744263,
          1.078587770462036,
          1.053215742111206,
          1.067436933517456,
          0.9644045829772948,
          1.0735267400741575,
          1.0646313428878784,
          1.0611244440078735,
          0.8207481503486633,
          1.0206546783447266,
          1.0436195135116575,
          0.2619799673557281,
          1.0706987380981443,
          0.9275727272033693,
          1.0509308576583862,
          0.8762260675430298,
          1.0381808280944824,
          1.0698076486587524,
          1.057908535003662,
          0.8997688889503479,
          0.0677533894777298,
          1.0743403434753418,
          0.9254392385482788,
          0.927806317806244,
          1.0661766529083252,
          0.7629184722900391,
          0.8958649635314941,
          0.7101210355758667,
          0.7903373837471008,
          1.057939887046814,
          1.074691891670227,
          1.030940055847168,
          1.0657740831375122,
          1.042151927947998,
          1.0607199668884275,
          1.010875582695007,
          1.0323222875595093,
          0.9840835332870485,
          1.0588154792785645,
          1.0199815034866333,
          1.053195595741272,
          1.0797394514083862,
          0.7433096170425415,
          1.0392982959747314,
          1.0546326637268066,
          1.066211819648743,
          1.0483248233795166,
          1.0625158548355105,
          1.0711138248443604,
          1.0638387203216553,
          1.072215914726257,
          0.7799303531646729,
          1.0233423709869385,
          1.0539995431900024,
          0.907995104789734,
          1.064211130142212,
          1.0560568571090698,
          1.0555901527404783,
          1.0282855033874512,
          0.8165072202682495,
          1.0432708263397217,
          1.0224205255508425,
          1.0645710229873655,
          1.0730783939361572,
          1.061910629272461,
          0.3066696524620056,
          0.9296233654022216
         ]
        }
       ],
       "layout": {
        "template": {
         "data": {
          "bar": [
           {
            "error_x": {
             "color": "#2a3f5f"
            },
            "error_y": {
             "color": "#2a3f5f"
            },
            "marker": {
             "line": {
              "color": "#E5ECF6",
              "width": 0.5
             },
             "pattern": {
              "fillmode": "overlay",
              "size": 10,
              "solidity": 0.2
             }
            },
            "type": "bar"
           }
          ],
          "barpolar": [
           {
            "marker": {
             "line": {
              "color": "#E5ECF6",
              "width": 0.5
             },
             "pattern": {
              "fillmode": "overlay",
              "size": 10,
              "solidity": 0.2
             }
            },
            "type": "barpolar"
           }
          ],
          "carpet": [
           {
            "aaxis": {
             "endlinecolor": "#2a3f5f",
             "gridcolor": "white",
             "linecolor": "white",
             "minorgridcolor": "white",
             "startlinecolor": "#2a3f5f"
            },
            "baxis": {
             "endlinecolor": "#2a3f5f",
             "gridcolor": "white",
             "linecolor": "white",
             "minorgridcolor": "white",
             "startlinecolor": "#2a3f5f"
            },
            "type": "carpet"
           }
          ],
          "choropleth": [
           {
            "colorbar": {
             "outlinewidth": 0,
             "ticks": ""
            },
            "type": "choropleth"
           }
          ],
          "contour": [
           {
            "colorbar": {
             "outlinewidth": 0,
             "ticks": ""
            },
            "colorscale": [
             [
              0,
              "#0d0887"
             ],
             [
              0.1111111111111111,
              "#46039f"
             ],
             [
              0.2222222222222222,
              "#7201a8"
             ],
             [
              0.3333333333333333,
              "#9c179e"
             ],
             [
              0.4444444444444444,
              "#bd3786"
             ],
             [
              0.5555555555555556,
              "#d8576b"
             ],
             [
              0.6666666666666666,
              "#ed7953"
             ],
             [
              0.7777777777777778,
              "#fb9f3a"
             ],
             [
              0.8888888888888888,
              "#fdca26"
             ],
             [
              1,
              "#f0f921"
             ]
            ],
            "type": "contour"
           }
          ],
          "contourcarpet": [
           {
            "colorbar": {
             "outlinewidth": 0,
             "ticks": ""
            },
            "type": "contourcarpet"
           }
          ],
          "heatmap": [
           {
            "colorbar": {
             "outlinewidth": 0,
             "ticks": ""
            },
            "colorscale": [
             [
              0,
              "#0d0887"
             ],
             [
              0.1111111111111111,
              "#46039f"
             ],
             [
              0.2222222222222222,
              "#7201a8"
             ],
             [
              0.3333333333333333,
              "#9c179e"
             ],
             [
              0.4444444444444444,
              "#bd3786"
             ],
             [
              0.5555555555555556,
              "#d8576b"
             ],
             [
              0.6666666666666666,
              "#ed7953"
             ],
             [
              0.7777777777777778,
              "#fb9f3a"
             ],
             [
              0.8888888888888888,
              "#fdca26"
             ],
             [
              1,
              "#f0f921"
             ]
            ],
            "type": "heatmap"
           }
          ],
          "heatmapgl": [
           {
            "colorbar": {
             "outlinewidth": 0,
             "ticks": ""
            },
            "colorscale": [
             [
              0,
              "#0d0887"
             ],
             [
              0.1111111111111111,
              "#46039f"
             ],
             [
              0.2222222222222222,
              "#7201a8"
             ],
             [
              0.3333333333333333,
              "#9c179e"
             ],
             [
              0.4444444444444444,
              "#bd3786"
             ],
             [
              0.5555555555555556,
              "#d8576b"
             ],
             [
              0.6666666666666666,
              "#ed7953"
             ],
             [
              0.7777777777777778,
              "#fb9f3a"
             ],
             [
              0.8888888888888888,
              "#fdca26"
             ],
             [
              1,
              "#f0f921"
             ]
            ],
            "type": "heatmapgl"
           }
          ],
          "histogram": [
           {
            "marker": {
             "pattern": {
              "fillmode": "overlay",
              "size": 10,
              "solidity": 0.2
             }
            },
            "type": "histogram"
           }
          ],
          "histogram2d": [
           {
            "colorbar": {
             "outlinewidth": 0,
             "ticks": ""
            },
            "colorscale": [
             [
              0,
              "#0d0887"
             ],
             [
              0.1111111111111111,
              "#46039f"
             ],
             [
              0.2222222222222222,
              "#7201a8"
             ],
             [
              0.3333333333333333,
              "#9c179e"
             ],
             [
              0.4444444444444444,
              "#bd3786"
             ],
             [
              0.5555555555555556,
              "#d8576b"
             ],
             [
              0.6666666666666666,
              "#ed7953"
             ],
             [
              0.7777777777777778,
              "#fb9f3a"
             ],
             [
              0.8888888888888888,
              "#fdca26"
             ],
             [
              1,
              "#f0f921"
             ]
            ],
            "type": "histogram2d"
           }
          ],
          "histogram2dcontour": [
           {
            "colorbar": {
             "outlinewidth": 0,
             "ticks": ""
            },
            "colorscale": [
             [
              0,
              "#0d0887"
             ],
             [
              0.1111111111111111,
              "#46039f"
             ],
             [
              0.2222222222222222,
              "#7201a8"
             ],
             [
              0.3333333333333333,
              "#9c179e"
             ],
             [
              0.4444444444444444,
              "#bd3786"
             ],
             [
              0.5555555555555556,
              "#d8576b"
             ],
             [
              0.6666666666666666,
              "#ed7953"
             ],
             [
              0.7777777777777778,
              "#fb9f3a"
             ],
             [
              0.8888888888888888,
              "#fdca26"
             ],
             [
              1,
              "#f0f921"
             ]
            ],
            "type": "histogram2dcontour"
           }
          ],
          "mesh3d": [
           {
            "colorbar": {
             "outlinewidth": 0,
             "ticks": ""
            },
            "type": "mesh3d"
           }
          ],
          "parcoords": [
           {
            "line": {
             "colorbar": {
              "outlinewidth": 0,
              "ticks": ""
             }
            },
            "type": "parcoords"
           }
          ],
          "pie": [
           {
            "automargin": true,
            "type": "pie"
           }
          ],
          "scatter": [
           {
            "fillpattern": {
             "fillmode": "overlay",
             "size": 10,
             "solidity": 0.2
            },
            "type": "scatter"
           }
          ],
          "scatter3d": [
           {
            "line": {
             "colorbar": {
              "outlinewidth": 0,
              "ticks": ""
             }
            },
            "marker": {
             "colorbar": {
              "outlinewidth": 0,
              "ticks": ""
             }
            },
            "type": "scatter3d"
           }
          ],
          "scattercarpet": [
           {
            "marker": {
             "colorbar": {
              "outlinewidth": 0,
              "ticks": ""
             }
            },
            "type": "scattercarpet"
           }
          ],
          "scattergeo": [
           {
            "marker": {
             "colorbar": {
              "outlinewidth": 0,
              "ticks": ""
             }
            },
            "type": "scattergeo"
           }
          ],
          "scattergl": [
           {
            "marker": {
             "colorbar": {
              "outlinewidth": 0,
              "ticks": ""
             }
            },
            "type": "scattergl"
           }
          ],
          "scattermapbox": [
           {
            "marker": {
             "colorbar": {
              "outlinewidth": 0,
              "ticks": ""
             }
            },
            "type": "scattermapbox"
           }
          ],
          "scatterpolar": [
           {
            "marker": {
             "colorbar": {
              "outlinewidth": 0,
              "ticks": ""
             }
            },
            "type": "scatterpolar"
           }
          ],
          "scatterpolargl": [
           {
            "marker": {
             "colorbar": {
              "outlinewidth": 0,
              "ticks": ""
             }
            },
            "type": "scatterpolargl"
           }
          ],
          "scatterternary": [
           {
            "marker": {
             "colorbar": {
              "outlinewidth": 0,
              "ticks": ""
             }
            },
            "type": "scatterternary"
           }
          ],
          "surface": [
           {
            "colorbar": {
             "outlinewidth": 0,
             "ticks": ""
            },
            "colorscale": [
             [
              0,
              "#0d0887"
             ],
             [
              0.1111111111111111,
              "#46039f"
             ],
             [
              0.2222222222222222,
              "#7201a8"
             ],
             [
              0.3333333333333333,
              "#9c179e"
             ],
             [
              0.4444444444444444,
              "#bd3786"
             ],
             [
              0.5555555555555556,
              "#d8576b"
             ],
             [
              0.6666666666666666,
              "#ed7953"
             ],
             [
              0.7777777777777778,
              "#fb9f3a"
             ],
             [
              0.8888888888888888,
              "#fdca26"
             ],
             [
              1,
              "#f0f921"
             ]
            ],
            "type": "surface"
           }
          ],
          "table": [
           {
            "cells": {
             "fill": {
              "color": "#EBF0F8"
             },
             "line": {
              "color": "white"
             }
            },
            "header": {
             "fill": {
              "color": "#C8D4E3"
             },
             "line": {
              "color": "white"
             }
            },
            "type": "table"
           }
          ]
         },
         "layout": {
          "annotationdefaults": {
           "arrowcolor": "#2a3f5f",
           "arrowhead": 0,
           "arrowwidth": 1
          },
          "autotypenumbers": "strict",
          "coloraxis": {
           "colorbar": {
            "outlinewidth": 0,
            "ticks": ""
           }
          },
          "colorscale": {
           "diverging": [
            [
             0,
             "#8e0152"
            ],
            [
             0.1,
             "#c51b7d"
            ],
            [
             0.2,
             "#de77ae"
            ],
            [
             0.3,
             "#f1b6da"
            ],
            [
             0.4,
             "#fde0ef"
            ],
            [
             0.5,
             "#f7f7f7"
            ],
            [
             0.6,
             "#e6f5d0"
            ],
            [
             0.7,
             "#b8e186"
            ],
            [
             0.8,
             "#7fbc41"
            ],
            [
             0.9,
             "#4d9221"
            ],
            [
             1,
             "#276419"
            ]
           ],
           "sequential": [
            [
             0,
             "#0d0887"
            ],
            [
             0.1111111111111111,
             "#46039f"
            ],
            [
             0.2222222222222222,
             "#7201a8"
            ],
            [
             0.3333333333333333,
             "#9c179e"
            ],
            [
             0.4444444444444444,
             "#bd3786"
            ],
            [
             0.5555555555555556,
             "#d8576b"
            ],
            [
             0.6666666666666666,
             "#ed7953"
            ],
            [
             0.7777777777777778,
             "#fb9f3a"
            ],
            [
             0.8888888888888888,
             "#fdca26"
            ],
            [
             1,
             "#f0f921"
            ]
           ],
           "sequentialminus": [
            [
             0,
             "#0d0887"
            ],
            [
             0.1111111111111111,
             "#46039f"
            ],
            [
             0.2222222222222222,
             "#7201a8"
            ],
            [
             0.3333333333333333,
             "#9c179e"
            ],
            [
             0.4444444444444444,
             "#bd3786"
            ],
            [
             0.5555555555555556,
             "#d8576b"
            ],
            [
             0.6666666666666666,
             "#ed7953"
            ],
            [
             0.7777777777777778,
             "#fb9f3a"
            ],
            [
             0.8888888888888888,
             "#fdca26"
            ],
            [
             1,
             "#f0f921"
            ]
           ]
          },
          "colorway": [
           "#636efa",
           "#EF553B",
           "#00cc96",
           "#ab63fa",
           "#FFA15A",
           "#19d3f3",
           "#FF6692",
           "#B6E880",
           "#FF97FF",
           "#FECB52"
          ],
          "font": {
           "color": "#2a3f5f"
          },
          "geo": {
           "bgcolor": "white",
           "lakecolor": "white",
           "landcolor": "#E5ECF6",
           "showlakes": true,
           "showland": true,
           "subunitcolor": "white"
          },
          "hoverlabel": {
           "align": "left"
          },
          "hovermode": "closest",
          "mapbox": {
           "style": "light"
          },
          "paper_bgcolor": "white",
          "plot_bgcolor": "#E5ECF6",
          "polar": {
           "angularaxis": {
            "gridcolor": "white",
            "linecolor": "white",
            "ticks": ""
           },
           "bgcolor": "#E5ECF6",
           "radialaxis": {
            "gridcolor": "white",
            "linecolor": "white",
            "ticks": ""
           }
          },
          "scene": {
           "xaxis": {
            "backgroundcolor": "#E5ECF6",
            "gridcolor": "white",
            "gridwidth": 2,
            "linecolor": "white",
            "showbackground": true,
            "ticks": "",
            "zerolinecolor": "white"
           },
           "yaxis": {
            "backgroundcolor": "#E5ECF6",
            "gridcolor": "white",
            "gridwidth": 2,
            "linecolor": "white",
            "showbackground": true,
            "ticks": "",
            "zerolinecolor": "white"
           },
           "zaxis": {
            "backgroundcolor": "#E5ECF6",
            "gridcolor": "white",
            "gridwidth": 2,
            "linecolor": "white",
            "showbackground": true,
            "ticks": "",
            "zerolinecolor": "white"
           }
          },
          "shapedefaults": {
           "line": {
            "color": "#2a3f5f"
           }
          },
          "ternary": {
           "aaxis": {
            "gridcolor": "white",
            "linecolor": "white",
            "ticks": ""
           },
           "baxis": {
            "gridcolor": "white",
            "linecolor": "white",
            "ticks": ""
           },
           "bgcolor": "#E5ECF6",
           "caxis": {
            "gridcolor": "white",
            "linecolor": "white",
            "ticks": ""
           }
          },
          "title": {
           "x": 0.05
          },
          "xaxis": {
           "automargin": true,
           "gridcolor": "white",
           "linecolor": "white",
           "ticks": "",
           "title": {
            "standoff": 15
           },
           "zerolinecolor": "white",
           "zerolinewidth": 2
          },
          "yaxis": {
           "automargin": true,
           "gridcolor": "white",
           "linecolor": "white",
           "ticks": "",
           "title": {
            "standoff": 15
           },
           "zerolinecolor": "white",
           "zerolinewidth": 2
          }
         }
        },
        "title": {
         "text": "Embedder : Impact of Learning rate on the Minimum validation loss"
        },
        "xaxis": {
         "domain": [
          0,
          1
         ],
         "title": {
          "text": "Learning Rate"
         },
         "type": "category"
        },
        "yaxis": {
         "title": {
          "text": "Validation Loss Value (min)"
         }
        }
       }
      }
     },
     "metadata": {},
     "output_type": "display_data"
    }
   ],
   "source": [
    "fig = go.Figure(layout = {\n",
    "   \"xaxis\":{\n",
    "       \"domain\" : [0,1],\n",
    "       \"type\" : \"category\",\n",
    "        # \"categoryorder\" : \"median ascending\",\n",
    "       \"title\" : \"Learning Rate\"\n",
    "    },\n",
    "   \"yaxis\":{\"title\" : \"Validation Loss Value (min)\"},\n",
    "   \"title\" : {\"text\" : \"Embedder : Impact of Learning rate on the Minimum validation loss\"},\n",
    "})\n",
    "fig.add_trace( go.Box(\n",
    "                x = results[\"embeddingmodel_output\"], \n",
    "                y = results[\"min_valid_loss\"],\n",
    "                xaxis='x',\n",
    "                name = \"Validation\"\n",
    "))\n",
    "\n",
    "fig"
   ]
  },
  {
   "cell_type": "code",
   "execution_count": null,
   "metadata": {},
   "outputs": [],
   "source": []
  }
 ],
 "metadata": {
  "kernelspec": {
   "display_name": "AT-dev-model",
   "language": "python",
   "name": "python3"
  },
  "language_info": {
   "codemirror_mode": {
    "name": "ipython",
    "version": 3
   },
   "file_extension": ".py",
   "mimetype": "text/x-python",
   "name": "python",
   "nbconvert_exporter": "python",
   "pygments_lexer": "ipython3",
   "version": "3.11.9"
  }
 },
 "nbformat": 4,
 "nbformat_minor": 2
}
