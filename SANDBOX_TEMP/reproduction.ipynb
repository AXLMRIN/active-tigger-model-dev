{
 "cells": [
  {
   "cell_type": "code",
   "execution_count": 1,
   "metadata": {},
   "outputs": [],
   "source": [
    "# [5e-6, 1e-5, 2e-5, 5e-5]\n",
    "learning_rate = 5e-6"
   ]
  },
  {
   "cell_type": "code",
   "execution_count": 2,
   "metadata": {},
   "outputs": [
    {
     "name": "stderr",
     "output_type": "stream",
     "text": [
      "/opt/miniconda3/envs/AT-MODEL/lib/python3.11/site-packages/tqdm/auto.py:21: TqdmWarning: IProgress not found. Please update jupyter and ipywidgets. See https://ipywidgets.readthedocs.io/en/stable/user_install.html\n",
      "  from .autonotebook import tqdm as notebook_tqdm\n",
      "Some weights of BertForSequenceClassification were not initialized from the model checkpoint at google-bert/bert-base-uncased and are newly initialized: ['classifier.bias', 'classifier.weight']\n",
      "You should probably TRAIN this model on a down-stream task to be able to use it for predictions and inference.\n",
      "Map: 100%|██████████| 1260/1260 [00:00<00:00, 82873.19 examples/s]\n",
      "Map: 100%|██████████| 270/270 [00:00<00:00, 66017.38 examples/s]\n",
      "Map: 100%|██████████| 270/270 [00:00<00:00, 87740.15 examples/s]\n",
      "Saving the dataset (1/1 shards): 100%|██████████| 20/20 [00:00<00:00, 2140.17 examples/s]\n",
      "Saving the dataset (1/1 shards): 100%|██████████| 20/20 [00:00<00:00, 3547.28 examples/s]\n",
      "Saving the dataset (1/1 shards): 100%|██████████| 270/270 [00:00<00:00, 38385.94 examples/s]\n"
     ]
    }
   ],
   "source": [
    "from transformer_class import dataset, transformer\n",
    "\n",
    "ds = dataset(\"../dataUNSAFE/ibc.csv\",col_text = \"sentence\", col_label = \"leaning\")\n",
    "tr = transformer(ds, \"google-bert/bert-base-uncased\")\n",
    "\n",
    "def preprocess(batch_of_rows : dict):\n",
    "    \"\"\"For now we only uncapitalised the sentences\"\"\"\n",
    "    batch_of_rows[\"text\"] = [sentence.lower() \n",
    "                                for sentence in batch_of_rows[\"text\"]]\n",
    "    return batch_of_rows\n",
    "\n",
    "tr.preprocess(preprocess)\n",
    "tr.encode()\n",
    "\n",
    "tr.training_args.disable_tqdm = False\n",
    "tr.training_args.output_dir = f\"./2025-05-05-{tr.model_name}-{learning_rate}\"\n",
    "tr.encoded_dataset.save_to_disk(f\"{tr.training_args.output_dir}-data\")"
   ]
  },
  {
   "cell_type": "code",
   "execution_count": 3,
   "metadata": {},
   "outputs": [
    {
     "data": {
      "text/html": [
       "\n",
       "    <div>\n",
       "      \n",
       "      <progress value='5' max='5' style='width:300px; height:20px; vertical-align: middle;'></progress>\n",
       "      [5/5 00:19, Epoch 5/5]\n",
       "    </div>\n",
       "    <table border=\"1\" class=\"dataframe\">\n",
       "  <thead>\n",
       " <tr style=\"text-align: left;\">\n",
       "      <th>Epoch</th>\n",
       "      <th>Training Loss</th>\n",
       "      <th>Validation Loss</th>\n",
       "      <th>F1 Micro</th>\n",
       "      <th>F1 Macro</th>\n",
       "      <th>Roc Auc</th>\n",
       "      <th>Accuracy</th>\n",
       "    </tr>\n",
       "  </thead>\n",
       "  <tbody>\n",
       "    <tr>\n",
       "      <td>1</td>\n",
       "      <td>0.255800</td>\n",
       "      <td>0.668279</td>\n",
       "      <td>0.536585</td>\n",
       "      <td>0.321429</td>\n",
       "      <td>0.650000</td>\n",
       "      <td>0.450000</td>\n",
       "    </tr>\n",
       "    <tr>\n",
       "      <td>2</td>\n",
       "      <td>0.252200</td>\n",
       "      <td>0.661790</td>\n",
       "      <td>0.540541</td>\n",
       "      <td>0.246914</td>\n",
       "      <td>0.662500</td>\n",
       "      <td>0.500000</td>\n",
       "    </tr>\n",
       "    <tr>\n",
       "      <td>3</td>\n",
       "      <td>0.249700</td>\n",
       "      <td>0.657808</td>\n",
       "      <td>0.484848</td>\n",
       "      <td>0.231884</td>\n",
       "      <td>0.637500</td>\n",
       "      <td>0.400000</td>\n",
       "    </tr>\n",
       "    <tr>\n",
       "      <td>4</td>\n",
       "      <td>0.235300</td>\n",
       "      <td>0.654828</td>\n",
       "      <td>0.451613</td>\n",
       "      <td>0.222222</td>\n",
       "      <td>0.625000</td>\n",
       "      <td>0.350000</td>\n",
       "    </tr>\n",
       "    <tr>\n",
       "      <td>5</td>\n",
       "      <td>0.239800</td>\n",
       "      <td>0.653271</td>\n",
       "      <td>0.400000</td>\n",
       "      <td>0.200000</td>\n",
       "      <td>0.600000</td>\n",
       "      <td>0.300000</td>\n",
       "    </tr>\n",
       "  </tbody>\n",
       "</table><p>"
      ],
      "text/plain": [
       "<IPython.core.display.HTML object>"
      ]
     },
     "metadata": {},
     "output_type": "display_data"
    },
    {
     "data": {
      "text/plain": [
       "TrainOutput(global_step=5, training_loss=0.24657208621501922, metrics={'train_runtime': 22.7926, 'train_samples_per_second': 4.387, 'train_steps_per_second': 0.219, 'total_flos': 6577835443200.0, 'train_loss': 0.24657208621501922, 'epoch': 5.0})"
      ]
     },
     "execution_count": 3,
     "metadata": {},
     "output_type": "execute_result"
    }
   ],
   "source": [
    "tr.train()"
   ]
  }
 ],
 "metadata": {
  "kernelspec": {
   "display_name": "AT-MODEL",
   "language": "python",
   "name": "python3"
  },
  "language_info": {
   "codemirror_mode": {
    "name": "ipython",
    "version": 3
   },
   "file_extension": ".py",
   "mimetype": "text/x-python",
   "name": "python",
   "nbconvert_exporter": "python",
   "pygments_lexer": "ipython3",
   "version": "3.11.11"
  }
 },
 "nbformat": 4,
 "nbformat_minor": 2
}
