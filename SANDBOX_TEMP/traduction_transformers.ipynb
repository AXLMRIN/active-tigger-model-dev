{
 "cells": [
  {
   "cell_type": "code",
   "execution_count": 17,
   "metadata": {},
   "outputs": [
    {
     "name": "stdout",
     "output_type": "stream",
     "text": [
      "leaning\n",
      "Conservative    1701\n",
      "Liberal         2025\n",
      "Neutral          600\n",
      "dtype: int64\n"
     ]
    },
    {
     "name": "stderr",
     "output_type": "stream",
     "text": [
      "Map: 100%|██████████| 1200/1200 [00:00<00:00, 129547.12 examples/s]\n",
      "Map: 100%|██████████| 300/300 [00:00<00:00, 83385.77 examples/s]\n",
      "Map: 100%|██████████| 300/300 [00:00<00:00, 76260.07 examples/s]\n"
     ]
    }
   ],
   "source": [
    "from datasets import Dataset, DatasetDict\n",
    "import pandas as pd\n",
    "from random import shuffle\n",
    "\n",
    "model_name = \"google-bert/bert-base-uncased\"\n",
    "# Load and shuffle\n",
    "df = pd.read_csv(\"../../dataUNSAFE/ibc.csv\").sample(frac = 1)\n",
    "\n",
    "# Group per label\n",
    "grouped = df.groupby(\"leaning\")\n",
    "print(grouped.size())\n",
    "\n",
    "# Number of element to keep per label\n",
    "N_train = 400 \n",
    "N_eval = 100\n",
    "N_test = 100\n",
    "\n",
    "LABEL2ID = {}\n",
    "ID2LABEL = {}\n",
    "LABEL = []\n",
    "for id, (label, _) in enumerate(grouped):\n",
    "    LABEL2ID[label] = id\n",
    "    ID2LABEL[id] = label\n",
    "    LABEL.append(label)\n",
    "\n",
    "N_LABEL = len(LABEL2ID)\n",
    "\n",
    "def concat_shuffle(start,finish):\n",
    "    return pd.concat([grouped.get_group(label)[start:finish]\n",
    "                        for label in LABEL2ID]).\\\n",
    "                sample(frac = 1)\n",
    "\n",
    "\n",
    "dataset = DatasetDict({\n",
    "    \"train\" : Dataset.from_pandas(concat_shuffle(0,N_train)),\n",
    "    \"eval\" : Dataset.from_pandas(concat_shuffle(N_train, N_train + N_eval)),\n",
    "    \"test\" : Dataset.from_pandas(concat_shuffle(N_train + N_eval,N_train + N_eval + N_test))\n",
    "})\n",
    "\n",
    "def preprocess(batch_of_rows : dict):\n",
    "    \"\"\"For now we only uncapitalised the sentences\"\"\"\n",
    "    batch_of_rows[\"sentence\"] = [sentence.lower() \n",
    "                                 for sentence in batch_of_rows[\"sentence\"]]\n",
    "    batch_of_rows[\"leaning\"] = [LABEL2ID[leaning] \n",
    "                                for leaning in batch_of_rows[\"leaning\"]]\n",
    "    for label in LABEL2ID:\n",
    "        batch_of_rows[label] = [LABEL2ID[label] == leaning_id\n",
    "                                for leaning_id in batch_of_rows[\"leaning\"]]\n",
    "    return batch_of_rows\n",
    "\n",
    "dataset[\"train\"] = dataset[\"train\"].map(preprocess, batched = True, batch_size = 64)\n",
    "dataset[\"eval\"] = dataset[\"eval\"].map(preprocess, batched = True, batch_size = 64)\n",
    "dataset[\"test\"] = dataset[\"test\"].map(preprocess, batched = True, batch_size = 64)"
   ]
  },
  {
   "cell_type": "code",
   "execution_count": 18,
   "metadata": {},
   "outputs": [
    {
     "name": "stderr",
     "output_type": "stream",
     "text": [
      "Map: 100%|██████████| 1200/1200 [00:00<00:00, 18135.90 examples/s]\n",
      "Map: 100%|██████████| 300/300 [00:00<00:00, 18465.99 examples/s]\n",
      "Map: 100%|██████████| 300/300 [00:00<00:00, 18539.18 examples/s]\n"
     ]
    }
   ],
   "source": [
    "from transformers.tokenization_utils_base import BatchEncoding\n",
    "from transformers.models.bert.tokenization_bert_fast import BertTokenizerFast\n",
    "from datasets.formatting.formatting import LazyBatch\n",
    "from transformers import AutoTokenizer\n",
    "import numpy as np \n",
    "\n",
    "def preprocess_data(batch_of_rows : LazyBatch, tokenizer : BertTokenizerFast,\n",
    "         labels : list[int], label2id : dict[str:int],\n",
    "         sentence_column : str = \"Tweet\",) -> BatchEncoding:\n",
    "    # Takes in a batch of rows (as a : LazyBatch ~ dataframe ish) \n",
    "    \n",
    "    # collect the text and tokenize it \n",
    "    text = batch_of_rows[sentence_column]\n",
    "    encoding : BatchEncoding = tokenizer(\n",
    "        text, padding = \"max_length\", truncation = True, max_length = 128 \n",
    "    )\n",
    "    # Create a mattrix collecting all the metadata (emotions associated to the \n",
    "    # tweet)\n",
    "    labels_matrix = np.zeros((len(text), len(labels)))\n",
    "    for label in label2id:\n",
    "        labels_matrix[:,label2id[label]] = batch_of_rows[label]\n",
    "\n",
    "    # Associate the metadata to the encodings\n",
    "    encoding[\"labels\"] = labels_matrix.tolist()\n",
    "    return encoding\n",
    "\n",
    "tokenizer = AutoTokenizer.from_pretrained(model_name)\n",
    "\n",
    "encoded_dataset = dataset.map(\n",
    "    lambda batch_of_rows : preprocess_data(batch_of_rows,tokenizer, LABEL, LABEL2ID,\n",
    "        sentence_column = \"sentence\"), \n",
    "    batched = True, remove_columns=dataset[\"train\"].column_names\n",
    ")"
   ]
  },
  {
   "cell_type": "code",
   "execution_count": 19,
   "metadata": {},
   "outputs": [
    {
     "name": "stderr",
     "output_type": "stream",
     "text": [
      "Some weights of BertForSequenceClassification were not initialized from the model checkpoint at google-bert/bert-base-uncased and are newly initialized: ['classifier.bias', 'classifier.weight']\n",
      "You should probably TRAIN this model on a down-stream task to be able to use it for predictions and inference.\n"
     ]
    }
   ],
   "source": [
    "from transformers import AutoModelForSequenceClassification, AutoConfig\n",
    "\n",
    "model = AutoModelForSequenceClassification.from_pretrained(\n",
    "    model_name,\n",
    "    problem_type = \"multi_label_classification\", \n",
    "    num_labels = N_LABEL,\n",
    "    id2label = ID2LABEL, label2id = LABEL2ID\n",
    "    )\n",
    "tokenizer = AutoTokenizer.from_pretrained(model_name)"
   ]
  },
  {
   "cell_type": "code",
   "execution_count": 20,
   "metadata": {},
   "outputs": [],
   "source": [
    "from transformers import TrainingArguments, Trainer\n",
    "\n",
    "\n",
    "total_per_batch = 64\n",
    "batch_size_device = 8\n",
    "metric_name = \"f1\"\n",
    "training_args = TrainingArguments(\n",
    "    num_train_epochs=10,\n",
    "    bf16=True,\n",
    "    # Hyperparameters\n",
    "    learning_rate=2e-5,\n",
    "    # optim_args = {}\n",
    "    weight_decay=0.01,\n",
    "    warmup_ratio = 0.1,\n",
    "    # Second order hyperparameters\n",
    "    per_device_train_batch_size = batch_size_device,\n",
    "    per_device_eval_batch_size = batch_size_device,\n",
    "    gradient_accumulation_steps = int(total_per_batch/ batch_size_device),\n",
    "    optim = \"adamw_torch\",\n",
    "    # Metrics\n",
    "    metric_for_best_model=metric_name,\n",
    "    # Pipe\n",
    "    output_dir = \"2025-04-23-bert-GA\",\n",
    "    overwrite_output_dir=True,\n",
    "    eval_strategy = \"epoch\",\n",
    "    logging_strategy = \"epoch\",\n",
    "    save_strategy = \"epoch\",\n",
    "    torch_empty_cache_steps = int(len(dataset[\"train\"]) / batch_size_device),\n",
    "    load_best_model_at_end=True,\n",
    "    save_total_limit = 1,\n",
    "\n",
    "    disable_tqdm = True\n",
    ")\n",
    "    "
   ]
  },
  {
   "cell_type": "code",
   "execution_count": 21,
   "metadata": {},
   "outputs": [],
   "source": [
    "from sklearn.metrics import f1_score, roc_auc_score, accuracy_score\n",
    "from torch import Tensor\n",
    "from torch.nn import Sigmoid\n",
    "from transformers import EvalPrediction\n",
    "\n",
    "# source: https://jesusleal.io/2021/04/21/Longformer-multilabel-classification/ \n",
    "def multi_label_metrics(results_matrix, labels : Tensor, threshold : float = 0.5\n",
    "                        ) -> dict:\n",
    "    '''Taking a results matrix (batch_size x num_labels), the function (with a \n",
    "    threshold) associates labels to the results => y_pred\n",
    "    From this y_pred matrix, evaluate the f1_micro, roc_auc and accuracy metrics\n",
    "    '''\n",
    "    # first, apply sigmoid on predictions which are of shape (batch_size, num_labels)\n",
    "    sigmoid = Sigmoid()\n",
    "    probs = sigmoid(Tensor(results_matrix))\n",
    "    # next, use threshold to turn them into integer predictions\n",
    "    y_pred = np.zeros(probs.shape)\n",
    "    y_pred[np.where(probs >= threshold)] = 1\n",
    "    # finally, compute metrics\n",
    "    y_true = labels\n",
    "    f1_micro_average = f1_score(y_true=y_true, y_pred=y_pred, average='micro')\n",
    "    roc_auc = roc_auc_score(y_true, y_pred, average = 'micro')\n",
    "    accuracy = accuracy_score(y_true, y_pred)\n",
    "    # return as dictionary\n",
    "    return {'f1': f1_micro_average,\n",
    "             'roc_auc': roc_auc,\n",
    "             'accuracy': accuracy}\n",
    "\n",
    "def compute_metrics(model_output: EvalPrediction):\n",
    "    if isinstance(model_output.predictions,tuple):\n",
    "        results_matrix = model_output.predictions[0]\n",
    "    else:\n",
    "        results_matrix = model_output.predictions\n",
    "\n",
    "    metrics = multi_label_metrics(results_matrix=results_matrix, \n",
    "        labels=model_output.label_ids)\n",
    "    return metrics"
   ]
  },
  {
   "cell_type": "code",
   "execution_count": 22,
   "metadata": {},
   "outputs": [],
   "source": [
    "# Debug\n",
    "encoded_dataset[\"train\"] = encoded_dataset[\"train\"].select(range(20))\n",
    "encoded_dataset[\"eval\"] = encoded_dataset[\"eval\"].select(range(20))"
   ]
  },
  {
   "cell_type": "code",
   "execution_count": 23,
   "metadata": {},
   "outputs": [],
   "source": [
    "trainer = Trainer(\n",
    "    model = model,\n",
    "    args = training_args,\n",
    "    train_dataset = encoded_dataset[\"train\"],\n",
    "    eval_dataset = encoded_dataset[\"eval\"],\n",
    "    compute_metrics = compute_metrics,\n",
    "    # optimizers = \n",
    ")"
   ]
  },
  {
   "cell_type": "code",
   "execution_count": 24,
   "metadata": {},
   "outputs": [
    {
     "data": {
      "text/html": [
       "\n",
       "    <div>\n",
       "      \n",
       "      <progress value='10' max='10' style='width:300px; height:20px; vertical-align: middle;'></progress>\n",
       "      [10/10 00:37, Epoch 10/10]\n",
       "    </div>\n",
       "    <table border=\"1\" class=\"dataframe\">\n",
       "  <thead>\n",
       " <tr style=\"text-align: left;\">\n",
       "      <th>Epoch</th>\n",
       "      <th>Training Loss</th>\n",
       "      <th>Validation Loss</th>\n",
       "      <th>F1</th>\n",
       "      <th>Roc Auc</th>\n",
       "      <th>Accuracy</th>\n",
       "    </tr>\n",
       "  </thead>\n",
       "  <tbody>\n",
       "    <tr>\n",
       "      <td>1</td>\n",
       "      <td>0.279600</td>\n",
       "      <td>0.737461</td>\n",
       "      <td>0.450704</td>\n",
       "      <td>0.462500</td>\n",
       "      <td>0.000000</td>\n",
       "    </tr>\n",
       "    <tr>\n",
       "      <td>2</td>\n",
       "      <td>0.283500</td>\n",
       "      <td>0.717140</td>\n",
       "      <td>0.413793</td>\n",
       "      <td>0.475000</td>\n",
       "      <td>0.050000</td>\n",
       "    </tr>\n",
       "    <tr>\n",
       "      <td>3</td>\n",
       "      <td>0.264700</td>\n",
       "      <td>0.703292</td>\n",
       "      <td>0.464286</td>\n",
       "      <td>0.537500</td>\n",
       "      <td>0.050000</td>\n",
       "    </tr>\n",
       "    <tr>\n",
       "      <td>4</td>\n",
       "      <td>0.255500</td>\n",
       "      <td>0.692904</td>\n",
       "      <td>0.472727</td>\n",
       "      <td>0.550000</td>\n",
       "      <td>0.050000</td>\n",
       "    </tr>\n",
       "    <tr>\n",
       "      <td>5</td>\n",
       "      <td>0.253300</td>\n",
       "      <td>0.684387</td>\n",
       "      <td>0.436364</td>\n",
       "      <td>0.512500</td>\n",
       "      <td>0.000000</td>\n",
       "    </tr>\n",
       "    <tr>\n",
       "      <td>6</td>\n",
       "      <td>0.244900</td>\n",
       "      <td>0.677615</td>\n",
       "      <td>0.452830</td>\n",
       "      <td>0.537500</td>\n",
       "      <td>0.050000</td>\n",
       "    </tr>\n",
       "    <tr>\n",
       "      <td>7</td>\n",
       "      <td>0.246700</td>\n",
       "      <td>0.672308</td>\n",
       "      <td>0.511628</td>\n",
       "      <td>0.625000</td>\n",
       "      <td>0.300000</td>\n",
       "    </tr>\n",
       "    <tr>\n",
       "      <td>8</td>\n",
       "      <td>0.234900</td>\n",
       "      <td>0.668420</td>\n",
       "      <td>0.526316</td>\n",
       "      <td>0.650000</td>\n",
       "      <td>0.450000</td>\n",
       "    </tr>\n",
       "    <tr>\n",
       "      <td>9</td>\n",
       "      <td>0.229000</td>\n",
       "      <td>0.665919</td>\n",
       "      <td>0.526316</td>\n",
       "      <td>0.650000</td>\n",
       "      <td>0.450000</td>\n",
       "    </tr>\n",
       "    <tr>\n",
       "      <td>10</td>\n",
       "      <td>0.233100</td>\n",
       "      <td>0.664689</td>\n",
       "      <td>0.486486</td>\n",
       "      <td>0.625000</td>\n",
       "      <td>0.400000</td>\n",
       "    </tr>\n",
       "  </tbody>\n",
       "</table><p>"
      ],
      "text/plain": [
       "<IPython.core.display.HTML object>"
      ]
     },
     "metadata": {},
     "output_type": "display_data"
    }
   ],
   "source": [
    "train_output = trainer.train()"
   ]
  },
  {
   "cell_type": "code",
   "execution_count": 26,
   "metadata": {},
   "outputs": [
    {
     "data": {
      "text/plain": [
       "transformers.trainer_utils.TrainOutput"
      ]
     },
     "execution_count": 26,
     "metadata": {},
     "output_type": "execute_result"
    }
   ],
   "source": [
    "type(train_output)"
   ]
  },
  {
   "cell_type": "code",
   "execution_count": 1,
   "metadata": {},
   "outputs": [
    {
     "name": "stderr",
     "output_type": "stream",
     "text": [
      "/opt/miniconda3/envs/AT-MODEL/lib/python3.11/site-packages/tqdm/auto.py:21: TqdmWarning: IProgress not found. Please update jupyter and ipywidgets. See https://ipywidgets.readthedocs.io/en/stable/user_install.html\n",
      "  from .autonotebook import tqdm as notebook_tqdm\n"
     ]
    }
   ],
   "source": [
    "from transformer_class import dataset, transformer\n",
    "\n",
    "ds = dataset(\"../../data/316_ideological_book_corpus/ibc.csv\", \"sentence\", \"leaning\")"
   ]
  },
  {
   "cell_type": "code",
   "execution_count": 2,
   "metadata": {},
   "outputs": [
    {
     "name": "stderr",
     "output_type": "stream",
     "text": [
      "Some weights of BertForSequenceClassification were not initialized from the model checkpoint at google-bert/bert-base-uncased and are newly initialized: ['classifier.bias', 'classifier.weight']\n",
      "You should probably TRAIN this model on a down-stream task to be able to use it for predictions and inference.\n"
     ]
    }
   ],
   "source": [
    "tr = transformer(ds, \"google-bert/bert-base-uncased\")"
   ]
  },
  {
   "cell_type": "code",
   "execution_count": 3,
   "metadata": {},
   "outputs": [],
   "source": [
    "tr.encode()"
   ]
  },
  {
   "cell_type": "code",
   "execution_count": 16,
   "metadata": {},
   "outputs": [
    {
     "data": {
      "text/plain": [
       "list"
      ]
     },
     "execution_count": 16,
     "metadata": {},
     "output_type": "execute_result"
    }
   ],
   "source": [
    "tr.encoded_dataset[\"train\"][\"labels\"]"
   ]
  },
  {
   "cell_type": "code",
   "execution_count": null,
   "metadata": {},
   "outputs": [],
   "source": []
  }
 ],
 "metadata": {
  "kernelspec": {
   "display_name": "AT-dev-model",
   "language": "python",
   "name": "python3"
  },
  "language_info": {
   "codemirror_mode": {
    "name": "ipython",
    "version": 3
   },
   "file_extension": ".py",
   "mimetype": "text/x-python",
   "name": "python",
   "nbconvert_exporter": "python",
   "pygments_lexer": "ipython3",
   "version": "3.11.11"
  }
 },
 "nbformat": 4,
 "nbformat_minor": 2
}
